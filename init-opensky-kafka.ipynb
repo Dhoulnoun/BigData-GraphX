{
 "cells": [
  {
   "cell_type": "markdown",
   "id": "8bf2de0c44849787",
   "metadata": {},
   "source": [
    "# Imports"
   ]
  },
  {
   "cell_type": "markdown",
   "id": "2bec3655",
   "metadata": {},
   "source": [
    "Penser a copier le .env dans `jupyter:/home/jovyan/.env`\n",
    "\n",
    "Formalisme du fichier .env\n",
    "\n",
    "OPENSKY_USERNAME=<mon_user>\n",
    "\n",
    "OPENSKY_PASSWORD=<mon_pwd>"
   ]
  },
  {
   "cell_type": "code",
   "id": "d8b62deed7a1ef97",
   "metadata": {
    "ExecuteTime": {
     "end_time": "2025-02-21T19:33:30.682687Z",
     "start_time": "2025-02-21T19:33:29.485959Z"
    }
   },
   "source": "!pip install python-dotenv",
   "outputs": [
    {
     "name": "stdout",
     "output_type": "stream",
     "text": [
      "Requirement already satisfied: python-dotenv in /opt/conda/lib/python3.12/site-packages (1.0.1)\r\n"
     ]
    }
   ],
   "execution_count": 2
  },
  {
   "cell_type": "code",
   "id": "cad261c0c9795dc9",
   "metadata": {
    "ExecuteTime": {
     "end_time": "2025-02-21T20:30:10.164617Z",
     "start_time": "2025-02-21T20:30:10.162250Z"
    }
   },
   "source": [
    "import requests\n",
    "from kafka import KafkaProducer\n",
    "import json\n",
    "from datetime import datetime, timedelta\n",
    "from dotenv import load_dotenv\n",
    "import os\n",
    "import time"
   ],
   "outputs": [],
   "execution_count": 47
  },
  {
   "cell_type": "code",
   "id": "17188c4d44d9a8d0",
   "metadata": {
    "ExecuteTime": {
     "end_time": "2025-02-21T20:30:10.486655Z",
     "start_time": "2025-02-21T20:30:10.483130Z"
    }
   },
   "source": [
    "# Charger les variables d'environnement depuis le fichier .env copié dans le conteneur\n",
    "load_dotenv('/home/jovyan/.env')\n",
    "\n",
    "# Configuration de l'API OpenSky\n",
    "OPENSKY_ALL_FLIGHTS_URL = \"https://opensky-network.org/api/flights/all?begin={}&end={}\"\n",
    "OPENSKY_ALL_STATES_URL = \"https://opensky-network.org/api/states/all\"\n",
    "OPENSKY_ARRIVAL_URL = \"https://opensky-network.org/api/flights/arrival?airport={}&begin={}&end={}\"\n",
    "USERNAME = os.environ.get('OPENSKY_USERNAME')\n",
    "PASSWORD = os.environ.get('OPENSKY_PASSWORD')"
   ],
   "outputs": [],
   "execution_count": 48
  },
  {
   "cell_type": "markdown",
   "id": "790a6a02d15b132d",
   "metadata": {
    "ExecuteTime": {
     "end_time": "2025-02-17T13:20:30.759039Z",
     "start_time": "2025-02-17T13:20:30.755293Z"
    }
   },
   "source": [
    "# Fonction pour envoyer les données OpenSky à Kafka"
   ]
  },
  {
   "cell_type": "code",
   "id": "713a70e9",
   "metadata": {
    "ExecuteTime": {
     "end_time": "2025-02-21T20:30:10.950092Z",
     "start_time": "2025-02-21T20:30:10.844294Z"
    }
   },
   "source": [
    "# Kafka configuration\n",
    "kafka_config = {\n",
    "    'bootstrap_servers': 'kafka1:9092',  # Update with your Kafka broker\n",
    "}\n",
    "\n",
    "# Initialize Kafka Producer\n",
    "producer = KafkaProducer(\n",
    "    bootstrap_servers=kafka_config['bootstrap_servers'],\n",
    "    value_serializer=lambda v: json.dumps(v).encode('utf-8')\n",
    ")\n"
   ],
   "outputs": [],
   "execution_count": 49
  },
  {
   "cell_type": "code",
   "id": "initial_id",
   "metadata": {
    "collapsed": true,
    "ExecuteTime": {
     "end_time": "2025-02-21T20:30:11.278392Z",
     "start_time": "2025-02-21T20:30:11.274181Z"
    }
   },
   "source": [
    "\n",
    "def send_opensky_to_kafka(topic, url, username, password):\n",
    "    # Fetch data from OpenSky\n",
    "    response = requests.get(url, auth=(username, password))\n",
    "\n",
    "    if response.status_code == 200:\n",
    "        data = response.json()\n",
    "        if isinstance(data, list) and len(data) > 0 and isinstance(data[0], dict):\n",
    "            flights = [item for item in data if 'icao24' in item]\n",
    "        else:\n",
    "            flights = []\n",
    "\n",
    "\n",
    "        # Publish each state to Kafka\n",
    "        for flight in flights:\n",
    "            producer.send(topic, value=flight)\n",
    "            #print(f\"Sent: {flight}\")\n",
    "\n",
    "        # Ensure all messages are sent\n",
    "        producer.flush()\n",
    "        print(f\"Sent {len(flights)} records.\")\n",
    "    else:\n",
    "        print(f\"Failed to fetch data: {response.status_code}\")"
   ],
   "outputs": [],
   "execution_count": 50
  },
  {
   "cell_type": "code",
   "id": "ac6836121e31bada",
   "metadata": {
    "ExecuteTime": {
     "end_time": "2025-02-21T20:30:12.064550Z",
     "start_time": "2025-02-21T20:30:12.061221Z"
    }
   },
   "source": [
    "flights = {\n",
    "    \"icao24\": \"icao24\",\n",
    "    \"firstSeen\": \"firstSeen\",\n",
    "    \"estDepartureAirport\": \"estDepartureAirport\",\n",
    "    \"lastSeen\": \"lastSeen\",\n",
    "    \"estArrivalAirport\": \"estArrivalAirport\",\n",
    "    \"estDepartureAirportHorizDistance\": \"estDepartureAirportHorizDistance\",\n",
    "    \"estDepartureAirportVertDistance\": \"estDepartureAirportVertDistance\",\n",
    "    \"estArrivalAirportHorizDistance\": \"estArrivalAirportHorizDistance\",\n",
    "    \"estArrivalAirportVertDistance\": \"estArrivalAirportVertDistance\",\n",
    "    \"departureAirportCandidatesCount\": \"departureAirportCandidatesCount\",\n",
    "    \"arrivalAirportCandidatesCount\": \"arrivalAirportCandidatesCount\",\n",
    "}\n",
    "\n",
    "states = {\n",
    "    \"icao24\": \"icao24\",\n",
    "    \"callsign\": \"callsign\",\n",
    "    \"origin_country\": \"origin_country\",\n",
    "    \"time_position\": \"time_position\",\n",
    "    \"last_contact\": \"last_contact\",\n",
    "    \"longitude\": \"longitude\",\n",
    "    \"latitude\": \"latitude\",\n",
    "    \"baro_altitude\": \"baro_altitude\",\n",
    "    \"on_ground\": \"on_ground\",\n",
    "    \"velocity\": \"velocity\",\n",
    "    \"true_track\": \"true_track\",\n",
    "    \"vertical_rate\": \"vertical_rate\",\n",
    "    \"sensors\": \"sensors\",\n",
    "    \"geo_altitude\": \"geo_altitude\",\n",
    "    \"squawk\": \"squawk\",\n",
    "    \"spi\": \"spi\",\n",
    "    \"position_source\": \"position_source\",\n",
    "    \"category\": \"category\"\n",
    "}\n",
    "\n",
    "# Durée de récupération (minutes)\n",
    "step = 60\n",
    "\n",
    "# date initiale\n",
    "initial_date_str = \"2025-01-25 16:00:00\"\n",
    "\n",
    "date_format = \"%Y-%m-%d %H:%M:%S\"\n",
    "initial_date = datetime.strptime(initial_date_str, date_format)\n",
    "end_date = initial_date + timedelta(minutes=step)\n",
    "\n",
    "\n",
    "start = int(initial_date.timestamp())\n",
    "end = int(end_date.timestamp())\n",
    "\n",
    "\n"
   ],
   "outputs": [],
   "execution_count": 51
  },
  {
   "cell_type": "code",
   "id": "b223396e58c96799",
   "metadata": {
    "ExecuteTime": {
     "end_time": "2025-02-21T19:34:46.870279Z",
     "start_time": "2025-02-21T19:33:45.699780Z"
    }
   },
   "source": [
    "# Send OpenSky data to Kafka\n",
    "\n",
    "for i in range(10):\n",
    "    print(f\"{start}-{end}\")\n",
    "    send_opensky_to_kafka(\"opensky-flights\", OPENSKY_ALL_FLIGHTS_URL.format(start, end), USERNAME, PASSWORD)\n",
    "    time.sleep(5)\n",
    "    initial_date = end_date\n",
    "    end_date = initial_date + timedelta(minutes=step)\n",
    "    start = int(initial_date.timestamp())\n",
    "    end = int(end_date.timestamp())"
   ],
   "outputs": [
    {
     "name": "stdout",
     "output_type": "stream",
     "text": [
      "1737820800-1737824400\n",
      "Sent 1471 records.\n",
      "1737824400-1737828000\n",
      "Sent 1432 records.\n",
      "1737828000-1737831600\n",
      "Sent 1488 records.\n",
      "1737831600-1737835200\n",
      "Sent 1460 records.\n",
      "1737835200-1737838800\n",
      "Sent 1322 records.\n",
      "1737838800-1737842400\n",
      "Sent 1139 records.\n",
      "1737842400-1737846000\n",
      "Sent 1689 records.\n",
      "1737846000-1737849600\n",
      "Failed to fetch data: 404\n",
      "1737849600-1737853200\n",
      "Sent 3352 records.\n",
      "1737853200-1737856800\n",
      "Sent 804 records.\n"
     ]
    }
   ],
   "execution_count": 8
  },
  {
   "cell_type": "code",
   "id": "f645a4b0",
   "metadata": {
    "ExecuteTime": {
     "end_time": "2025-02-21T19:36:40.367682Z",
     "start_time": "2025-02-21T19:35:43.769760Z"
    }
   },
   "source": [
    "# Send arrival to Kafka\n",
    "\n",
    "# Airport code\n",
    "airports = [\"EDDF\", \"EDDM\", \"EDDB\", \"LOWS\", \"LFPG\", \"EHAM\", \"LEMD\", \"LIRF\", \"LEBL\"]\n",
    "\n",
    "today = datetime.now()\n",
    "initial_date = today - timedelta(days=7)\n",
    "start = int(initial_date.timestamp())\n",
    "end = int(today.timestamp())\n",
    "\n",
    "for airport in airports:\n",
    "    print(OPENSKY_ARRIVAL_URL.format(airport, start, end))\n",
    "    send_opensky_to_kafka(\"opensky-arrivals\", OPENSKY_ARRIVAL_URL.format(airport, start, end), USERNAME, PASSWORD)\n",
    "    time.sleep(5)\n",
    "    "
   ],
   "outputs": [
    {
     "name": "stdout",
     "output_type": "stream",
     "text": [
      "https://opensky-network.org/api/flights/arrival?airport=EDDF&begin=1739561743&end=1740166543\n",
      "Sent 3301 records.\n",
      "https://opensky-network.org/api/flights/arrival?airport=EDDM&begin=1739561743&end=1740166543\n",
      "Sent 2506 records.\n",
      "https://opensky-network.org/api/flights/arrival?airport=EDDB&begin=1739561743&end=1740166543\n",
      "Sent 1472 records.\n",
      "https://opensky-network.org/api/flights/arrival?airport=LOWS&begin=1739561743&end=1740166543\n",
      "Sent 311 records.\n",
      "https://opensky-network.org/api/flights/arrival?airport=LFPG&begin=1739561743&end=1740166543\n",
      "Sent 3645 records.\n",
      "https://opensky-network.org/api/flights/arrival?airport=EHAM&begin=1739561743&end=1740166543\n",
      "Sent 3964 records.\n",
      "https://opensky-network.org/api/flights/arrival?airport=LEMD&begin=1739561743&end=1740166543\n",
      "Sent 3431 records.\n",
      "https://opensky-network.org/api/flights/arrival?airport=LIRF&begin=1739561743&end=1740166543\n",
      "Sent 2245 records.\n",
      "https://opensky-network.org/api/flights/arrival?airport=LEBL&begin=1739561743&end=1740166543\n",
      "Sent 2649 records.\n"
     ]
    }
   ],
   "execution_count": 9
  },
  {
   "cell_type": "markdown",
   "id": "1b065fdd",
   "metadata": {},
   "source": [
    "## Envoyer les vols filtrés sur kafka"
   ]
  },
  {
   "cell_type": "code",
   "id": "91febf72",
   "metadata": {
    "ExecuteTime": {
     "end_time": "2025-02-21T20:30:15.181933Z",
     "start_time": "2025-02-21T20:30:15.176091Z"
    }
   },
   "source": [
    "TOPIC_FILTERED_FLIGHTS = \"opensky_filtered_flights\"\n",
    "\n",
    "current_datetime = datetime.timestamp(datetime.now())\n",
    "\n",
    "def send_filtered_flights_data(url, username, password):\n",
    "    \"\"\"Fetch flights for a specific timestamp and send only filtered flights to Kafka.\n",
    "       Uses the flight's callsign as the unique key to allow updating flight data on duplicates.\"\"\"\n",
    "    # Include authentication in the GET request\n",
    "    response = requests.get(url, auth=(username, password))\n",
    "\n",
    "    if response.status_code == 200:\n",
    "        data = response.json()\n",
    "        states = data.get(\"states\", [])\n",
    "\n",
    "        print(\"debug2\")\n",
    "\n",
    "        for state in states:\n",
    "            # Basic check: ensure the state exists and has all required fields\n",
    "            if not state or len(state) < 17:\n",
    "                continue\n",
    "\n",
    "            # Extract and validate required fields\n",
    "            icao24 = state[0]\n",
    "            callsign = state[1].strip() if state[1] and isinstance(state[1], str) else None\n",
    "            origin_country = state[2]\n",
    "            time_position = state[3]\n",
    "            altitude = state[7]\n",
    "\n",
    "            # Skip the record if any of the essential fields are missing or invalid\n",
    "            if not icao24 or not callsign or not origin_country or time_position is None or altitude is None:\n",
    "                continue\n",
    "\n",
    "            # Construct the message dictionary\n",
    "            message = {\n",
    "                \"icao24\": icao24,\n",
    "                \"callsign\": callsign,\n",
    "                \"origin_country\": origin_country,\n",
    "                \"time_position\": time_position,\n",
    "                \"last_contact\": state[4],\n",
    "                \"longitude\": state[5],\n",
    "                \"latitude\": state[6],\n",
    "                \"altitude\": altitude,\n",
    "                \"on_ground\": state[8],\n",
    "                \"velocity\": state[9],\n",
    "                \"heading\": state[10],\n",
    "                \"vertical_rate\": state[11],\n",
    "                \"sensors\": state[12],\n",
    "                \"geo_altitude\": state[13],\n",
    "                \"squawk\": state[14],\n",
    "                \"spi\": state[15],\n",
    "                \"position_source\": state[16]\n",
    "            }\n",
    "\n",
    "            # Use callsign as the key (ensure it's encoded as bytes)\n",
    "            producer.send(TOPIC_FILTERED_FLIGHTS, key=callsign.encode('utf-8'), value=message)\n",
    "            print(f\"Sent to FILTERED_FLIGHTS: {message}\")\n",
    "\n",
    "        producer.flush()\n",
    "        print(f\"Sent {len(states)} records.\")\n",
    "    else:\n",
    "        print(f\"Failed to fetch data: {response.status_code}\")"
   ],
   "outputs": [],
   "execution_count": 52
  },
  {
   "cell_type": "markdown",
   "id": "837fc83d",
   "metadata": {},
   "source": [
    "## Thread qui envoi les donnés à kafka"
   ]
  },
  {
   "cell_type": "code",
   "id": "e3505128",
   "metadata": {
    "ExecuteTime": {
     "end_time": "2025-02-21T20:30:22.023521Z",
     "start_time": "2025-02-21T20:30:22.019052Z"
    }
   },
   "source": [
    "import threading\n",
    "import time\n",
    "\n",
    "# Create a stop flag\n",
    "stop_event = threading.Event()\n",
    "\n",
    "def run_kafka_producer():\n",
    "    \"\"\" Continuously send filtered flight data to Kafka every 30 seconds. \"\"\"\n",
    "    while not stop_event.is_set():\n",
    "        send_filtered_flights_data(OPENSKY_ALL_STATES_URL, USERNAME, PASSWORD)\n",
    "        print(\"Sleeping for 30 seconds...\")\n",
    "        time.sleep(30)\n",
    "\n",
    "# Run the producer in a separate thread\n",
    "producer_thread = threading.Thread(target=run_kafka_producer, daemon=True)\n",
    "producer_thread.start()\n",
    "\n",
    "print(\"Kafka producer is running in the background! Use `stop_kafka_producer()` to stop it.\")"
   ],
   "outputs": [
    {
     "name": "stdout",
     "output_type": "stream",
     "text": [
      "debug0.1\n",
      "Kafka producer is running in the background! Use `stop_kafka_producer()` to stop it.\n"
     ]
    }
   ],
   "execution_count": 54
  },
  {
   "cell_type": "markdown",
   "id": "d5e878ef",
   "metadata": {},
   "source": [
    "## Stop kafka thread"
   ]
  },
  {
   "cell_type": "code",
   "id": "f4887ba4",
   "metadata": {
    "ExecuteTime": {
     "end_time": "2025-02-21T20:38:45.864973Z",
     "start_time": "2025-02-21T20:38:17.215018Z"
    }
   },
   "source": [
    "def stop_kafka_producer():\n",
    "    \"\"\" Stops the Kafka producer thread gracefully. \"\"\"\n",
    "    print(\"Stopping Kafka producer...\")\n",
    "    stop_event.set()  # Set the stop flag\n",
    "    producer_thread.join()  # Wait for the thread to finish\n",
    "    print(\"Kafka producer stopped.\")\n",
    "\n",
    "# Call this function when you want to stop the producer\n",
    "stop_kafka_producer()"
   ],
   "outputs": [
    {
     "name": "stdout",
     "output_type": "stream",
     "text": [
      "Stopping Kafka producer...\n",
      "Kafka producer stopped.\n"
     ]
    }
   ],
   "execution_count": 55
  }
 ],
 "metadata": {
  "kernelspec": {
   "display_name": "Python 3 (ipykernel)",
   "language": "python",
   "name": "python3"
  },
  "language_info": {
   "codemirror_mode": {
    "name": "ipython",
    "version": 3
   },
   "file_extension": ".py",
   "mimetype": "text/x-python",
   "name": "python",
   "nbconvert_exporter": "python",
   "pygments_lexer": "ipython3",
   "version": "3.12.8"
  }
 },
 "nbformat": 4,
 "nbformat_minor": 5
}
