{
 "cells": [
  {
   "metadata": {},
   "cell_type": "markdown",
   "source": "# Imports",
   "id": "8bf2de0c44849787"
  },
  {
   "metadata": {},
   "cell_type": "code",
   "source": "!pip install python-dotenv",
   "id": "d8b62deed7a1ef97",
   "outputs": [],
   "execution_count": null
  },
  {
   "metadata": {
    "ExecuteTime": {
     "end_time": "2025-02-14T17:32:25.242199Z",
     "start_time": "2025-02-14T17:32:24.947944Z"
    }
   },
   "cell_type": "code",
   "source": "!cat /home/jovyan/.env",
   "id": "ba5a572c566af104",
   "outputs": [
    {
     "name": "stdout",
     "output_type": "stream",
     "text": [
      "OPENSKY_USERNAME=NaguiFanAccount\r\n",
      "OPENSKY_PASSWORD=ziarioOSN1&*"
     ]
    }
   ],
   "execution_count": 1
  },
  {
   "cell_type": "code",
   "id": "cad261c0c9795dc9",
   "metadata": {
    "ExecuteTime": {
     "end_time": "2025-02-14T17:35:26.045549Z",
     "start_time": "2025-02-14T17:35:26.041777Z"
    }
   },
   "source": [
    "import requests\n",
    "from kafka import KafkaProducer\n",
    "import json\n",
    "from datetime import datetime, timedelta\n",
    "from dotenv import load_dotenv\n",
    "import os\n",
    "import time"
   ],
   "outputs": [],
   "execution_count": 7
  },
  {
   "metadata": {
    "ExecuteTime": {
     "end_time": "2025-02-14T17:35:26.063286Z",
     "start_time": "2025-02-14T17:35:26.059561Z"
    }
   },
   "cell_type": "code",
   "source": [
    "# Charger les variables d'environnement depuis le fichier .env copié dans le conteneur\n",
    "load_dotenv('/home/jovyan/.env')\n",
    "\n",
    "# Configuration de l'API OpenSky\n",
    "OPENSKY_URL = \"https://opensky-network.org/api/states/all\"\n",
    "USERNAME = os.environ.get('OPENSKY_USERNAME')\n",
    "PASSWORD = os.environ.get('OPENSKY_PASSWORD')"
   ],
   "id": "fd37aad7ee8b1be3",
   "outputs": [],
   "execution_count": 8
  },
  {
   "metadata": {},
   "cell_type": "markdown",
   "source": "# Fonction pour envoyer les données OpenSky à Kafka",
   "id": "790a6a02d15b132d"
  },
  {
   "metadata": {
    "collapsed": true,
    "ExecuteTime": {
     "end_time": "2025-02-14T17:35:26.077224Z",
     "start_time": "2025-02-14T17:35:26.072831Z"
    }
   },
   "cell_type": "code",
   "source": [
    "\n",
    "def send_opensky_to_kafka(topic, url, username, password):\n",
    "    # Kafka configuration\n",
    "    kafka_config = {\n",
    "        'bootstrap_servers': 'kafka1:9092',  # Update with your Kafka broker\n",
    "    }\n",
    "\n",
    "    # Initialize Kafka Producer\n",
    "    producer = KafkaProducer(\n",
    "        bootstrap_servers=kafka_config['bootstrap_servers'],\n",
    "        value_serializer=lambda v: json.dumps(v).encode('utf-8')\n",
    "    )\n",
    "\n",
    "    # Fetch data from OpenSky\n",
    "    response = requests.get(url)\n",
    "\n",
    "    if response.status_code == 200:\n",
    "        data = response.json()\n",
    "        states = data.get(\"states\", [])\n",
    "\n",
    "        # Publish each state to Kafka\n",
    "        for state in states:\n",
    "            producer.send(topic, value=state)\n",
    "            #print(f\"Sent: {state}\")\n",
    "\n",
    "        # Ensure all messages are sent\n",
    "        producer.flush()\n",
    "        print(f\"Sent {len(states)} records.\")\n",
    "    else:\n",
    "        print(f\"Failed to fetch data: {response.status_code}\")"
   ],
   "id": "initial_id",
   "outputs": [],
   "execution_count": 9
  },
  {
   "metadata": {
    "ExecuteTime": {
     "end_time": "2025-02-14T17:35:26.101688Z",
     "start_time": "2025-02-14T17:35:26.097675Z"
    }
   },
   "cell_type": "code",
   "source": [
    "states = {\n",
    "    \"icao24\": \"icao24\",\n",
    "    \"callsign\": \"callsign\",\n",
    "    \"origin_country\": \"origin_country\",\n",
    "    \"time_position\": \"time_position\",\n",
    "    \"last_contact\": \"last_contact\",\n",
    "    \"longitude\": \"longitude\",\n",
    "    \"latitude\": \"latitude\",\n",
    "    \"baro_altitude\": \"baro_altitude\",\n",
    "    \"on_ground\": \"on_ground\",\n",
    "    \"velocity\": \"velocity\",\n",
    "    \"true_track\": \"true_track\",\n",
    "    \"vertical_rate\": \"vertical_rate\",\n",
    "    \"sensors\": \"sensors\",\n",
    "    \"geo_altitude\": \"geo_altitude\",\n",
    "    \"squawk\": \"squawk\",\n",
    "    \"spi\": \"spi\",\n",
    "    \"position_source\": \"position_source\",\n",
    "    \"category\": \"category\"\n",
    "}\n",
    "\n",
    "inital_date_str = \"2025-01-25 16:00:00\"\n",
    "\n",
    "# Durée de récupération (minutes)\n",
    "step = 60\n",
    "\n",
    "# date initiale\n",
    "initial_date_str = \"2025-01-25 16:00:00\"\n",
    "# durée de récupération (minutes)\n",
    "step = 60\n",
    "\n",
    "date_format = \"%Y-%m-%d %H:%M:%S\"\n",
    "initial_date = datetime.strptime(initial_date_str, date_format)\n",
    "end_date = initial_date + timedelta(minutes=step)\n",
    "\n",
    "\n",
    "start = initial_date.strftime(date_format)\n",
    "end = end_date.strftime(date_format)\n",
    "\n",
    "\n"
   ],
   "id": "ac6836121e31bada",
   "outputs": [],
   "execution_count": 10
  },
  {
   "metadata": {
    "ExecuteTime": {
     "end_time": "2025-02-14T17:35:40.028125Z",
     "start_time": "2025-02-14T17:35:26.154854Z"
    }
   },
   "cell_type": "code",
   "source": [
    "# Send OpenSky data to Kafka\n",
    "\n",
    "for i in range(10):\n",
    "    print(f\"{start}-{end}\")\n",
    "    send_opensky_to_kafka(\"opensky-flights\", OPENSKY_URL, USERNAME, PASSWORD)\n",
    "    time.sleep(5)\n",
    "    initial_date = end_date\n",
    "    end_date = initial_date + timedelta(minutes=step)\n",
    "    start = initial_date.strftime(date_format)\n",
    "    end = end_date.strftime(date_format)"
   ],
   "id": "b223396e58c96799",
   "outputs": [
    {
     "name": "stdout",
     "output_type": "stream",
     "text": [
      "2025-01-25 16:00:00-2025-01-25 17:00:00\n",
      "Sent 10817 records.\n",
      "2025-01-25 17:00:00-2025-01-25 18:00:00\n",
      "Sent 10802 records.\n",
      "2025-01-25 18:00:00-2025-01-25 19:00:00\n",
      "Sent 10801 records.\n"
     ]
    },
    {
     "ename": "KeyboardInterrupt",
     "evalue": "",
     "output_type": "error",
     "traceback": [
      "\u001B[0;31m---------------------------------------------------------------------------\u001B[0m",
      "\u001B[0;31mKeyboardInterrupt\u001B[0m                         Traceback (most recent call last)",
      "Cell \u001B[0;32mIn[11], line 6\u001B[0m\n\u001B[1;32m      4\u001B[0m \u001B[38;5;28mprint\u001B[39m(\u001B[38;5;124mf\u001B[39m\u001B[38;5;124m\"\u001B[39m\u001B[38;5;132;01m{\u001B[39;00mstart\u001B[38;5;132;01m}\u001B[39;00m\u001B[38;5;124m-\u001B[39m\u001B[38;5;132;01m{\u001B[39;00mend\u001B[38;5;132;01m}\u001B[39;00m\u001B[38;5;124m\"\u001B[39m)\n\u001B[1;32m      5\u001B[0m send_opensky_to_kafka(\u001B[38;5;124m\"\u001B[39m\u001B[38;5;124mopensky-flights\u001B[39m\u001B[38;5;124m\"\u001B[39m, OPENSKY_URL, USERNAME, PASSWORD)\n\u001B[0;32m----> 6\u001B[0m \u001B[43mtime\u001B[49m\u001B[38;5;241;43m.\u001B[39;49m\u001B[43msleep\u001B[49m\u001B[43m(\u001B[49m\u001B[38;5;241;43m5\u001B[39;49m\u001B[43m)\u001B[49m\n\u001B[1;32m      7\u001B[0m initial_date \u001B[38;5;241m=\u001B[39m end_date\n\u001B[1;32m      8\u001B[0m end_date \u001B[38;5;241m=\u001B[39m initial_date \u001B[38;5;241m+\u001B[39m timedelta(minutes\u001B[38;5;241m=\u001B[39mstep)\n",
      "\u001B[0;31mKeyboardInterrupt\u001B[0m: "
     ]
    }
   ],
   "execution_count": 11
  }
 ],
 "metadata": {
  "kernelspec": {
   "display_name": "Python 3",
   "language": "python",
   "name": "python3"
  },
  "language_info": {
   "codemirror_mode": {
    "name": "ipython",
    "version": 2
   },
   "file_extension": ".py",
   "mimetype": "text/x-python",
   "name": "python",
   "nbconvert_exporter": "python",
   "pygments_lexer": "ipython2",
   "version": "2.7.6"
  }
 },
 "nbformat": 4,
 "nbformat_minor": 5
}
