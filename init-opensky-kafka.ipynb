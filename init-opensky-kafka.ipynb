{
 "cells": [
  {
   "cell_type": "markdown",
   "id": "8bf2de0c44849787",
   "metadata": {},
   "source": [
    "# Imports"
   ]
  },
  {
   "cell_type": "markdown",
   "id": "2bec3655",
   "metadata": {},
   "source": [
    "Penser a copier le .env dans `jupyter:/home/jovyan/.env`\n",
    "\n",
    "Formalisme du fichier .env\n",
    "\n",
    "OPENSKY_USERNAME=<mon_user>\n",
    "\n",
    "OPENSKY_PASSWORD=<mon_pwd>"
   ]
  },
  {
   "cell_type": "code",
   "execution_count": null,
   "id": "d8b62deed7a1ef97",
   "metadata": {
    "ExecuteTime": {
     "end_time": "2025-02-18T09:48:44.169774Z",
     "start_time": "2025-02-18T09:48:42.451817Z"
    }
   },
   "outputs": [],
   "source": [
    "!pip install python-dotenv"
   ]
  },
  {
   "cell_type": "code",
   "execution_count": null,
   "id": "cad261c0c9795dc9",
   "metadata": {
    "ExecuteTime": {
     "end_time": "2025-02-18T12:34:18.753412Z",
     "start_time": "2025-02-18T12:34:18.751098Z"
    }
   },
   "outputs": [],
   "source": [
    "import requests\n",
    "from kafka import KafkaProducer\n",
    "import json\n",
    "from datetime import datetime, timedelta\n",
    "from dotenv import load_dotenv\n",
    "import os\n",
    "import time"
   ]
  },
  {
   "cell_type": "code",
   "execution_count": null,
   "id": "17188c4d44d9a8d0",
   "metadata": {
    "ExecuteTime": {
     "end_time": "2025-02-18T12:34:18.767432Z",
     "start_time": "2025-02-18T12:34:18.762483Z"
    }
   },
   "outputs": [],
   "source": [
    "# Charger les variables d'environnement depuis le fichier .env copié dans le conteneur\n",
    "load_dotenv('/home/jovyan/.env')\n",
    "\n",
    "# Configuration de l'API OpenSky\n",
    "OPENSKY_ALL_FLIGHTS_URL = \"https://opensky-network.org/api/flights/all?begin={}&end={}\"\n",
    "OPENSKY_ALL_STATES_URL = \"https://opensky-network.org/api/states/all\"\n",
    "OPENSKY_ARRIVAL_URL = \"https://opensky-network.org/api/flights/arrival?airport={}&begin={}&end={}\"\n",
    "USERNAME = os.environ.get('OPENSKY_USERNAME')\n",
    "PASSWORD = os.environ.get('OPENSKY_PASSWORD')"
   ]
  },
  {
   "cell_type": "markdown",
   "id": "790a6a02d15b132d",
   "metadata": {
    "ExecuteTime": {
     "end_time": "2025-02-17T13:20:30.759039Z",
     "start_time": "2025-02-17T13:20:30.755293Z"
    }
   },
   "source": [
    "# Fonction pour envoyer les données OpenSky à Kafka"
   ]
  },
  {
   "cell_type": "code",
   "execution_count": null,
   "id": "713a70e9",
   "metadata": {},
   "outputs": [],
   "source": [
    "# Kafka configuration\n",
    "kafka_config = {\n",
    "    'bootstrap_servers': 'kafka1:9092',  # Update with your Kafka broker\n",
    "}\n",
    "\n",
    "# Initialize Kafka Producer\n",
    "producer = KafkaProducer(\n",
    "    bootstrap_servers=kafka_config['bootstrap_servers'],\n",
    "    value_serializer=lambda v: json.dumps(v).encode('utf-8')\n",
    ")\n"
   ]
  },
  {
   "cell_type": "code",
   "execution_count": null,
   "id": "initial_id",
   "metadata": {
    "ExecuteTime": {
     "end_time": "2025-02-18T12:34:18.808962Z",
     "start_time": "2025-02-18T12:34:18.804798Z"
    },
    "collapsed": true
   },
   "outputs": [],
   "source": [
    "\n",
    "def send_opensky_to_kafka(topic, url, username, password):\n",
    "    # Fetch data from OpenSky\n",
    "    response = requests.get(url, auth=(username, password))\n",
    "\n",
    "    if response.status_code == 200:\n",
    "        data = response.json()\n",
    "        if isinstance(data, list) and len(data) > 0 and isinstance(data[0], dict):\n",
    "            flights = [item for item in data if 'icao24' in item]\n",
    "        else:\n",
    "            flights = []\n",
    "\n",
    "\n",
    "        # Publish each state to Kafka\n",
    "        for flight in flights:\n",
    "            producer.send(topic, value=flight)\n",
    "            #print(f\"Sent: {flight}\")\n",
    "\n",
    "        # Ensure all messages are sent\n",
    "        producer.flush()\n",
    "        print(f\"Sent {len(flights)} records.\")\n",
    "    else:\n",
    "        print(f\"Failed to fetch data: {response.status_code}\")"
   ]
  },
  {
   "cell_type": "code",
   "execution_count": null,
   "id": "ac6836121e31bada",
   "metadata": {
    "ExecuteTime": {
     "end_time": "2025-02-18T12:34:18.856869Z",
     "start_time": "2025-02-18T12:34:18.853723Z"
    }
   },
   "outputs": [],
   "source": [
    "flights = {\n",
    "    \"icao24\": \"icao24\",\n",
    "    \"firstSeen\": \"firstSeen\",\n",
    "    \"estDepartureAirport\": \"estDepartureAirport\",\n",
    "    \"lastSeen\": \"lastSeen\",\n",
    "    \"estArrivalAirport\": \"estArrivalAirport\",\n",
    "    \"estDepartureAirportHorizDistance\": \"estDepartureAirportHorizDistance\",\n",
    "    \"estDepartureAirportVertDistance\": \"estDepartureAirportVertDistance\",\n",
    "    \"estArrivalAirportHorizDistance\": \"estArrivalAirportHorizDistance\",\n",
    "    \"estArrivalAirportVertDistance\": \"estArrivalAirportVertDistance\",\n",
    "    \"departureAirportCandidatesCount\": \"departureAirportCandidatesCount\",\n",
    "    \"arrivalAirportCandidatesCount\": \"arrivalAirportCandidatesCount\",\n",
    "}\n",
    "\n",
    "states = {\n",
    "    \"icao24\": \"icao24\",\n",
    "    \"callsign\": \"callsign\",\n",
    "    \"origin_country\": \"origin_country\",\n",
    "    \"time_position\": \"time_position\",\n",
    "    \"last_contact\": \"last_contact\",\n",
    "    \"longitude\": \"longitude\",\n",
    "    \"latitude\": \"latitude\",\n",
    "    \"baro_altitude\": \"baro_altitude\",\n",
    "    \"on_ground\": \"on_ground\",\n",
    "    \"velocity\": \"velocity\",\n",
    "    \"true_track\": \"true_track\",\n",
    "    \"vertical_rate\": \"vertical_rate\",\n",
    "    \"sensors\": \"sensors\",\n",
    "    \"geo_altitude\": \"geo_altitude\",\n",
    "    \"squawk\": \"squawk\",\n",
    "    \"spi\": \"spi\",\n",
    "    \"position_source\": \"position_source\",\n",
    "    \"category\": \"category\"\n",
    "}\n",
    "\n",
    "# Durée de récupération (minutes)\n",
    "step = 60\n",
    "\n",
    "# date initiale\n",
    "initial_date_str = \"2025-01-25 16:00:00\"\n",
    "\n",
    "date_format = \"%Y-%m-%d %H:%M:%S\"\n",
    "initial_date = datetime.strptime(initial_date_str, date_format)\n",
    "end_date = initial_date + timedelta(minutes=step)\n",
    "\n",
    "\n",
    "start = int(initial_date.timestamp())\n",
    "end = int(end_date.timestamp())\n",
    "\n",
    "\n"
   ]
  },
  {
   "cell_type": "code",
   "execution_count": null,
   "id": "b223396e58c96799",
   "metadata": {
    "ExecuteTime": {
     "end_time": "2025-02-18T12:35:19.131030Z",
     "start_time": "2025-02-18T12:34:18.866073Z"
    }
   },
   "outputs": [],
   "source": [
    "# Send OpenSky data to Kafka\n",
    "\n",
    "for i in range(10):\n",
    "    print(f\"{start}-{end}\")\n",
    "    send_opensky_to_kafka(\"opensky-flights\", OPENSKY_ALL_FLIGHTS_URL.format(start, end), USERNAME, PASSWORD)\n",
    "    time.sleep(5)\n",
    "    initial_date = end_date\n",
    "    end_date = initial_date + timedelta(minutes=step)\n",
    "    start = int(initial_date.timestamp())\n",
    "    end = int(end_date.timestamp())"
   ]
  },
  {
   "cell_type": "code",
   "execution_count": null,
   "id": "f645a4b0",
   "metadata": {
    "jupyter": {
     "is_executing": true
    }
   },
   "outputs": [],
   "source": [
    "# Send arrival to Kafka\n",
    "\n",
    "# Airport code\n",
    "airports = [\"EDDF\", \"EDDM\", \"EDDB\", \"LOWS\", \"LFPG\", \"EHAM\", \"LEMD\", \"LIRF\", \"LEBL\"]\n",
    "\n",
    "today = datetime.now()\n",
    "initial_date = today - timedelta(days=7)\n",
    "start = int(initial_date.timestamp())\n",
    "end = int(today.timestamp())\n",
    "\n",
    "for airport in airports:\n",
    "    print(OPENSKY_ARRIVAL_URL.format(airport, start, end))\n",
    "    send_opensky_to_kafka(\"opensky-arrivals\", OPENSKY_ARRIVAL_URL.format(airport, start, end), USERNAME, PASSWORD)\n",
    "    time.sleep(5)\n",
    "    "
   ]
  },
  {
   "cell_type": "markdown",
   "id": "1b065fdd",
   "metadata": {},
   "source": [
    "## Envoyer les vols filtrés sur kafka"
   ]
  },
  {
   "cell_type": "code",
   "execution_count": null,
   "id": "91febf72",
   "metadata": {},
   "outputs": [],
   "source": [
    "TOPIC_FILTERED_FLIGHTS = \"opensky_filtered_flights\"\n",
    "\n",
    "current_datetime = datetime.timestamp(datetime.now())\n",
    "\n",
    "def send_filtered_flights_data(url, username, password):\n",
    "    \"\"\"Fetch flights for a specific timestamp and send only filtered flights to Kafka.\n",
    "       Uses the flight's callsign as the unique key to allow updating flight data on duplicates.\"\"\"\n",
    "    global current_datetime  # Keep track of the simulated time\n",
    "    params = {\"time\": current_datetime}  # Request data for this timestamp\n",
    "\n",
    "    # Include authentication in the GET request\n",
    "    response = requests.get(url, auth=(username, password), params=params)\n",
    "\n",
    "    if response.status_code == 200:\n",
    "        data = response.json()\n",
    "        states = data.get(\"states\", [])\n",
    "\n",
    "        for state in states:\n",
    "            # Basic check: ensure the state exists and has all required fields\n",
    "            if not state or len(state) < 17:\n",
    "                continue\n",
    "\n",
    "            # Extract and validate required fields\n",
    "            icao24 = state[0]\n",
    "            callsign = state[1].strip() if state[1] and isinstance(state[1], str) else None\n",
    "            origin_country = state[2]\n",
    "            time_position = state[3]\n",
    "            altitude = state[7]\n",
    "\n",
    "            # Skip the record if any of the essential fields are missing or invalid\n",
    "            if not icao24 or not callsign or not origin_country or time_position is None or altitude is None:\n",
    "                continue\n",
    "\n",
    "            # Construct the message dictionary\n",
    "            message = {\n",
    "                \"icao24\": icao24,\n",
    "                \"callsign\": callsign,\n",
    "                \"origin_country\": origin_country,\n",
    "                \"time_position\": time_position,\n",
    "                \"last_contact\": state[4],\n",
    "                \"longitude\": state[5],\n",
    "                \"latitude\": state[6],\n",
    "                \"altitude\": altitude,\n",
    "                \"on_ground\": state[8],\n",
    "                \"velocity\": state[9],\n",
    "                \"heading\": state[10],\n",
    "                \"vertical_rate\": state[11],\n",
    "                \"sensors\": state[12],\n",
    "                \"geo_altitude\": state[13],\n",
    "                \"squawk\": state[14],\n",
    "                \"spi\": state[15],\n",
    "                \"position_source\": state[16]\n",
    "            }\n",
    "\n",
    "            # Use callsign as the key (ensure it's encoded as bytes)\n",
    "            producer.send(TOPIC_FILTERED_FLIGHTS, key=callsign.encode('utf-8'), value=message)\n",
    "            print(f\"Sent to FILTERED_FLIGHTS: {message}\")\n",
    "\n",
    "        producer.flush()\n",
    "        print(f\"Sent {len(states)} records.\")\n",
    "    else:\n",
    "        print(f\"Failed to fetch data: {response.status_code}\")"
   ]
  },
  {
   "cell_type": "markdown",
   "id": "837fc83d",
   "metadata": {},
   "source": [
    "## Thread qui envoi les donnés à kafka"
   ]
  },
  {
   "cell_type": "code",
   "execution_count": null,
   "id": "e3505128",
   "metadata": {},
   "outputs": [],
   "source": [
    "import threading\n",
    "import time\n",
    "\n",
    "# Create a stop flag\n",
    "stop_event = threading.Event()\n",
    "\n",
    "def run_kafka_producer():\n",
    "    \"\"\" Continuously send filtered flight data to Kafka every 30 seconds. \"\"\"\n",
    "    while not stop_event.is_set():\n",
    "        send_filtered_flights_data(OPENSKY_ALL_STATES_URL, USERNAME, PASSWORD)\n",
    "        time.sleep(5)\n",
    "\n",
    "# Run the producer in a separate thread\n",
    "producer_thread = threading.Thread(target=run_kafka_producer, daemon=True)\n",
    "producer_thread.start()\n",
    "\n",
    "print(\"Kafka producer is running in the background! Use `stop_kafka_producer()` to stop it.\")"
   ]
  },
  {
   "cell_type": "markdown",
   "id": "d5e878ef",
   "metadata": {},
   "source": [
    "## Stop kafka thread"
   ]
  },
  {
   "cell_type": "code",
   "execution_count": null,
   "id": "f4887ba4",
   "metadata": {},
   "outputs": [],
   "source": [
    "def stop_kafka_producer():\n",
    "    \"\"\" Stops the Kafka producer thread gracefully. \"\"\"\n",
    "    print(\"Stopping Kafka producer...\")\n",
    "    stop_event.set()  # Set the stop flag\n",
    "    producer_thread.join()  # Wait for the thread to finish\n",
    "    print(\"Kafka producer stopped.\")\n",
    "\n",
    "# Call this function when you want to stop the producer\n",
    "stop_kafka_producer()"
   ]
  }
 ],
 "metadata": {
  "kernelspec": {
   "display_name": "Python 3 (ipykernel)",
   "language": "python",
   "name": "python3"
  },
  "language_info": {
   "codemirror_mode": {
    "name": "ipython",
    "version": 3
   },
   "file_extension": ".py",
   "mimetype": "text/x-python",
   "name": "python",
   "nbconvert_exporter": "python",
   "pygments_lexer": "ipython3",
   "version": "3.12.8"
  }
 },
 "nbformat": 4,
 "nbformat_minor": 5
}
