{
 "cells": [
  {
   "metadata": {},
   "cell_type": "markdown",
   "source": "# Imports",
   "id": "8bf2de0c44849787"
  },
  {
   "metadata": {
    "ExecuteTime": {
     "end_time": "2025-02-18T09:48:44.169774Z",
     "start_time": "2025-02-18T09:48:42.451817Z"
    }
   },
   "cell_type": "code",
   "source": "!pip install python-dotenv",
   "id": "d8b62deed7a1ef97",
   "outputs": [
    {
     "name": "stdout",
     "output_type": "stream",
     "text": [
      "Collecting python-dotenv\r\n",
      "  Downloading python_dotenv-1.0.1-py3-none-any.whl.metadata (23 kB)\r\n",
      "Downloading python_dotenv-1.0.1-py3-none-any.whl (19 kB)\r\n",
      "Installing collected packages: python-dotenv\r\n",
      "Successfully installed python-dotenv-1.0.1\r\n"
     ]
    }
   ],
   "execution_count": 1
  },
  {
   "cell_type": "code",
   "id": "cad261c0c9795dc9",
   "metadata": {
    "ExecuteTime": {
     "end_time": "2025-02-18T12:34:18.753412Z",
     "start_time": "2025-02-18T12:34:18.751098Z"
    }
   },
   "source": [
    "import requests\n",
    "from kafka import KafkaProducer\n",
    "import json\n",
    "from datetime import datetime, timedelta\n",
    "from dotenv import load_dotenv\n",
    "import os\n",
    "import time"
   ],
   "outputs": [],
   "execution_count": 11
  },
  {
   "metadata": {
    "ExecuteTime": {
     "end_time": "2025-02-18T12:34:18.767432Z",
     "start_time": "2025-02-18T12:34:18.762483Z"
    }
   },
   "cell_type": "code",
   "source": [
    "# Charger les variables d'environnement depuis le fichier .env copié dans le conteneur\n",
    "load_dotenv('/home/jovyan/.env')\n",
    "\n",
    "# Configuration de l'API OpenSky\n",
    "OPENSKY_ALL_FLIGHTS_URL = \"https://opensky-network.org/api/flights/all?begin={}&end={}\"\n",
    "USERNAME = os.environ.get('OPENSKY_USERNAME')\n",
    "PASSWORD = os.environ.get('OPENSKY_PASSWORD')"
   ],
   "id": "17188c4d44d9a8d0",
   "outputs": [],
   "execution_count": 12
  },
  {
   "metadata": {
    "ExecuteTime": {
     "end_time": "2025-02-18T12:34:18.782926Z",
     "start_time": "2025-02-18T12:34:18.780830Z"
    }
   },
   "cell_type": "code",
   "source": [
    "\n",
    "\n"
   ],
   "id": "fd37aad7ee8b1be3",
   "outputs": [],
   "execution_count": 12
  },
  {
   "metadata": {
    "ExecuteTime": {
     "end_time": "2025-02-17T13:20:30.759039Z",
     "start_time": "2025-02-17T13:20:30.755293Z"
    }
   },
   "cell_type": "markdown",
   "source": "# Fonction pour envoyer les données OpenSky à Kafka",
   "id": "790a6a02d15b132d"
  },
  {
   "metadata": {
    "collapsed": true,
    "ExecuteTime": {
     "end_time": "2025-02-18T12:34:18.808962Z",
     "start_time": "2025-02-18T12:34:18.804798Z"
    }
   },
   "cell_type": "code",
   "source": [
    "\n",
    "def send_opensky_to_kafka(topic, url, username, password):\n",
    "    # Kafka configuration\n",
    "    kafka_config = {\n",
    "        'bootstrap_servers': 'kafka1:9092',  # Update with your Kafka broker\n",
    "    }\n",
    "\n",
    "    # Initialize Kafka Producer\n",
    "    producer = KafkaProducer(\n",
    "        bootstrap_servers=kafka_config['bootstrap_servers'],\n",
    "        value_serializer=lambda v: json.dumps(v).encode('utf-8')\n",
    "    )\n",
    "\n",
    "    # Fetch data from OpenSky\n",
    "    response = requests.get(url, auth=(username, password))\n",
    "\n",
    "    if response.status_code == 200:\n",
    "        data = response.json()\n",
    "        if isinstance(data, list) and len(data) > 0 and isinstance(data[0], dict):\n",
    "            flights = [item for item in data if 'icao24' in item]\n",
    "        else:\n",
    "            flights = []\n",
    "\n",
    "\n",
    "        # Publish each state to Kafka\n",
    "        for flight in flights:\n",
    "            producer.send(topic, value=flight)\n",
    "            #print(f\"Sent: {flight}\")\n",
    "\n",
    "        # Ensure all messages are sent\n",
    "        producer.flush()\n",
    "        print(f\"Sent {len(flights)} records.\")\n",
    "    else:\n",
    "        print(f\"Failed to fetch data: {response.status_code}\")"
   ],
   "id": "initial_id",
   "outputs": [],
   "execution_count": 13
  },
  {
   "metadata": {
    "ExecuteTime": {
     "end_time": "2025-02-18T12:34:18.856869Z",
     "start_time": "2025-02-18T12:34:18.853723Z"
    }
   },
   "cell_type": "code",
   "source": [
    "flights = {\n",
    "    \"icao24\": \"icao24\",\n",
    "    \"firstSeen\": \"firstSeen\",\n",
    "    \"estDepartureAirport\": \"estDepartureAirport\",\n",
    "    \"lastSeen\": \"lastSeen\",\n",
    "    \"estArrivalAirport\": \"estArrivalAirport\",\n",
    "    \"estDepartureAirportHorizDistance\": \"estDepartureAirportHorizDistance\",\n",
    "    \"estDepartureAirportVertDistance\": \"estDepartureAirportVertDistance\",\n",
    "    \"estArrivalAirportHorizDistance\": \"estArrivalAirportHorizDistance\",\n",
    "    \"estArrivalAirportVertDistance\": \"estArrivalAirportVertDistance\",\n",
    "    \"departureAirportCandidatesCount\": \"departureAirportCandidatesCount\",\n",
    "    \"arrivalAirportCandidatesCount\": \"arrivalAirportCandidatesCount\",\n",
    "}\n",
    "\n",
    "# Durée de récupération (minutes)\n",
    "step = 60\n",
    "\n",
    "# date initiale\n",
    "initial_date_str = \"2025-01-25 16:00:00\"\n",
    "\n",
    "date_format = \"%Y-%m-%d %H:%M:%S\"\n",
    "initial_date = datetime.strptime(initial_date_str, date_format)\n",
    "end_date = initial_date + timedelta(minutes=step)\n",
    "\n",
    "\n",
    "start = int(initial_date.timestamp())\n",
    "end = int(end_date.timestamp())\n",
    "\n",
    "\n"
   ],
   "id": "ac6836121e31bada",
   "outputs": [],
   "execution_count": 14
  },
  {
   "metadata": {
    "ExecuteTime": {
     "end_time": "2025-02-18T12:35:19.131030Z",
     "start_time": "2025-02-18T12:34:18.866073Z"
    }
   },
   "cell_type": "code",
   "source": [
    "# Send OpenSky data to Kafka\n",
    "\n",
    "for i in range(10):\n",
    "    print(f\"{start}-{end}\")\n",
    "    send_opensky_to_kafka(\"opensky-flights\", OPENSKY_ALL_FLIGHTS_URL.format(start, end), USERNAME, PASSWORD)\n",
    "    time.sleep(5)\n",
    "    initial_date = end_date\n",
    "    end_date = initial_date + timedelta(minutes=step)\n",
    "    start = int(initial_date.timestamp())\n",
    "    end = int(end_date.timestamp())"
   ],
   "id": "b223396e58c96799",
   "outputs": [
    {
     "name": "stdout",
     "output_type": "stream",
     "text": [
      "1737820800-1737824400\n",
      "Sent 1471 records.\n",
      "1737824400-1737828000\n",
      "Sent 1432 records.\n",
      "1737828000-1737831600\n",
      "Sent 1488 records.\n",
      "1737831600-1737835200\n",
      "Sent 1460 records.\n",
      "1737835200-1737838800\n",
      "Sent 1322 records.\n",
      "1737838800-1737842400\n",
      "Sent 1139 records.\n",
      "1737842400-1737846000\n",
      "Sent 1689 records.\n",
      "1737846000-1737849600\n",
      "Failed to fetch data: 404\n",
      "1737849600-1737853200\n",
      "Sent 3352 records.\n",
      "1737853200-1737856800\n",
      "Sent 804 records.\n"
     ]
    }
   ],
   "execution_count": 15
  }
 ],
 "metadata": {
  "kernelspec": {
   "display_name": "Python 3",
   "language": "python",
   "name": "python3"
  },
  "language_info": {
   "codemirror_mode": {
    "name": "ipython",
    "version": 2
   },
   "file_extension": ".py",
   "mimetype": "text/x-python",
   "name": "python",
   "nbconvert_exporter": "python",
   "pygments_lexer": "ipython2",
   "version": "2.7.6"
  }
 },
 "nbformat": 4,
 "nbformat_minor": 5
}
