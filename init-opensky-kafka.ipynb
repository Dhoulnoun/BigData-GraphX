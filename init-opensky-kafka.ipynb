{
 "cells": [
  {
   "metadata": {},
   "cell_type": "markdown",
   "source": "# Imports",
   "id": "8bf2de0c44849787"
  },
  {
   "metadata": {
    "ExecuteTime": {
     "end_time": "2025-02-20T17:35:05.497725Z",
     "start_time": "2025-02-20T17:35:04.661283Z"
    }
   },
   "cell_type": "code",
   "source": "!pip install python-dotenv",
   "id": "d8b62deed7a1ef97",
   "outputs": [
    {
     "name": "stdout",
     "output_type": "stream",
     "text": [
      "Requirement already satisfied: python-dotenv in /opt/conda/lib/python3.12/site-packages (1.0.1)\r\n"
     ]
    }
   ],
   "execution_count": 2
  },
  {
   "cell_type": "code",
   "id": "cad261c0c9795dc9",
   "metadata": {
    "ExecuteTime": {
     "end_time": "2025-02-20T17:35:05.574517Z",
     "start_time": "2025-02-20T17:35:05.501582Z"
    }
   },
   "source": [
    "import requests\n",
    "from kafka import KafkaProducer\n",
    "import json\n",
    "from datetime import datetime, timedelta\n",
    "from dotenv import load_dotenv\n",
    "import os\n",
    "import time"
   ],
   "outputs": [],
   "execution_count": 3
  },
  {
   "metadata": {
    "ExecuteTime": {
     "end_time": "2025-02-20T17:35:05.582409Z",
     "start_time": "2025-02-20T17:35:05.579742Z"
    }
   },
   "cell_type": "code",
   "source": [
    "# Charger les variables d'environnement depuis le fichier .env copié dans le conteneur\n",
    "load_dotenv('/home/jovyan/.env')\n",
    "\n",
    "# Configuration de l'API OpenSky\n",
    "OPENSKY_ALL_FLIGHTS_URL = \"https://opensky-network.org/api/flights/all?begin={}&end={}\"\n",
    "USERNAME = os.environ.get('OPENSKY_USERNAME')\n",
    "PASSWORD = os.environ.get('OPENSKY_PASSWORD')"
   ],
   "id": "17188c4d44d9a8d0",
   "outputs": [],
   "execution_count": 4
  },
  {
   "metadata": {
    "ExecuteTime": {
     "end_time": "2025-02-20T17:35:05.592286Z",
     "start_time": "2025-02-20T17:35:05.590455Z"
    }
   },
   "cell_type": "code",
   "source": [
    "\n",
    "\n"
   ],
   "id": "fd37aad7ee8b1be3",
   "outputs": [],
   "execution_count": 4
  },
  {
   "metadata": {
    "ExecuteTime": {
     "end_time": "2025-02-17T13:20:30.759039Z",
     "start_time": "2025-02-17T13:20:30.755293Z"
    }
   },
   "cell_type": "markdown",
   "source": "# Fonction pour envoyer les données OpenSky à Kafka",
   "id": "790a6a02d15b132d"
  },
  {
   "metadata": {
    "collapsed": true,
    "ExecuteTime": {
     "end_time": "2025-02-20T17:35:05.602008Z",
     "start_time": "2025-02-20T17:35:05.598916Z"
    }
   },
   "cell_type": "code",
   "source": [
    "\n",
    "def send_opensky_to_kafka(topic, url, username, password):\n",
    "    # Kafka configuration\n",
    "    kafka_config = {\n",
    "        'bootstrap_servers': 'kafka1:9092',  # Update with your Kafka broker\n",
    "    }\n",
    "\n",
    "    # Initialize Kafka Producer\n",
    "    producer = KafkaProducer(\n",
    "        bootstrap_servers=kafka_config['bootstrap_servers'],\n",
    "        value_serializer=lambda v: json.dumps(v).encode('utf-8')\n",
    "    )\n",
    "\n",
    "    # Fetch data from OpenSky\n",
    "    response = requests.get(url, auth=(username, password))\n",
    "\n",
    "    if response.status_code == 200:\n",
    "        data = response.json()\n",
    "        if isinstance(data, list) and len(data) > 0 and isinstance(data[0], dict):\n",
    "            flights = [item for item in data if 'icao24' in item]\n",
    "        else:\n",
    "            flights = []\n",
    "\n",
    "\n",
    "        # Publish each state to Kafka\n",
    "        for flight in flights:\n",
    "            producer.send(topic, value=flight)\n",
    "            #print(f\"Sent: {flight}\")\n",
    "\n",
    "        # Ensure all messages are sent\n",
    "        producer.flush()\n",
    "        print(f\"Sent {len(flights)} records.\")\n",
    "    else:\n",
    "        print(f\"Failed to fetch data: {response.status_code}\")"
   ],
   "id": "initial_id",
   "outputs": [],
   "execution_count": 5
  },
  {
   "metadata": {
    "ExecuteTime": {
     "end_time": "2025-02-20T17:35:05.613836Z",
     "start_time": "2025-02-20T17:35:05.610478Z"
    }
   },
   "cell_type": "code",
   "source": [
    "flights = {\n",
    "    \"icao24\": \"icao24\",\n",
    "    \"firstSeen\": \"firstSeen\",\n",
    "    \"estDepartureAirport\": \"estDepartureAirport\",\n",
    "    \"lastSeen\": \"lastSeen\",\n",
    "    \"estArrivalAirport\": \"estArrivalAirport\",\n",
    "    \"estDepartureAirportHorizDistance\": \"estDepartureAirportHorizDistance\",\n",
    "    \"estDepartureAirportVertDistance\": \"estDepartureAirportVertDistance\",\n",
    "    \"estArrivalAirportHorizDistance\": \"estArrivalAirportHorizDistance\",\n",
    "    \"estArrivalAirportVertDistance\": \"estArrivalAirportVertDistance\",\n",
    "    \"departureAirportCandidatesCount\": \"departureAirportCandidatesCount\",\n",
    "    \"arrivalAirportCandidatesCount\": \"arrivalAirportCandidatesCount\",\n",
    "}\n",
    "\n",
    "# Durée de récupération (minutes)\n",
    "step = 60\n",
    "\n",
    "# date initiale\n",
    "initial_date_str = \"2025-02-19 10:00:00\"\n",
    "\n",
    "date_format = \"%Y-%m-%d %H:%M:%S\"\n",
    "initial_date = datetime.strptime(initial_date_str, date_format)\n",
    "end_date = initial_date + timedelta(minutes=step)\n",
    "\n",
    "\n",
    "start = int(initial_date.timestamp())\n",
    "end = int(end_date.timestamp())\n",
    "\n",
    "\n"
   ],
   "id": "ac6836121e31bada",
   "outputs": [],
   "execution_count": 6
  },
  {
   "metadata": {
    "ExecuteTime": {
     "end_time": "2025-02-20T17:37:00.481531Z",
     "start_time": "2025-02-20T17:35:05.621905Z"
    }
   },
   "cell_type": "code",
   "source": [
    "# Send OpenSky data to Kafka\n",
    "\n",
    "for i in range(20):\n",
    "    print(f\"{start}-{end}\")\n",
    "    send_opensky_to_kafka(\"opensky-flights\", OPENSKY_ALL_FLIGHTS_URL.format(start, end), USERNAME, PASSWORD)\n",
    "    time.sleep(5)\n",
    "    initial_date = end_date\n",
    "    end_date = initial_date + timedelta(minutes=step)\n",
    "    start = int(initial_date.timestamp())\n",
    "    end = int(end_date.timestamp())"
   ],
   "id": "b223396e58c96799",
   "outputs": [
    {
     "name": "stdout",
     "output_type": "stream",
     "text": [
      "1739959200-1739962800\n",
      "Sent 677 records.\n",
      "1739962800-1739966400\n",
      "Sent 708 records.\n",
      "1739966400-1739970000\n",
      "Sent 797 records.\n",
      "1739970000-1739973600\n",
      "Sent 946 records.\n",
      "1739973600-1739977200\n",
      "Sent 1000 records.\n",
      "1739977200-1739980800\n",
      "Sent 1179 records.\n",
      "1739980800-1739984400\n",
      "Sent 1107 records.\n",
      "1739984400-1739988000\n",
      "Sent 1064 records.\n",
      "1739988000-1739991600\n",
      "Sent 1009 records.\n",
      "1739991600-1739995200\n",
      "Sent 989 records.\n",
      "1739995200-1739998800\n",
      "Sent 1043 records.\n",
      "1739998800-1740002400\n",
      "Sent 908 records.\n",
      "1740002400-1740006000\n",
      "Sent 1722 records.\n",
      "1740006000-1740009600\n",
      "Failed to fetch data: 404\n",
      "1740009600-1740013200\n",
      "Sent 540 records.\n",
      "1740013200-1740016800\n",
      "Sent 442 records.\n",
      "1740016800-1740020400\n",
      "Sent 210 records.\n",
      "1740020400-1740024000\n",
      "Sent 31 records.\n",
      "1740024000-1740027600\n",
      "Sent 646 records.\n",
      "1740027600-1740031200\n",
      "Sent 764 records.\n"
     ]
    }
   ],
   "execution_count": 7
  }
 ],
 "metadata": {
  "kernelspec": {
   "display_name": "Python 3",
   "language": "python",
   "name": "python3"
  },
  "language_info": {
   "codemirror_mode": {
    "name": "ipython",
    "version": 2
   },
   "file_extension": ".py",
   "mimetype": "text/x-python",
   "name": "python",
   "nbconvert_exporter": "python",
   "pygments_lexer": "ipython2",
   "version": "2.7.6"
  }
 },
 "nbformat": 4,
 "nbformat_minor": 5
}
