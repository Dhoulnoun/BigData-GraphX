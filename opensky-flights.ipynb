{
 "cells": [
  {
   "cell_type": "markdown",
   "id": "4bb42f583bd723c",
   "metadata": {},
   "source": [
    "# Spark Streaming et fenêtres"
   ]
  },
  {
   "cell_type": "markdown",
   "id": "414f9839fa30472a",
   "metadata": {},
   "source": [
    "Use case : Flight tracking with OpenSky"
   ]
  },
  {
   "cell_type": "markdown",
   "id": "79cbc0b0a04a65c8",
   "metadata": {},
   "source": "## Imports"
  },
  {
   "cell_type": "code",
   "id": "e621fd8b6ed4552e",
   "metadata": {},
   "source": [
    "from pyspark.sql import SparkSession, SQLContext\n",
    "from pyspark import SparkContext, SparkConf\n",
    "from pyspark.sql.functions import col, count, desc\n",
    "from pyspark.sql.functions import from_json\n",
    "from pyspark.sql.types import StructType, StructField, StringType, DoubleType, LongType, IntegerType, TimestampType, FloatType\n",
    "from pyspark.sql.functions import col, desc, sum, mean, min, max, lit, coalesce, bucket, col, window, avg\n",
    "from matplotlib.pylab import mean\n",
    "\n",
    "import pandas as pd\n",
    "import seaborn as sns\n",
    "import matplotlib.pyplot as plt\n",
    "import matplotlib.dates as md\n",
    "\n",
    "import networkx as nx\n",
    "\n",
    "from bokeh.io import output_notebook, output_file, show\n",
    "from bokeh.plotting import figure, from_networkx\n",
    "from bokeh.models import HoverTool, ColumnDataSource\n",
    "from bokeh.transform import linear_cmap\n",
    "from bokeh.palettes import Viridis256"
   ],
   "outputs": [],
   "execution_count": null
  },
  {
   "metadata": {},
   "cell_type": "markdown",
   "source": "## Conf spark",
   "id": "87ef5193dd8fd37f"
  },
  {
   "cell_type": "code",
   "id": "aea5a828a55cdcb8",
   "metadata": {},
   "source": [
    "conf = SparkConf() \\\n",
    "    .setAppName('SparkApp') \\\n",
    "    .setMaster('spark://spark:7077') \\\n",
    "    .set(\"spark.jars.packages\", \"org.apache.hadoop:hadoop-aws:3.3.4,org.apache.spark:spark-sql-kafka-0-10_2.12:3.5.3,graphframes:graphframes:0.8.4-spark3.5-s_2.12\") \\\n",
    "    .set(\"spark.sql.shuffle.partitions\", \"10\")\n",
    "\n",
    "\n",
    "\n",
    "sc = SparkContext.getOrCreate(conf=conf)\n",
    "sc.setCheckpointDir(\"/tmp/graphframes-checkpoint\")\n",
    "# Créer un SQLContext pour les opérations SQL\n",
    "sql_context = SQLContext(sc)"
   ],
   "outputs": [],
   "execution_count": null
  },
  {
   "metadata": {
    "collapsed": true
   },
   "cell_type": "code",
   "source": [
    "\n",
    "from graphframes import GraphFrame"
   ],
   "id": "initial_id",
   "outputs": [],
   "execution_count": null
  },
  {
   "cell_type": "markdown",
   "id": "3f611568",
   "metadata": {},
   "source": "## Configuration kafka et spark (non obligatoire si définis ailleurs)"
  },
  {
   "cell_type": "code",
   "id": "20b9cced",
   "metadata": {},
   "source": [
    "flights_df = sql_context.read.format(\"kafka\") \\\n",
    "    .option(\"kafka.bootstrap.servers\", \"kafka1:9092\") \\\n",
    "    .option(\"subscribe\", \"opensky-flights\") \\\n",
    "    .option(\"startingOffsets\", \"earliest\") \\\n",
    "    .option(\"endingOffsets\", \"latest\") \\\n",
    "    .load()"
   ],
   "outputs": [],
   "execution_count": null
  },
  {
   "cell_type": "code",
   "id": "846815e9",
   "metadata": {},
   "source": [
    "schema = StructType([\n",
    "    StructField(\"icao24\", StringType(), True),\n",
    "    StructField(\"firstSeen\", LongType(), True),\n",
    "    StructField(\"estDepartureAirport\", StringType(), True),\n",
    "    StructField(\"lastSeen\", LongType(), True),\n",
    "    StructField(\"estArrivalAirport\", StringType(), True),\n",
    "    StructField(\"estDepartureAirportHorizDistance\", LongType(), True),\n",
    "    StructField(\"estDepartureAirportVertDistance\", LongType(), True),\n",
    "    StructField(\"estArrivalAirportHorizDistance\", LongType(), True),\n",
    "    StructField(\"estArrivalAirportVertDistance\", LongType(), True),\n",
    "    StructField(\"departureAirportCandidatesCount\", LongType(), True),\n",
    "    StructField(\"arrivalAirportCandidatesCount\", LongType(), True)\n",
    "])\n",
    "\n",
    "flights_json = flights_df.select(from_json(col(\"value\").cast(\"string\"), schema).alias(\"data\")).select(\"data.*\")\n"
   ],
   "outputs": [],
   "execution_count": null
  },
  {
   "cell_type": "markdown",
   "id": "05f2e9e2",
   "metadata": {},
   "source": [
    "## Requêtes en mode batch, avec état.\n",
    "### Mode batch avec fenêtre"
   ]
  },
  {
   "cell_type": "code",
   "id": "f68321e1",
   "metadata": {},
   "source": [
    "# Parse Kafka messages\n",
    "parsed_stream = flights_df.selectExpr(\"CAST(value AS STRING) AS message\") \\\n",
    "    .select(from_json(col(\"message\"), schema).alias(\"data\")) \\\n",
    "    .select(\n",
    "        col(\"data.lastSeen\").cast(TimestampType()).alias(\"ArrivalTime\"),\n",
    "        col(\"data.estArrivalAirport\").alias(\"Airport\")\n",
    "    )\n",
    "\n",
    "# Compute number of arrivals over a 60-minute window\n",
    "rolling_numbers = parsed_stream \\\n",
    "    .groupBy(window(col(\"ArrivalTime\"), \"60 minutes\")) \\\n",
    "    .count() \\\n",
    "    .select(\n",
    "        col(\"window.start\").alias(\"window_start\"),\n",
    "        col(\"window.end\").alias(\"window_end\"),\n",
    "        col(\"count\").alias(\"num_arrivals\")\n",
    "    ).orderBy(\"window_start\")\n",
    "\n",
    "# Collect the result as a Pandas DataFrame\n",
    "pandas_df = rolling_numbers.toPandas()\n",
    "pandas_df\n",
    "\n",
    "g = sns.lineplot(data=pandas_df, x=\"window_start\", y=\"num_arrivals\")\n",
    "g.xaxis.set_major_formatter(md.DateFormatter('%d/%m\\n%H:%M'))\n",
    "g.set_title(\"Nombre d'arrivés sur une heure\")"
   ],
   "outputs": [],
   "execution_count": null
  },
  {
   "cell_type": "markdown",
   "id": "e2b0be41",
   "metadata": {},
   "source": [
    "### Mode batch sans fenêtre"
   ]
  },
  {
   "cell_type": "code",
   "id": "db37273b",
   "metadata": {},
   "source": [
    "flight_counts = flights_json \\\n",
    "    .groupBy(\"estDepartureAirport\", \"estArrivalAirport\") \\\n",
    "    .count() \\\n",
    "    .withColumnRenamed(\"count\", \"flight_count\")\n",
    "\n",
    "# Créer un DataFrame pour les arêtes (vols)\n",
    "nbVols = flight_counts.select(\n",
    "    col(\"estDepartureAirport\").alias(\"src\"),\n",
    "    col(\"estArrivalAirport\").alias(\"dst\"),\n",
    "    col(\"flight_count\")\n",
    ")\n",
    "# on se limite au 15 aéroports les plus fréquentés\n",
    "top_n = 15\n",
    "\n",
    "# Identifier les aéroports les plus fréquentés (combinaison de départs et arrivées)\n",
    "top_airports = (\n",
    "    flight_counts.select(\"estDepartureAirport\").union(flight_counts.select(\"estArrivalAirport\"))\n",
    "    .groupBy(\"estDepartureAirport\").count()\n",
    "    .orderBy(desc(\"count\"))\n",
    "    .limit(top_n)\n",
    "    .select(\"estDepartureAirport\").collect()\n",
    ")\n",
    "top_airport_codes = [row['estDepartureAirport'] for row in top_airports]\n",
    "\n",
    "# Filtrer le dataframe pour n'inclure que les vols entre ces aéroports principaux\n",
    "filtered_counts = flight_counts.filter(\n",
    "    (col(\"estDepartureAirport\").isin(top_airport_codes)) & \n",
    "    (col(\"estArrivalAirport\").isin(top_airport_codes))\n",
    ")\n",
    "\n",
    "filtered_counts"
   ],
   "outputs": [],
   "execution_count": null
  },
  {
   "cell_type": "code",
   "id": "9204d17d",
   "metadata": {},
   "source": [
    "# Filtrer les données qui valent NULL\n",
    "filtered_nbVols = nbVols.filter(\n",
    "    (col(\"src\").isNotNull()) & \n",
    "    (col(\"dst\").isNotNull())\n",
    ")\n",
    "\n",
    "# Trouver les routes les plus empruntées\n",
    "top_routes = filtered_nbVols.orderBy(desc(\"flight_count\")).limit(top_n)\n",
    "top_routes.show()\n",
    "\n",
    "# Convertir en pandas pour visualisation avec Seaborn\n",
    "top_routes_pd = top_routes.toPandas()\n",
    "\n",
    "# Créer des visualisations\n",
    "plt.figure(figsize=(14, 8))\n",
    "\n",
    "# Graphique des routes les plus fréquentées\n",
    "plt.subplot(1, 2, 2)\n",
    "sns.barplot(x=\"flight_count\", y=top_routes_pd.apply(lambda x: f\"{x['src']}-{x['dst']}\", axis=1), \n",
    "            data=top_routes_pd, orient=\"h\")\n",
    "plt.title(\"Routes les plus fréquentées\")\n",
    "plt.tight_layout()\n",
    "\n",
    "plt.savefig(\"aviation_network_analysis.png\")\n",
    "plt.show()\n",
    "plt.close()"
   ],
   "outputs": [],
   "execution_count": null
  },
  {
   "cell_type": "code",
   "id": "9db33b7c",
   "metadata": {},
   "source": [
    "# Convertir en pandas pour le pivot\n",
    "matrix_data = filtered_counts.toPandas()\n",
    "\n",
    "# Créer la matrice pivot\n",
    "flight_matrix = matrix_data.pivot(index='estDepartureAirport', columns='estArrivalAirport', values='flight_count')\n",
    "flight_matrix = flight_matrix.fillna(0)  # Remplacer les NaN par 0\n",
    "\n",
    "# Créer le heatmap\n",
    "plt.figure(figsize=(16, 12))\n",
    "ax = sns.heatmap(\n",
    "    flight_matrix,\n",
    "    annot=True,           # Afficher les valeurs\n",
    "    fmt='g',              # Format des nombres (entiers)\n",
    "    cmap='YlGnBu',        # Palette de couleurs (jaune-vert-bleu)\n",
    "    linewidths=0.5,       # Lignes entre les cellules\n",
    "    cbar_kws={'label': 'Nombre de vols'}\n",
    ")\n",
    "\n",
    "# Ajuster les étiquettes et le titre\n",
    "plt.title('Nombre de vols entre les principaux aéroports', fontsize=16)\n",
    "plt.xlabel('Destinations', fontsize=12)\n",
    "plt.ylabel('Origines', fontsize=12)\n",
    "\n",
    "# Rotation des étiquettes pour la lisibilité\n",
    "plt.xticks(rotation=45, ha='right')\n",
    "plt.yticks(rotation=0)\n",
    "\n",
    "# Ajuster la mise en page\n",
    "plt.tight_layout()\n",
    "\n",
    "# Sauvegarder et afficher\n",
    "plt.savefig(\"/tmp/flight_heatmap_origin_destination.png\", dpi=300)\n",
    "# plt.show()\n",
    "plt.close()\n",
    "\n",
    "# Obtenir quelques statistiques sur cette matrice\n",
    "nonzero_routes = (flight_matrix > 0).sum().sum()\n",
    "total_possible_routes = len(top_airport_codes) * len(top_airport_codes)\n",
    "connectivity_ratio = nonzero_routes / total_possible_routes\n",
    "\n",
    "print(f\"Parmi les {top_n} principaux aéroports:\")\n",
    "print(f\"Nombre total de routes possibles: {total_possible_routes}\")\n",
    "print(f\"Nombre de routes effectivement desservies: {nonzero_routes}\")\n",
    "print(f\"Ratio de connectivité: {connectivity_ratio:.2%}\")\n",
    "print(f\"Nombre moyen de vols par route active: {flight_matrix.sum().sum() / nonzero_routes:.1f}\")"
   ],
   "outputs": [],
   "execution_count": null
  },
  {
   "cell_type": "markdown",
   "id": "688821c0",
   "metadata": {},
   "source": [
    "## Requête avec SparkSQL"
   ]
  },
  {
   "cell_type": "code",
   "id": "6322bda5",
   "metadata": {},
   "source": [
    "# Enregistrer le DataFrame en tant que table temporaire\n",
    "flights_json.createOrReplaceTempView(\"flights\")\n",
    "\n",
    "# Top 5 de la correspondance la plus fréquente\n",
    "query = \"\"\"\n",
    "SELECT estDepartureAirport, estArrivalAirport, COUNT(*) as count\n",
    "FROM flights\n",
    "WHERE estDepartureAirport IS NOT NULL AND estArrivalAirport IS NOT NULL AND estDepartureAirport != estArrivalAirport\n",
    "GROUP BY estDepartureAirport, estArrivalAirport\n",
    "ORDER BY count DESC\n",
    "LIMIT 5\n",
    "\"\"\"\n",
    "\n",
    "top_5_couples = sql_context.sql(query)\n",
    "\n",
    "# Afficher les résultats\n",
    "top_5_couples.show()"
   ],
   "outputs": [],
   "execution_count": null
  },
  {
   "cell_type": "markdown",
   "id": "878f6d4509b615f2",
   "metadata": {},
   "source": [
    "## Requête en mode batch et résultats sous forme de graphiques"
   ]
  },
  {
   "cell_type": "code",
   "id": "6687f958118248c8",
   "metadata": {},
   "source": [
    "# Afficher un exemple brut\n",
    "flights_df.selectExpr(\"CAST(value AS STRING)\").show(5, False)"
   ],
   "outputs": [],
   "execution_count": null
  },
  {
   "cell_type": "code",
   "id": "9cff94e644396ca4",
   "metadata": {},
   "source": [
    "filtered_flights = flights_json.filter(\n",
    "    (col(\"estDepartureAirport\").isNotNull()) &\n",
    "    (col(\"estArrivalAirport\").isNotNull())\n",
    ")\n",
    "\n",
    "outbound = filtered_flights.groupBy(\"estDepartureAirport\") \\\n",
    "    .agg(count(\"*\").alias(\"vols_sortants\")) \\\n",
    "    .orderBy(desc(\"vols_sortants\"))\n",
    "\n",
    "inbound = filtered_flights.groupBy(\"estArrivalAirport\") \\\n",
    "    .agg(count(\"*\").alias(\"vols_entrants\")) \\\n",
    "    .orderBy(desc(\"vols_entrants\"))\n"
   ],
   "outputs": [],
   "execution_count": null
  },
  {
   "cell_type": "code",
   "id": "ee9c4ef205a02cb0",
   "metadata": {},
   "source": [
    "outbound_pd = outbound.limit(10).toPandas()\n",
    "inbound_pd = inbound.limit(10).toPandas()\n",
    "\n",
    "# 🎨 Configurer le style Seaborn\n",
    "sns.set_theme(style=\"whitegrid\", palette=\"muted\")\n",
    "\n",
    "# 📈 Vols sortants\n",
    "plt.figure(figsize=(10, 5))\n",
    "sns.barplot(\n",
    "    x=\"vols_sortants\",\n",
    "    y=\"estDepartureAirport\",\n",
    "    data=outbound_pd,\n",
    "    palette=\"Blues_r\"\n",
    ")\n",
    "plt.title(\"Top 10 Aéroports - Vols sortants \", fontsize=14, fontweight='bold')\n",
    "plt.xlabel(\"Nombre de vols\")\n",
    "plt.ylabel(\"Aéroport (Départ)\")\n",
    "plt.grid(True, linestyle='--', alpha=0.7)\n",
    "plt.show()\n",
    "\n",
    "# 📊 Vols entrants\n",
    "plt.figure(figsize=(10, 5))\n",
    "sns.barplot(\n",
    "    x=\"vols_entrants\",\n",
    "    y=\"estArrivalAirport\",\n",
    "    data=inbound_pd,\n",
    "    palette=\"Oranges_r\"\n",
    ")\n",
    "plt.title(\"Top 10 Aéroports - Vols entrants \", fontsize=14, fontweight='bold')\n",
    "plt.xlabel(\"Nombre de vols\")\n",
    "plt.ylabel(\"Aéroport (Arrivée)\")\n",
    "plt.grid(True, linestyle='--', alpha=0.7)\n",
    "plt.show()"
   ],
   "outputs": [],
   "execution_count": null
  },
  {
   "metadata": {},
   "cell_type": "markdown",
   "source": "## GraphX with GraphFrames",
   "id": "7e4be467ccc7d420"
  },
  {
   "metadata": {},
   "cell_type": "markdown",
   "source": "> installation de bokeh si déjà installé via requierments alors ce n'est pas nécessaire.",
   "id": "d8cb5920819d1d14"
  },
  {
   "metadata": {},
   "cell_type": "code",
   "source": "!pip install bokeh",
   "id": "10200909023c83ce",
   "outputs": [],
   "execution_count": null
  },
  {
   "metadata": {},
   "cell_type": "markdown",
   "source": "### Définition du schéma de données Kafka, lecture du feed et parsing",
   "id": "9adf7ab8f456b634"
  },
  {
   "metadata": {},
   "cell_type": "code",
   "source": [
    "# Définition du schéma des données Kafka\n",
    "schema = StructType([\n",
    "    StructField(\"icao24\", StringType(), True),\n",
    "    StructField(\"firstSeen\", LongType(), True),\n",
    "    StructField(\"estDepartureAirport\", StringType(), True),\n",
    "    StructField(\"lastSeen\", LongType(), True),\n",
    "    StructField(\"estArrivalAirport\", StringType(), True),\n",
    "])\n",
    "\n",
    "# Lecture du flux Kafka\n",
    "flights_df = sql_context.read.format(\"kafka\") \\\n",
    "    .option(\"kafka.bootstrap.servers\", \"kafka1:9092\") \\\n",
    "    .option(\"subscribe\", \"opensky-flights\") \\\n",
    "    .option(\"startingOffsets\", \"earliest\") \\\n",
    "    .option(\"endingOffsets\", \"latest\") \\\n",
    "    .load()\n",
    "\n",
    "\n",
    "# Parsing du JSON contenu dans Kafka\n",
    "flights_json = flights_df.select(from_json(col(\"value\").cast(\"string\"), schema).alias(\"data\")).select(\"data.*\")\n"
   ],
   "id": "8b9a87912218cf3e",
   "outputs": [],
   "execution_count": null
  },
  {
   "metadata": {},
   "cell_type": "markdown",
   "source": "### Définition des sommets arrêtes et graphe",
   "id": "1334fce954eb1573"
  },
  {
   "metadata": {},
   "cell_type": "code",
   "source": [
    "# Création du DataFrame des sommets (aéroports)\n",
    "# Suppression des doublons dans les sommets (aéroports)\n",
    "vertices = flights_json.select(col(\"estDepartureAirport\").alias(\"id\")).distinct() \\\n",
    "    .union(flights_json.select(col(\"estArrivalAirport\").alias(\"id\")).distinct()) \\\n",
    "    .filter(col(\"id\").isNotNull()) \\\n",
    "    .distinct()  # Suppression finale des doublons\n"
   ],
   "id": "de69a88c8de568b0",
   "outputs": [],
   "execution_count": null
  },
  {
   "metadata": {},
   "cell_type": "code",
   "source": [
    "# Création du DataFrame des arêtes (vols entre aéroports)\n",
    "edges = flights_json.select(\n",
    "    col(\"estDepartureAirport\").alias(\"src\"),\n",
    "    col(\"estArrivalAirport\").alias(\"dst\")\n",
    ").filter(col(\"src\").isNotNull() & col(\"dst\").isNotNull()) \\\n",
    " .groupBy(\"src\", \"dst\").agg(count(\"*\").alias(\"weight\"))\n"
   ],
   "id": "740d059fd6df63ee",
   "outputs": [],
   "execution_count": null
  },
  {
   "metadata": {},
   "cell_type": "code",
   "source": "graph = GraphFrame(vertices, edges)\n",
   "id": "6bc64ee78f1ea308",
   "outputs": [],
   "execution_count": null
  },
  {
   "metadata": {},
   "cell_type": "markdown",
   "source": "### Actions sur Graphe",
   "id": "a72b65b7a0beea18"
  },
  {
   "metadata": {},
   "cell_type": "markdown",
   "source": "#### Page Rank",
   "id": "637659f99d5c925c"
  },
  {
   "metadata": {},
   "cell_type": "code",
   "source": [
    "pagerank_results = graph.pageRank(resetProbability=0.15, maxIter=10)\n",
    "pagerank_results.vertices.select(\"id\", \"pagerank\").show(100)"
   ],
   "id": "b709d4822a76aa68",
   "outputs": [],
   "execution_count": null
  },
  {
   "metadata": {},
   "cell_type": "markdown",
   "source": "#### Connected Components heap mem error",
   "id": "8f4b13718bc64d0f"
  },
  {
   "metadata": {},
   "cell_type": "code",
   "source": [
    "cc_results = graph.connectedComponents()\n",
    "cc_results.select(\"id\", \"component\").orderBy(\"component\").show()"
   ],
   "id": "5c94cdef770c50f2",
   "outputs": [],
   "execution_count": null
  },
  {
   "metadata": {},
   "cell_type": "markdown",
   "source": "#### Strongly Connected Components",
   "id": "287d6815216a0734"
  },
  {
   "metadata": {},
   "cell_type": "code",
   "source": [
    "scc_results = graph.stronglyConnectedComponents(maxIter=10)\n",
    "scc_results.select(\"id\", \"component\").show()"
   ],
   "id": "55fc6357afcd7471",
   "outputs": [],
   "execution_count": null
  },
  {
   "metadata": {},
   "cell_type": "markdown",
   "source": "#### Triangle Count",
   "id": "89561ab44119b143"
  },
  {
   "metadata": {},
   "cell_type": "code",
   "source": [
    "triangle_results = graph.triangleCount()\n",
    "triangle_results.select(\"id\", \"count\").show()"
   ],
   "id": "1ae1e83b35dabbe6",
   "outputs": [],
   "execution_count": null
  },
  {
   "metadata": {},
   "cell_type": "markdown",
   "source": "### Filtrer les données pour représentation",
   "id": "44116d641d0bf1d6"
  },
  {
   "metadata": {},
   "cell_type": "code",
   "source": [
    "pagerank_df = pagerank_results.vertices.toPandas()\n",
    "edges_df = edges.toPandas()\n",
    "pagerank_dict = dict(zip(pagerank_df[\"id\"], pagerank_df[\"pagerank\"]))\n",
    "\n",
    "# Définir un seuil pour afficher uniquement les hubs majeurs\n",
    "pagerank_threshold = pagerank_df[\"pagerank\"].quantile(0.90)  # Garde le top 10% des aéroports\n",
    "\n",
    "# Filtrer les nœuds et les arêtes\n",
    "important_nodes = pagerank_df[pagerank_df[\"pagerank\"] >= pagerank_threshold][\"id\"].tolist()\n",
    "edges_filtered = edges_df[edges_df[\"src\"].isin(important_nodes) & edges_df[\"dst\"].isin(important_nodes)]"
   ],
   "id": "dcce2c171caa67d3",
   "outputs": [],
   "execution_count": null
  },
  {
   "metadata": {},
   "cell_type": "code",
   "source": [
    "G_filtered = nx.DiGraph()\n",
    "for node in important_nodes:\n",
    "    G_filtered.add_node(node, pagerank=pagerank_dict[node])\n",
    "\n",
    "for _, row in edges_filtered.iterrows():\n",
    "    G_filtered.add_edge(row[\"src\"], row[\"dst\"])"
   ],
   "id": "a19155e1be0732f9",
   "outputs": [],
   "execution_count": null
  },
  {
   "metadata": {},
   "cell_type": "markdown",
   "source": "### Représentations Graphique",
   "id": "10a1a46bddaad245"
  },
  {
   "metadata": {},
   "cell_type": "markdown",
   "source": "#### Bokeh",
   "id": "1348dbca833a0318"
  },
  {
   "metadata": {},
   "cell_type": "code",
   "source": [
    "# output_notebook()  # Affichage dans le notebook\n",
    "\n",
    "output_file(\"air_traffic_graph_kawai.html\") # Affichange dans une page web\n"
   ],
   "id": "99081fccd6d38816",
   "outputs": [],
   "execution_count": null
  },
  {
   "metadata": {},
   "cell_type": "code",
   "source": "pos_atlas = nx.forceatlas2_layout(G_filtered) #utile pour les gros graph mais lent évite l'overlapping\n",
   "id": "6898aa2ec5861904",
   "outputs": [],
   "execution_count": null
  },
  {
   "metadata": {},
   "cell_type": "code",
   "source": "pos_spring = nx.spring_layout(G_filtered) # rapide mais oberlapping pour gros graph\n",
   "id": "4e48275c97d35f6f",
   "outputs": [],
   "execution_count": null
  },
  {
   "metadata": {},
   "cell_type": "code",
   "source": "pos_kawai = nx.kamada_kawai_layout(G_filtered) # pour graph bien spaced très lent attention présentation intéressante",
   "id": "5c780fb80bad0ce",
   "outputs": [],
   "execution_count": null
  },
  {
   "metadata": {},
   "cell_type": "code",
   "source": "pos_fr = nx.fruchterman_reingold_layout(G_filtered) # large graph force directed on voit mieux les noeuds isolés\n",
   "id": "27891c798f0832fe",
   "outputs": [],
   "execution_count": null
  },
  {
   "metadata": {},
   "cell_type": "code",
   "source": [
    "import builtins  # Import the built-in Python functions to avoid PySpark conflicts\n",
    "# Convert PageRank values to node sizes (force conversion to float)\n",
    "node_sizes = [float(pagerank_dict[node]) * 200 for node in G_filtered.nodes()]  # Scaling factor\n",
    "\n",
    "# Ensure `node_sizes` is a pure Python list\n",
    "node_sizes = [float(size) for size in node_sizes]\n",
    "\n",
    "# Use built-in Python `min()` and `max()` to avoid PySpark conflicts\n",
    "if isinstance(node_sizes, list) and len(node_sizes) > 0:\n",
    "    min_size = builtins.min(node_sizes)  # Force Python's `min()`\n",
    "    max_size = builtins.max(node_sizes)  # Force Python's `max()`\n",
    "else:\n",
    "    min_size, max_size = 5.0, 50.0  # Default values if list is empty\n"
   ],
   "id": "df1008cb6d0c1308",
   "outputs": [],
   "execution_count": null
  },
  {
   "metadata": {},
   "cell_type": "code",
   "source": [
    "# Scale node sizes for better visualization\n",
    "scaled_sizes = [\n",
    "    ((size - min_size) / (max_size - min_size)) * 30 + 5 for size in node_sizes\n",
    "] if max_size > min_size else [10] * len(node_sizes)  # Normalize between 5 and  35"
   ],
   "id": "16566781e2d007e",
   "outputs": [],
   "execution_count": null
  },
  {
   "metadata": {},
   "cell_type": "code",
   "source": [
    "\n",
    "node_data = ColumnDataSource(data={\n",
    "    \"index\": list(G_filtered.nodes()),  # Add node indices\n",
    "    \"size\": scaled_sizes\n",
    "})\n",
    "\n",
    "\n",
    "# Create the Bokeh graph\n",
    "plot = figure(title=\"Air Traffic Graph (Bokeh)\", x_range=(-1.5, 1.5), y_range=(-1.5, 1.5),\n",
    "              tools=\"pan,wheel_zoom,reset,save\", width=1920, height=1080)"
   ],
   "id": "389b8204a8f4bffc",
   "outputs": [],
   "execution_count": null
  },
  {
   "metadata": {},
   "cell_type": "code",
   "source": [
    "\n",
    "graph_renderer = from_networkx(G_filtered, pos_kawai, scale=1, center=(0, 0))\n",
    "graph_renderer.node_renderer.data_source = node_data\n",
    "graph_renderer.node_renderer.glyph.size = \"size\"  # Taille de base\n",
    "# Apply color mapping correctly\n",
    "color_mapper = linear_cmap(field_name=\"size\", palette=Viridis256,\n",
    "                           low=builtins.min(scaled_sizes), high=builtins.max(scaled_sizes))\n",
    "\n",
    "# Ensure `fill_color` is properly applied to the glyph\n",
    "graph_renderer.node_renderer.glyph.fill_color = color_mapper\n",
    "\n",
    "# Ajout des arêtes (transparence pour meilleure lisibilité)\n",
    "graph_renderer.edge_renderer.glyph.line_alpha = 0.3"
   ],
   "id": "801ae7a1e26547d8",
   "outputs": [],
   "execution_count": null
  },
  {
   "metadata": {},
   "cell_type": "code",
   "source": [
    "\n",
    "# Ajout d’un outil interactif pour afficher le PageRank au survol\n",
    "tooltips = HoverTool(tooltips=[(\"Aéroport\", \"@index\"), (\"PageRank\", \"@size\")])\n",
    "plot.add_tools(tooltips)\n",
    "\n",
    "# Ajout du graphe à la figure\n",
    "plot.renderers.append(graph_renderer)\n",
    "\n",
    "# Affichage du graphe interactif\n",
    "show(plot)"
   ],
   "id": "a61e1dd6284c78b9",
   "outputs": [],
   "execution_count": null
  },
  {
   "metadata": {},
   "cell_type": "markdown",
   "source": "#### Matplotlib (Favoriser Bokeh car interractif et plus propre)",
   "id": "2be003274065a6df"
  },
  {
   "metadata": {},
   "cell_type": "code",
   "source": "node_sizes_filtered = [pagerank_dict[node] * 3000 for node in G_filtered.nodes()]",
   "id": "276897e0bda63a9f",
   "outputs": [],
   "execution_count": null
  },
  {
   "metadata": {},
   "cell_type": "code",
   "source": [
    "plt.figure(figsize=(12*10, 7*10))\n",
    "pos = nx.forceatlas2_layout(G_filtered)\n",
    "nx.draw(G_filtered, pos, with_labels=True, node_size=node_sizes_filtered, alpha=0.7)\n",
    "plt.title(\"Graphe des Connexions Aériennes (Top 10% PageRank)\")\n",
    "plt.show()"
   ],
   "id": "7e3af9b1481e99ca",
   "outputs": [],
   "execution_count": null
  },
  {
   "metadata": {},
   "cell_type": "code",
   "source": [
    "# Dessin du graphe\n",
    "plt.figure(figsize=(12*10, 7*10))\n",
    "pos = nx.spring_layout(G_filtered, seed=42)\n",
    "nx.draw(G_filtered, pos, with_labels=True, node_size=node_sizes_filtered, alpha=0.7)\n",
    "plt.title(\"Graphe des Connexions Aériennes (Top 10% PageRank)\")\n",
    "plt.show()"
   ],
   "id": "57e9fb2dde6ab5a",
   "outputs": [],
   "execution_count": null
  },
  {
   "metadata": {},
   "cell_type": "code",
   "source": [
    "weight_threshold = edges_df[\"weight\"].quantile(0.80)  # Garde les 20% des connexions les plus fortes\n",
    "edges_strong = edges_df[edges_df[\"weight\"] >= weight_threshold]\n",
    "\n",
    "# Création du sous-graphe avec connexions fortes\n",
    "G_strong = nx.DiGraph()\n",
    "for _, row in edges_strong.iterrows():\n",
    "    G_strong.add_edge(row[\"src\"], row[\"dst\"], weight=row[\"weight\"])\n",
    "\n",
    "# Taille des nœuds en fonction du PageRank\n",
    "node_sizes_strong = [pagerank_dict[node] * 3000 for node in G_strong.nodes()]"
   ],
   "id": "32a31fbb1ef96429",
   "outputs": [],
   "execution_count": null
  },
  {
   "metadata": {},
   "cell_type": "code",
   "source": [
    "# Dessin du graphe\n",
    "plt.figure(figsize=(12*5, 7*5))\n",
    "pos = nx.spring_layout(G_strong, seed=42)\n",
    "nx.draw(G_strong, pos, with_labels=True, node_size=node_sizes_strong, alpha=0.7)\n",
    "plt.title(\"Graphe des Connexions Aériennes (Routes les plus fréquentées)\")\n",
    "plt.show()"
   ],
   "id": "78efb2228466243c",
   "outputs": [],
   "execution_count": null
  }
 ],
 "metadata": {
  "kernelspec": {
   "display_name": "Python 3 (ipykernel)",
   "language": "python",
   "name": "python3"
  },
  "language_info": {
   "codemirror_mode": {
    "name": "ipython",
    "version": 3
   },
   "file_extension": ".py",
   "mimetype": "text/x-python",
   "name": "python",
   "nbconvert_exporter": "python",
   "pygments_lexer": "ipython3",
   "version": "3.12.8"
  }
 },
 "nbformat": 4,
 "nbformat_minor": 5
}
