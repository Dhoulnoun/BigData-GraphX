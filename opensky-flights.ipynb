{
 "cells": [
  {
   "cell_type": "markdown",
   "id": "4bb42f583bd723c",
   "metadata": {},
   "source": [
    "# Spark Streaming et fenêtres"
   ]
  },
  {
   "cell_type": "markdown",
   "id": "414f9839fa30472a",
   "metadata": {},
   "source": [
    "Use case : Flight tracking with OpenSky"
   ]
  },
  {
   "cell_type": "markdown",
   "id": "79cbc0b0a04a65c8",
   "metadata": {},
   "source": [
    "### Imports"
   ]
  },
  {
   "cell_type": "code",
   "execution_count": 1,
   "id": "e621fd8b6ed4552e",
   "metadata": {
    "ExecuteTime": {
     "end_time": "2025-02-18T12:36:24.483266Z",
     "start_time": "2025-02-18T12:36:24.479999Z"
    }
   },
   "outputs": [],
   "source": [
    "from pyspark.sql import SparkSession, SQLContext\n",
    "from pyspark import SparkContext, SparkConf\n",
    "from pyspark.sql.types import StructType, StructField, StringType, DoubleType, LongType, IntegerType, TimestampType, FloatType, BooleanType\n",
    "from prometheus_client import CollectorRegistry, Gauge, push_to_gateway\n",
    "\n",
    "from pyspark.sql.functions import col, desc, sum, mean, min, max, lit, coalesce, bucket, col, window, avg ,count,from_json, when, current_timestamp, countDistinct\n",
    "from matplotlib.pylab import mean\n",
    "\n",
    "import pandas as pd\n",
    "import seaborn as sns\n",
    "import matplotlib.pyplot as plt\n",
    "import matplotlib.dates as md"
   ]
  },
  {
   "cell_type": "code",
   "execution_count": 2,
   "id": "initial_id",
   "metadata": {
    "ExecuteTime": {
     "end_time": "2025-02-18T12:36:24.470024Z",
     "start_time": "2025-02-18T12:36:20.523619Z"
    },
    "collapsed": true
   },
<<<<<<< HEAD
   "outputs": [],
=======
   "outputs": [
    {
     "name": "stdout",
     "output_type": "stream",
     "text": [
      ":: loading settings :: url = jar:file:/opt/conda/lib/python3.12/site-packages/pyspark/jars/ivy-2.5.1.jar!/org/apache/ivy/core/settings/ivysettings.xml\n"
     ]
    },
    {
     "name": "stderr",
     "output_type": "stream",
     "text": [
      "Ivy Default Cache set to: /home/jovyan/.ivy2/cache\n",
      "The jars for the packages stored in: /home/jovyan/.ivy2/jars\n",
      "org.apache.hadoop#hadoop-aws added as a dependency\n",
      "org.apache.spark#spark-sql-kafka-0-10_2.12 added as a dependency\n",
      ":: resolving dependencies :: org.apache.spark#spark-submit-parent-3ab16b59-8707-4250-a03e-95b319eedb4a;1.0\n",
      "\tconfs: [default]\n",
      "\tfound org.apache.hadoop#hadoop-aws;3.3.4 in central\n",
      "\tfound com.amazonaws#aws-java-sdk-bundle;1.12.262 in central\n",
      "\tfound org.wildfly.openssl#wildfly-openssl;1.0.7.Final in central\n",
      "\tfound org.apache.spark#spark-sql-kafka-0-10_2.12;3.5.3 in central\n",
      "\tfound org.apache.spark#spark-token-provider-kafka-0-10_2.12;3.5.3 in central\n",
      "\tfound org.apache.kafka#kafka-clients;3.4.1 in central\n",
      "\tfound org.lz4#lz4-java;1.8.0 in central\n",
      "\tfound org.xerial.snappy#snappy-java;1.1.10.5 in central\n",
      "\tfound org.slf4j#slf4j-api;2.0.7 in central\n",
      "\tfound org.apache.hadoop#hadoop-client-runtime;3.3.4 in central\n",
      "\tfound org.apache.hadoop#hadoop-client-api;3.3.4 in central\n",
      "\tfound commons-logging#commons-logging;1.1.3 in central\n",
      "\tfound com.google.code.findbugs#jsr305;3.0.0 in central\n",
      "\tfound org.apache.commons#commons-pool2;2.11.1 in central\n",
      "downloading https://repo1.maven.org/maven2/org/apache/hadoop/hadoop-aws/3.3.4/hadoop-aws-3.3.4.jar ...\n",
      "\t[SUCCESSFUL ] org.apache.hadoop#hadoop-aws;3.3.4!hadoop-aws.jar (209ms)\n",
      "downloading https://repo1.maven.org/maven2/org/apache/spark/spark-sql-kafka-0-10_2.12/3.5.3/spark-sql-kafka-0-10_2.12-3.5.3.jar ...\n",
      "\t[SUCCESSFUL ] org.apache.spark#spark-sql-kafka-0-10_2.12;3.5.3!spark-sql-kafka-0-10_2.12.jar (113ms)\n",
      "downloading https://repo1.maven.org/maven2/com/amazonaws/aws-java-sdk-bundle/1.12.262/aws-java-sdk-bundle-1.12.262.jar ...\n",
      "\t[SUCCESSFUL ] com.amazonaws#aws-java-sdk-bundle;1.12.262!aws-java-sdk-bundle.jar (76746ms)\n",
      "downloading https://repo1.maven.org/maven2/org/wildfly/openssl/wildfly-openssl/1.0.7.Final/wildfly-openssl-1.0.7.Final.jar ...\n",
      "\t[SUCCESSFUL ] org.wildfly.openssl#wildfly-openssl;1.0.7.Final!wildfly-openssl.jar (126ms)\n",
      "downloading https://repo1.maven.org/maven2/org/apache/spark/spark-token-provider-kafka-0-10_2.12/3.5.3/spark-token-provider-kafka-0-10_2.12-3.5.3.jar ...\n",
      "\t[SUCCESSFUL ] org.apache.spark#spark-token-provider-kafka-0-10_2.12;3.5.3!spark-token-provider-kafka-0-10_2.12.jar (54ms)\n",
      "downloading https://repo1.maven.org/maven2/org/apache/kafka/kafka-clients/3.4.1/kafka-clients-3.4.1.jar ...\n",
      "\t[SUCCESSFUL ] org.apache.kafka#kafka-clients;3.4.1!kafka-clients.jar (1061ms)\n",
      "downloading https://repo1.maven.org/maven2/com/google/code/findbugs/jsr305/3.0.0/jsr305-3.0.0.jar ...\n",
      "\t[SUCCESSFUL ] com.google.code.findbugs#jsr305;3.0.0!jsr305.jar (48ms)\n",
      "downloading https://repo1.maven.org/maven2/org/apache/commons/commons-pool2/2.11.1/commons-pool2-2.11.1.jar ...\n",
      "\t[SUCCESSFUL ] org.apache.commons#commons-pool2;2.11.1!commons-pool2.jar (60ms)\n",
      "downloading https://repo1.maven.org/maven2/org/apache/hadoop/hadoop-client-runtime/3.3.4/hadoop-client-runtime-3.3.4.jar ...\n",
      "\t[SUCCESSFUL ] org.apache.hadoop#hadoop-client-runtime;3.3.4!hadoop-client-runtime.jar (6426ms)\n",
      "downloading https://repo1.maven.org/maven2/org/lz4/lz4-java/1.8.0/lz4-java-1.8.0.jar ...\n",
      "\t[SUCCESSFUL ] org.lz4#lz4-java;1.8.0!lz4-java.jar (168ms)\n",
      "downloading https://repo1.maven.org/maven2/org/xerial/snappy/snappy-java/1.1.10.5/snappy-java-1.1.10.5.jar ...\n",
      "\t[SUCCESSFUL ] org.xerial.snappy#snappy-java;1.1.10.5!snappy-java.jar(bundle) (574ms)\n",
      "downloading https://repo1.maven.org/maven2/org/slf4j/slf4j-api/2.0.7/slf4j-api-2.0.7.jar ...\n",
      "\t[SUCCESSFUL ] org.slf4j#slf4j-api;2.0.7!slf4j-api.jar (55ms)\n",
      "downloading https://repo1.maven.org/maven2/org/apache/hadoop/hadoop-client-api/3.3.4/hadoop-client-api-3.3.4.jar ...\n",
      "\t[SUCCESSFUL ] org.apache.hadoop#hadoop-client-api;3.3.4!hadoop-client-api.jar (3616ms)\n",
      "downloading https://repo1.maven.org/maven2/commons-logging/commons-logging/1.1.3/commons-logging-1.1.3.jar ...\n",
      "\t[SUCCESSFUL ] commons-logging#commons-logging;1.1.3!commons-logging.jar (55ms)\n",
      ":: resolution report :: resolve 8374ms :: artifacts dl 89332ms\n",
      "\t:: modules in use:\n",
      "\tcom.amazonaws#aws-java-sdk-bundle;1.12.262 from central in [default]\n",
      "\tcom.google.code.findbugs#jsr305;3.0.0 from central in [default]\n",
      "\tcommons-logging#commons-logging;1.1.3 from central in [default]\n",
      "\torg.apache.commons#commons-pool2;2.11.1 from central in [default]\n",
      "\torg.apache.hadoop#hadoop-aws;3.3.4 from central in [default]\n",
      "\torg.apache.hadoop#hadoop-client-api;3.3.4 from central in [default]\n",
      "\torg.apache.hadoop#hadoop-client-runtime;3.3.4 from central in [default]\n",
      "\torg.apache.kafka#kafka-clients;3.4.1 from central in [default]\n",
      "\torg.apache.spark#spark-sql-kafka-0-10_2.12;3.5.3 from central in [default]\n",
      "\torg.apache.spark#spark-token-provider-kafka-0-10_2.12;3.5.3 from central in [default]\n",
      "\torg.lz4#lz4-java;1.8.0 from central in [default]\n",
      "\torg.slf4j#slf4j-api;2.0.7 from central in [default]\n",
      "\torg.wildfly.openssl#wildfly-openssl;1.0.7.Final from central in [default]\n",
      "\torg.xerial.snappy#snappy-java;1.1.10.5 from central in [default]\n",
      "\t---------------------------------------------------------------------\n",
      "\t|                  |            modules            ||   artifacts   |\n",
      "\t|       conf       | number| search|dwnlded|evicted|| number|dwnlded|\n",
      "\t---------------------------------------------------------------------\n",
      "\t|      default     |   14  |   14  |   14  |   0   ||   14  |   14  |\n",
      "\t---------------------------------------------------------------------\n",
      ":: retrieving :: org.apache.spark#spark-submit-parent-3ab16b59-8707-4250-a03e-95b319eedb4a\n",
      "\tconfs: [default]\n",
      "\t14 artifacts copied, 0 already retrieved (332424kB/1403ms)\n",
      "25/02/21 08:39:29 WARN NativeCodeLoader: Unable to load native-hadoop library for your platform... using builtin-java classes where applicable\n",
      "Setting default log level to \"WARN\".\n",
      "To adjust logging level use sc.setLogLevel(newLevel). For SparkR, use setLogLevel(newLevel).\n"
     ]
    },
    {
     "name": "stdout",
     "output_type": "stream",
     "text": [
      "SparkSession and SparkContext successfully created.\n"
     ]
    },
    {
     "name": "stderr",
     "output_type": "stream",
     "text": [
      "/opt/conda/lib/python3.12/site-packages/pyspark/sql/context.py:113: FutureWarning: Deprecated in 3.0.0. Use SparkSession.builder.getOrCreate() instead.\n",
      "  warnings.warn(\n"
     ]
    }
   ],
>>>>>>> origin/master
   "source": [
    "conf = SparkConf() \\\n",
    "    .setAppName(\"SparkApp\") \\\n",
    "    .setMaster(\"spark://spark:7077\") \\\n",
    "    .set(\"spark.jars.packages\", \"org.apache.hadoop:hadoop-aws:3.3.4,org.apache.spark:spark-sql-kafka-0-10_2.12:3.5.3\") \\\n",
    "    .set(\"spark.sql.shuffle.partitions\", \"10\")\n",
    "\n",
    "# Build the SparkSession using the unified configuration\n",
    "spark = SparkSession.builder.config(conf=conf).getOrCreate()\n",
    "\n",
    "# Get the SparkContext from the SparkSession (if needed)\n",
    "sc = spark.sparkContext\n",
    "\n",
    "# Create a SQLContext (if needed for legacy operations)\n",
    "sql_context = SQLContext(sc)\n",
    "\n",
    "print(\"SparkSession and SparkContext successfully created.\")"
   ]
  },
  {
   "cell_type": "markdown",
   "id": "3f611568",
   "metadata": {},
   "source": [
    "### Configuration kafka et spark"
   ]
  },
  {
   "cell_type": "code",
<<<<<<< HEAD
   "execution_count": 3,
=======
   "execution_count": 10,
>>>>>>> origin/master
   "id": "20b9cced",
   "metadata": {
    "ExecuteTime": {
     "end_time": "2025-02-18T12:36:26.412948Z",
     "start_time": "2025-02-18T12:36:24.826668Z"
    }
   },
   "outputs": [],
   "source": [
    "flights_df = sql_context.read.format(\"kafka\") \\\n",
    "    .option(\"kafka.bootstrap.servers\", \"kafka1:9092\") \\\n",
    "    .option(\"subscribe\", \"arrivals\") \\\n",
    "    .option(\"startingOffsets\", \"earliest\") \\\n",
    "    .option(\"endingOffsets\", \"latest\") \\\n",
    "    .load()"
   ]
  },
  {
   "cell_type": "code",
<<<<<<< HEAD
   "execution_count": 4,
=======
   "execution_count": 12,
>>>>>>> origin/master
   "id": "846815e9",
   "metadata": {
    "ExecuteTime": {
     "end_time": "2025-02-18T12:36:26.692456Z",
     "start_time": "2025-02-18T12:36:26.483446Z"
    }
   },
   "outputs": [],
   "source": [
    "schema = StructType([\n",
    "    StructField(\"icao24\", StringType(), True),\n",
    "    StructField(\"firstSeen\", LongType(), True),\n",
    "    StructField(\"estDepartureAirport\", StringType(), True),\n",
    "    StructField(\"lastSeen\", LongType(), True),\n",
    "    StructField(\"estArrivalAirport\", StringType(), True),\n",
    "    StructField(\"estDepartureAirportHorizDistance\", LongType(), True),\n",
    "    StructField(\"estDepartureAirportVertDistance\", LongType(), True),\n",
    "    StructField(\"estArrivalAirportHorizDistance\", LongType(), True),\n",
    "    StructField(\"estArrivalAirportVertDistance\", LongType(), True),\n",
    "    StructField(\"departureAirportCandidatesCount\", LongType(), True),\n",
    "    StructField(\"arrivalAirportCandidatesCount\", LongType(), True)\n",
    "])\n",
    "\n",
    "flights_json = flights_df.select(from_json(col(\"value\").cast(\"string\"), schema).alias(\"data\")).select(\"data.*\")\n"
   ]
  },
  {
   "cell_type": "markdown",
   "id": "05f2e9e2",
   "metadata": {},
   "source": [
    "## Requêtes en mode batch, avec état.\n",
    "### Mode batch avec fenêtre"
   ]
  },
  {
   "cell_type": "code",
   "execution_count": 18,
   "id": "c0fae661",
   "metadata": {},
   "outputs": [],
   "source": [
    "arrival_df = sql_context.read.format(\"kafka\") \\\n",
    "    .option(\"kafka.bootstrap.servers\", \"kafka1:9092\") \\\n",
    "    .option(\"subscribe\", \"opensky-arrivals\") \\\n",
    "    .option(\"startingOffsets\", \"earliest\") \\\n",
    "    .option(\"endingOffsets\", \"latest\") \\\n",
    "    .load()\n",
    "\n",
    "arrival_json = arrival_df.select(from_json(col(\"value\").cast(\"string\"), schema).alias(\"data\")).select(\"data.*\")\n"
   ]
  },
  {
   "cell_type": "code",
   "execution_count": 24,
   "id": "f68321e1",
   "metadata": {},
<<<<<<< HEAD
   "outputs": [],
=======
   "outputs": [
    {
     "name": "stderr",
     "output_type": "stream",
     "text": [
      "25/02/21 09:24:20 WARN AdminClientConfig: These configurations '[key.deserializer, value.deserializer, enable.auto.commit, max.poll.records, auto.offset.reset]' were supplied but are not used yet.\n",
      "                                                                                \r"
     ]
    },
    {
     "data": {
      "text/plain": [
       "Text(0.5, 1.0, \"Nombre d'arrivées par heure\")"
      ]
     },
     "execution_count": 24,
     "metadata": {},
     "output_type": "execute_result"
    },
    {
     "data": {
      "image/png": "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",
      "text/plain": [
       "<Figure size 640x480 with 1 Axes>"
      ]
     },
     "metadata": {},
     "output_type": "display_data"
    }
   ],
>>>>>>> origin/master
   "source": [
    "# Parse Kafka messages\n",
    "parsed_stream = arrival_df.selectExpr(\"CAST(value AS STRING) AS message\") \\\n",
    "    .select(from_json(col(\"message\"), schema).alias(\"data\")) \\\n",
    "    .select(\n",
    "        col(\"data.lastSeen\").cast(TimestampType()).alias(\"ArrivalTime\"),\n",
    "        col(\"data.estArrivalAirport\").alias(\"Airport\")\n",
    "    )\n",
    "\n",
    "# Compute number of arrivals over a 60-minute window\n",
    "rolling_numbers = parsed_stream \\\n",
    "    .groupBy(window(col(\"ArrivalTime\"), \"60 minutes\")) \\\n",
    "    .count() \\\n",
    "    .select(\n",
    "        col(\"window.start\").alias(\"window_start\"),\n",
    "        col(\"window.end\").alias(\"window_end\"),\n",
    "        col(\"count\").alias(\"num_arrivals\")\n",
    "    ).orderBy(\"window_start\")\n",
    "\n",
    "# Collect the result as a Pandas DataFrame\n",
    "pandas_df = rolling_numbers.toPandas()\n",
    "pandas_df\n",
    "\n",
    "g = sns.lineplot(data=pandas_df, x=\"window_start\", y=\"num_arrivals\")\n",
    "g.xaxis.set_major_formatter(md.DateFormatter('%d/%m\\n%H:%M'))\n",
    "g.set_title(\"Nombre d'arrivées par heure\")"
   ]
  },
  {
   "cell_type": "markdown",
   "id": "e2b0be41",
   "metadata": {},
   "source": [
    "### Mode batch sans fenêtre"
   ]
  },
  {
   "cell_type": "code",
   "execution_count": 20,
   "id": "db37273b",
   "metadata": {},
<<<<<<< HEAD
   "outputs": [],
=======
   "outputs": [
    {
     "name": "stderr",
     "output_type": "stream",
     "text": [
      "25/02/21 09:22:11 WARN AdminClientConfig: These configurations '[key.deserializer, value.deserializer, enable.auto.commit, max.poll.records, auto.offset.reset]' were supplied but are not used yet.\n",
      "25/02/21 09:22:12 WARN AdminClientConfig: These configurations '[key.deserializer, value.deserializer, enable.auto.commit, max.poll.records, auto.offset.reset]' were supplied but are not used yet.\n",
      "                                                                                \r"
     ]
    },
    {
     "data": {
      "text/plain": [
       "DataFrame[estDepartureAirport: string, estArrivalAirport: string, flight_count: bigint]"
      ]
     },
     "execution_count": 20,
     "metadata": {},
     "output_type": "execute_result"
    }
   ],
>>>>>>> origin/master
   "source": [
    "arrival_counts = arrival_json \\\n",
    "    .groupBy(\"estDepartureAirport\", \"estArrivalAirport\") \\\n",
    "    .count() \\\n",
    "    .withColumnRenamed(\"count\", \"flight_count\")\n",
    "\n",
    "# Créer un DataFrame pour les arêtes (vols)\n",
    "nbVols = arrival_counts.select(\n",
    "    col(\"estDepartureAirport\").alias(\"src\"),\n",
    "    col(\"estArrivalAirport\").alias(\"dst\"),\n",
    "    col(\"flight_count\")\n",
    ")\n",
    "# on se limite au 15 aéroports les plus fréquentés\n",
    "top_n = 15\n",
    "\n",
    "# Identifier les aéroports les plus fréquentés (combinaison de départs et arrivées)\n",
    "top_airports = (\n",
    "    arrival_counts.select(\"estDepartureAirport\").union(arrival_counts.select(\"estArrivalAirport\"))\n",
    "    .groupBy(\"estDepartureAirport\").count()\n",
    "    .orderBy(desc(\"count\"))\n",
    "    .limit(top_n)\n",
    "    .select(\"estDepartureAirport\").collect()\n",
    ")\n",
    "top_airport_codes = [row['estDepartureAirport'] for row in top_airports]\n",
    "\n",
    "# Filtrer le dataframe pour n'inclure que les vols entre ces aéroports principaux\n",
    "filtered_counts = arrival_counts.filter(\n",
    "    (col(\"estDepartureAirport\").isin(top_airport_codes)) & \n",
    "    (col(\"estArrivalAirport\").isin(top_airport_codes))\n",
    ")\n",
    "\n",
    "filtered_counts"
   ]
  },
  {
   "cell_type": "code",
   "execution_count": 21,
   "id": "9204d17d",
   "metadata": {},
<<<<<<< HEAD
   "outputs": [],
=======
   "outputs": [
    {
     "name": "stderr",
     "output_type": "stream",
     "text": [
      "25/02/21 09:22:20 WARN AdminClientConfig: These configurations '[key.deserializer, value.deserializer, enable.auto.commit, max.poll.records, auto.offset.reset]' were supplied but are not used yet.\n",
      "25/02/21 09:22:22 WARN AdminClientConfig: These configurations '[key.deserializer, value.deserializer, enable.auto.commit, max.poll.records, auto.offset.reset]' were supplied but are not used yet.\n"
     ]
    },
    {
     "name": "stdout",
     "output_type": "stream",
     "text": [
      "+----+----+------------+\n",
      "| src| dst|flight_count|\n",
      "+----+----+------------+\n",
      "|EGLL|EDDF|         109|\n",
      "|EGLL|EDDM|          96|\n",
      "|EDDB|EDDF|          94|\n",
      "|EDDM|EDDF|          93|\n",
      "|EDDH|EDDM|          89|\n",
      "|EDDF|EDDM|          89|\n",
      "|LOWW|EDDF|          85|\n",
      "|EHAM|EDDM|          82|\n",
      "|EDDH|EDDF|          79|\n",
      "|EDDL|EDDM|          79|\n",
      "|EDDB|EDDM|          76|\n",
      "|EHAM|EDDF|          73|\n",
      "|LFPG|EDDF|          70|\n",
      "|LEMD|EDDF|          63|\n",
      "|LFPG|EDDM|          62|\n",
      "+----+----+------------+\n",
      "\n"
     ]
    },
    {
     "name": "stderr",
     "output_type": "stream",
     "text": [
      "                                                                                \r"
     ]
    },
    {
     "data": {
      "image/png": "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",
      "text/plain": [
       "<Figure size 1400x800 with 1 Axes>"
      ]
     },
     "metadata": {},
     "output_type": "display_data"
    }
   ],
>>>>>>> origin/master
   "source": [
    "# Filtrer les données qui valent NULL\n",
    "filtered_nbVols = nbVols.filter(\n",
    "    (col(\"src\").isNotNull()) & \n",
    "    (col(\"dst\").isNotNull())\n",
    ")\n",
    "\n",
    "# Trouver les routes les plus empruntées\n",
    "top_routes = filtered_nbVols.orderBy(desc(\"flight_count\")).limit(top_n)\n",
    "top_routes.show()\n",
    "\n",
    "# Convertir en pandas pour visualisation avec Seaborn\n",
    "top_routes_pd = top_routes.toPandas()\n",
    "\n",
    "# Créer des visualisations\n",
    "plt.figure(figsize=(14, 8))\n",
    "\n",
    "# Graphique des routes les plus fréquentées\n",
    "plt.subplot(1, 2, 2)\n",
    "sns.barplot(x=\"flight_count\", y=top_routes_pd.apply(lambda x: f\"{x['src']}-{x['dst']}\", axis=1), \n",
    "            data=top_routes_pd, orient=\"h\")\n",
    "plt.title(\"Routes les plus fréquentées\")\n",
    "plt.tight_layout()\n",
    "\n",
    "plt.savefig(\"aviation_network_analysis.png\")\n",
    "plt.show()\n",
    "plt.close()"
   ]
  },
  {
   "cell_type": "code",
   "execution_count": 22,
   "id": "9db33b7c",
   "metadata": {},
<<<<<<< HEAD
   "outputs": [],
=======
   "outputs": [
    {
     "name": "stderr",
     "output_type": "stream",
     "text": [
      "25/02/21 09:22:32 WARN AdminClientConfig: These configurations '[key.deserializer, value.deserializer, enable.auto.commit, max.poll.records, auto.offset.reset]' were supplied but are not used yet.\n",
      "                                                                                \r"
     ]
    },
    {
     "name": "stdout",
     "output_type": "stream",
     "text": [
      "Parmi les 15 principaux aéroports:\n",
      "Nombre total de routes possibles: 225\n",
      "Nombre de routes effectivement desservies: 30\n",
      "Ratio de connectivité: 13.33%\n",
      "Nombre moyen de vols par route active: 28.4\n"
     ]
    }
   ],
>>>>>>> origin/master
   "source": [
    "# Convertir en pandas pour le pivot\n",
    "matrix_data = filtered_counts.toPandas()\n",
    "\n",
    "# Créer la matrice pivot\n",
    "flight_matrix = matrix_data.pivot(index='estDepartureAirport', columns='estArrivalAirport', values='flight_count')\n",
    "flight_matrix = flight_matrix.fillna(0)  # Remplacer les NaN par 0\n",
    "\n",
    "# Créer le heatmap\n",
    "plt.figure(figsize=(16, 12))\n",
    "ax = sns.heatmap(\n",
    "    flight_matrix,\n",
    "    annot=True,           # Afficher les valeurs\n",
    "    fmt='g',              # Format des nombres (entiers)\n",
    "    cmap='YlGnBu',        # Palette de couleurs (jaune-vert-bleu)\n",
    "    linewidths=0.5,       # Lignes entre les cellules\n",
    "    cbar_kws={'label': 'Nombre de vols'}\n",
    ")\n",
    "\n",
    "# Ajuster les étiquettes et le titre\n",
    "plt.title('Nombre de vols entre les principaux aéroports', fontsize=16)\n",
    "plt.xlabel('Destinations', fontsize=12)\n",
    "plt.ylabel('Origines', fontsize=12)\n",
    "\n",
    "# Rotation des étiquettes pour la lisibilité\n",
    "plt.xticks(rotation=45, ha='right')\n",
    "plt.yticks(rotation=0)\n",
    "\n",
    "# Ajuster la mise en page\n",
    "plt.tight_layout()\n",
    "\n",
    "# Sauvegarder et afficher\n",
    "plt.savefig(\"/tmp/flight_heatmap_origin_destination.png\", dpi=300)\n",
    "# plt.show()\n",
    "plt.close()\n",
    "\n",
    "# Obtenir quelques statistiques sur cette matrice\n",
    "nonzero_routes = (flight_matrix > 0).sum().sum()\n",
    "total_possible_routes = len(top_airport_codes) * len(top_airport_codes)\n",
    "connectivity_ratio = nonzero_routes / total_possible_routes\n",
    "\n",
    "print(f\"Parmi les {top_n} principaux aéroports:\")\n",
    "print(f\"Nombre total de routes possibles: {total_possible_routes}\")\n",
    "print(f\"Nombre de routes effectivement desservies: {nonzero_routes}\")\n",
    "print(f\"Ratio de connectivité: {connectivity_ratio:.2%}\")\n",
    "print(f\"Nombre moyen de vols par route active: {flight_matrix.sum().sum() / nonzero_routes:.1f}\")"
   ]
  },
  {
   "cell_type": "markdown",
   "id": "688821c0",
   "metadata": {},
   "source": [
    "## Requête avec SparkSQL"
   ]
  },
  {
   "cell_type": "code",
   "execution_count": 23,
   "id": "6322bda5",
   "metadata": {
    "ExecuteTime": {
     "end_time": "2025-02-18T12:36:36.745832Z",
     "start_time": "2025-02-18T12:36:26.714326Z"
    }
   },
<<<<<<< HEAD
   "outputs": [],
=======
   "outputs": [
    {
     "name": "stderr",
     "output_type": "stream",
     "text": [
      "25/02/21 09:22:45 WARN AdminClientConfig: These configurations '[key.deserializer, value.deserializer, enable.auto.commit, max.poll.records, auto.offset.reset]' were supplied but are not used yet.\n",
      "[Stage 85:=============================>                            (1 + 1) / 2]\r"
     ]
    },
    {
     "name": "stdout",
     "output_type": "stream",
     "text": [
      "+-------------------+-----------------+-----+\n",
      "|estDepartureAirport|estArrivalAirport|count|\n",
      "+-------------------+-----------------+-----+\n",
      "|               EGLL|             EDDF|  318|\n",
      "|               EGLL|             EDDM|  281|\n",
      "|               EDDM|             EDDF|  271|\n",
      "|               EDDF|             EDDB|  268|\n",
      "|               EDDB|             EDDF|  268|\n",
      "+-------------------+-----------------+-----+\n",
      "\n"
     ]
    },
    {
     "name": "stderr",
     "output_type": "stream",
     "text": [
      "                                                                                \r"
     ]
    }
   ],
>>>>>>> origin/master
   "source": [
    "# Enregistrer le DataFrame en tant que table temporaire\n",
    "flights_json.createOrReplaceTempView(\"flights\")\n",
    "\n",
    "# Top 5 de la correspondance la plus fréquente\n",
    "query = \"\"\"\n",
    "SELECT estDepartureAirport, estArrivalAirport, COUNT(*) as count\n",
    "FROM flights\n",
    "WHERE estDepartureAirport IS NOT NULL AND estArrivalAirport IS NOT NULL AND estDepartureAirport != estArrivalAirport\n",
    "GROUP BY estDepartureAirport, estArrivalAirport\n",
    "ORDER BY count DESC\n",
    "LIMIT 5\n",
    "\"\"\"\n",
    "\n",
    "top_5_couples = sql_context.sql(query)\n",
    "\n",
    "# Afficher les résultats\n",
    "top_5_couples.show()"
   ]
  },
  {
   "cell_type": "markdown",
   "id": "878f6d4509b615f2",
   "metadata": {},
   "source": [
    "## Requête en mode batch et résultats sous forme de graphiques"
   ]
  },
  {
   "cell_type": "code",
   "execution_count": null,
   "id": "6687f958118248c8",
   "metadata": {
    "ExecuteTime": {
     "end_time": "2025-02-18T12:36:36.979408Z",
     "start_time": "2025-02-18T12:36:36.755741Z"
    }
   },
   "outputs": [],
   "source": [
    "# Afficher un exemple brut\n",
    "flights_df.selectExpr(\"CAST(value AS STRING)\").show(5, False)"
   ]
  },
  {
   "cell_type": "code",
   "execution_count": null,
   "id": "9cff94e644396ca4",
   "metadata": {
    "ExecuteTime": {
     "end_time": "2025-02-18T12:36:37.047610Z",
     "start_time": "2025-02-18T12:36:36.988311Z"
    }
   },
   "outputs": [],
   "source": [
    "filtered_flights = flights_json.filter(\n",
    "    (col(\"estDepartureAirport\").isNotNull()) &\n",
    "    (col(\"estArrivalAirport\").isNotNull())\n",
    ")\n",
    "\n",
    "outbound = filtered_flights.groupBy(\"estDepartureAirport\") \\\n",
    "    .agg(count(\"*\").alias(\"vols_sortants\")) \\\n",
    "    .orderBy(desc(\"vols_sortants\"))\n",
    "\n",
    "inbound = filtered_flights.groupBy(\"estArrivalAirport\") \\\n",
    "    .agg(count(\"*\").alias(\"vols_entrants\")) \\\n",
    "    .orderBy(desc(\"vols_entrants\"))\n"
   ]
  },
  {
   "cell_type": "code",
   "execution_count": null,
   "id": "ee9c4ef205a02cb0",
   "metadata": {
    "ExecuteTime": {
     "end_time": "2025-02-18T12:36:41.972571Z",
     "start_time": "2025-02-18T12:36:37.080048Z"
    }
   },
   "outputs": [],
   "source": [
    "outbound_pd = outbound.limit(10).toPandas()\n",
    "inbound_pd = inbound.limit(10).toPandas()\n",
    "\n",
    "# 🎨 Configurer le style Seaborn\n",
    "sns.set_theme(style=\"whitegrid\", palette=\"muted\")\n",
    "\n",
    "# 📈 Vols sortants\n",
    "plt.figure(figsize=(10, 5))\n",
    "sns.barplot(\n",
    "    x=\"vols_sortants\",\n",
    "    y=\"estDepartureAirport\",\n",
    "    data=outbound_pd,\n",
    "    palette=\"Blues_r\"\n",
    ")\n",
    "plt.title(\"Top 10 Aéroports - Vols sortants \", fontsize=14, fontweight='bold')\n",
    "plt.xlabel(\"Nombre de vols\")\n",
    "plt.ylabel(\"Aéroport (Départ)\")\n",
    "plt.grid(True, linestyle='--', alpha=0.7)\n",
    "plt.show()\n",
    "\n",
    "# 📊 Vols entrants\n",
    "plt.figure(figsize=(10, 5))\n",
    "sns.barplot(\n",
    "    x=\"vols_entrants\",\n",
    "    y=\"estArrivalAirport\",\n",
    "    data=inbound_pd,\n",
    "    palette=\"Oranges_r\"\n",
    ")\n",
    "plt.title(\"Top 10 Aéroports - Vols entrants \", fontsize=14, fontweight='bold')\n",
    "plt.xlabel(\"Nombre de vols\")\n",
    "plt.ylabel(\"Aéroport (Arrivée)\")\n",
    "plt.grid(True, linestyle='--', alpha=0.7)\n",
    "plt.show()"
   ]
  },
  {
   "cell_type": "markdown",
   "id": "969fb1b4",
   "metadata": {},
   "source": [
    "# Spark streaming"
   ]
  },
  {
   "cell_type": "markdown",
   "id": "4768e955",
   "metadata": {},
   "source": [
    "## Definir the shema de données states"
   ]
  },
  {
   "cell_type": "code",
   "execution_count": 5,
   "id": "79a176a1",
   "metadata": {},
   "outputs": [],
   "source": [
    "schema = StructType() \\\n",
    "    .add(\"icao24\", StringType()) \\\n",
    "    .add(\"callsign\", StringType()) \\\n",
    "    .add(\"origin_country\", StringType()) \\\n",
    "    .add(\"time_position\", DoubleType()) \\\n",
    "    .add(\"last_contact\", DoubleType()) \\\n",
    "    .add(\"longitude\", DoubleType()) \\\n",
    "    .add(\"latitude\", DoubleType()) \\\n",
    "    .add(\"altitude\", DoubleType()) \\\n",
    "    .add(\"on_ground\", BooleanType()) \\\n",
    "    .add(\"velocity\", DoubleType()) \\\n",
    "    .add(\"heading\", DoubleType()) \\\n",
    "    .add(\"vertical_rate\", DoubleType()) \\\n",
    "    .add(\"sensors\", StringType()) \\\n",
    "    .add(\"geo_altitude\", DoubleType()) \\\n",
    "    .add(\"squawk\", StringType()) \\\n",
    "    .add(\"spi\", BooleanType()) \\\n",
    "    .add(\"position_source\", StringType())"
   ]
  },
  {
   "cell_type": "markdown",
   "id": "7af1eaca",
   "metadata": {},
   "source": [
    "## Création des Streaming Queries"
   ]
  },
  {
   "cell_type": "code",
   "execution_count": 6,
   "id": "50b17453",
   "metadata": {},
   "outputs": [],
   "source": [
    "df_filtered_flights = spark.readStream \\\n",
    "    .format(\"kafka\") \\\n",
    "    .option(\"kafka.bootstrap.servers\", \"kafka1:9092\") \\\n",
    "    .option(\"subscribe\", \"opensky_filtered_flights\") \\\n",
    "    .option(\"startingOffsets\", \"earliest\") \\\n",
    "    .load()\n",
    "\n",
    "df_filtered_flights = df_filtered_flights.selectExpr(\"CAST(value AS STRING) as json_value\") \\\n",
    "    .select(from_json(col(\"json_value\"), schema).alias(\"data\")) \\\n",
    "    .select(\"data.*\") \\\n",
    "    .withColumn(\"event_time\", current_timestamp())\n",
    "\n",
    "df_filtered_windowed = df_filtered_flights.groupBy(\n",
    "    window(col(\"event_time\"), \"1 minute\"),\n",
    "    col(\"origin_country\")\n",
    ").count()\n",
    "\n",
    "df_bucketed = df_filtered_flights.withColumn(\n",
    "    \"altitude_range\",\n",
    "    when(col(\"altitude\") < 5000, \"Low\")\n",
    "    .when((col(\"altitude\") >= 5000) & (col(\"altitude\") < 15000), \"Medium\")\n",
    "    .otherwise(\"High\")\n",
    ")\n",
    "\n",
    "df_bucket_count = df_bucketed.groupBy(\n",
    "    window(col(\"event_time\"), \"1 minute\"),\n",
    "    col(\"altitude_range\")\n",
    ").count()"
   ]
  },
  {
   "cell_type": "code",
   "execution_count": null,
   "id": "154e4a69",
   "metadata": {},
   "outputs": [],
   "source": [
    "from prometheus_client import CollectorRegistry, Gauge, push_to_gateway\n",
    "\n",
    "def push_metrics_to_prometheus(df, epoch_id):\n",
    "    registry = CollectorRegistry()\n",
    "    \n",
    "    gauge = Gauge(\n",
    "        'filtered_flights_count', \n",
    "        'Count of filtered flights per country (per 1-minute window)', \n",
    "        ['origin_country'], \n",
    "        registry=registry\n",
    "    )\n",
    "    \n",
    "    for row in df.collect():\n",
    "        country = row['origin_country']\n",
    "        count_val = row['count']\n",
    "        gauge.labels(origin_country=country).set(count_val)\n",
    "    \n",
    "    push_to_gateway('pushgateway:9091', job='spark_filtered_flights', registry=registry)\n",
    "    print(f\"Epoch {epoch_id}: Metrics pushed to Prometheus Pushgateway.\")\n",
    "\n",
    "query_prometheus = df_filtered_windowed.writeStream \\\n",
    "    .outputMode(\"update\") \\\n",
    "    .foreachBatch(push_metrics_to_prometheus) \\\n",
    "    .start()\n",
    "\n",
    "query_prometheus.awaitTermination()\n"
   ]
  },
  {
   "cell_type": "code",
   "execution_count": null,
   "id": "4c2b3528",
   "metadata": {},
   "outputs": [],
   "source": [
    "def push_bucket_metrics(df, epoch_id):\n",
    "    registry = CollectorRegistry()\n",
    "    \n",
    "    gauge = Gauge(\n",
    "        'bucketed_flights_count', \n",
    "        'Count of flights by altitude range per 1-minute window', \n",
    "        ['altitude_range'], \n",
    "        registry=registry\n",
    "    )\n",
    "    \n",
    "    # Iterate over each row in the micro-batch DataFrame.\n",
    "    # Each row should contain the altitude_range and its corresponding count.\n",
    "    for row in df.collect():\n",
    "        bucket = row['altitude_range']\n",
    "        count_val = row['count']\n",
    "        gauge.labels(altitude_range=bucket).set(count_val)\n",
    "    \n",
    "    # Push the metrics to the Pushgateway (ensure the host/port match your configuration)\n",
    "    push_to_gateway('pushgateway:9091', job='spark_bucketed_flights', registry=registry)\n",
    "    print(f\"Epoch {epoch_id}: Bucket metrics pushed to Prometheus Pushgateway.\")\n",
    "\n",
    "# Attach the foreachBatch function to your bucketed query output\n",
    "query_bucket_prom = df_bucket_count.writeStream \\\n",
    "    .outputMode(\"update\") \\\n",
    "    .foreachBatch(push_bucket_metrics) \\\n",
    "    .start()\n",
    "\n",
    "query_bucket_prom.awaitTermination()\n"
   ]
  },
  {
   "cell_type": "markdown",
   "id": "bb637d61",
   "metadata": {},
   "source": [
    "## Affichage des Streaming Queries"
   ]
  },
  {
   "cell_type": "code",
   "execution_count": null,
   "id": "11b4974b",
   "metadata": {},
   "outputs": [],
   "source": [
    "query_bucket = df_bucket_count.writeStream \\\n",
    "    .outputMode(\"complete\") \\\n",
    "    .format(\"console\") \\\n",
    "    .queryName(\"bucket_console_query\") \\\n",
    "    .start()\n",
    "\n",
    "query_filtered = df_filtered_windowed.writeStream \\\n",
    "    .outputMode(\"update\") \\\n",
    "    .format(\"console\") \\\n",
    "    .queryName(\"filtered_console_query\") \\\n",
    "    .start()\n",
    "\n",
    "# Uncomment the following lines if you wish to block execution:\n",
    "query_bucket.awaitTermination()\n",
    "query_filtered.awaitTermination()"
   ]
  }
 ],
 "metadata": {
  "kernelspec": {
   "display_name": "Python 3 (ipykernel)",
   "language": "python",
   "name": "python3"
  },
  "language_info": {
   "codemirror_mode": {
    "name": "ipython",
    "version": 3
   },
   "file_extension": ".py",
   "mimetype": "text/x-python",
   "name": "python",
   "nbconvert_exporter": "python",
   "pygments_lexer": "ipython3",
   "version": "3.12.9"
  }
 },
 "nbformat": 4,
 "nbformat_minor": 5
}
