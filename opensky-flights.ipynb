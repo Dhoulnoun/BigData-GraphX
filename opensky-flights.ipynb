{
 "cells": [
  {
   "cell_type": "markdown",
   "id": "4bb42f583bd723c",
   "metadata": {},
   "source": "# Opensky with GraphX Project"
  },
  {
   "cell_type": "markdown",
   "id": "414f9839fa30472a",
   "metadata": {},
   "source": [
    "Use case : Flight tracking with OpenSky"
   ]
  },
  {
   "cell_type": "markdown",
   "id": "79cbc0b0a04a65c8",
   "metadata": {},
   "source": "## Imports"
  },
  {
   "metadata": {
    "ExecuteTime": {
     "end_time": "2025-02-21T19:46:22.533746Z",
     "start_time": "2025-02-21T19:46:22.311921Z"
    }
   },
   "cell_type": "code",
   "source": [
    "from pyspark.sql import SparkSession, SQLContext\n",
    "from pyspark import SparkContext, SparkConf\n",
    "from pyspark.sql.types import StructType, StructField, StringType, DoubleType, LongType, IntegerType, TimestampType, FloatType, BooleanType\n",
    "from prometheus_client import CollectorRegistry, Gauge, push_to_gateway\n",
    "\n",
    "from pyspark.sql.functions import col, desc, sum, mean, min, max, lit, coalesce, bucket, col, window, avg ,count,from_json, when, current_timestamp, countDistinct\n",
    "from matplotlib.pylab import mean\n",
    "\n",
    "import pandas as pd\n",
    "import seaborn as sns\n",
    "import matplotlib.pyplot as plt\n",
    "import matplotlib.dates as md\n",
    "\n",
    "import networkx as nx\n",
    "\n",
    "from bokeh.io import output_notebook, output_file, show\n",
    "from bokeh.plotting import figure, from_networkx\n",
    "from bokeh.models import HoverTool, ColumnDataSource\n",
    "from bokeh.transform import linear_cmap\n",
    "from bokeh.palettes import Viridis256"
   ],
   "id": "edb5f834ef420e53",
   "outputs": [],
   "execution_count": 1
  },
  {
   "metadata": {},
   "cell_type": "markdown",
   "source": "## Conf spark",
   "id": "2110775126368ca7"
  },
  {
   "metadata": {
    "ExecuteTime": {
     "end_time": "2025-02-21T19:46:43.369451Z",
     "start_time": "2025-02-21T19:46:23.967885Z"
    }
   },
   "cell_type": "code",
   "source": [
    "conf = SparkConf() \\\n",
    "    .setAppName('SparkApp') \\\n",
    "    .setMaster('spark://spark:7077') \\\n",
    "    .set(\"spark.jars.packages\", \"org.apache.hadoop:hadoop-aws:3.3.4,org.apache.spark:spark-sql-kafka-0-10_2.12:3.5.3,graphframes:graphframes:0.8.4-spark3.5-s_2.12\") \\\n",
    "    .set(\"spark.sql.shuffle.partitions\", \"10\")\n",
    "\n",
    "# Build the SparkSession using the unified configuration\n",
    "spark = SparkSession.builder.config(conf=conf).getOrCreate()\n",
    "\n",
    "# Get the SparkContext from the SparkSession (if needed)\n",
    "sc = spark.sparkContext\n",
    "sc.setCheckpointDir(\"/tmp/graphframes-checkpoint\")\n",
    "# Create a SQLContext (if needed for legacy operations)\n",
    "sql_context = SQLContext(sc)\n",
    "\n",
    "print(\"SparkSession and SparkContext successfully created.\")"
   ],
   "id": "f4a8e18182206748",
   "outputs": [
    {
     "name": "stdout",
     "output_type": "stream",
     "text": [
      ":: loading settings :: url = jar:file:/opt/conda/lib/python3.12/site-packages/pyspark/jars/ivy-2.5.1.jar!/org/apache/ivy/core/settings/ivysettings.xml\n"
     ]
    },
    {
     "name": "stderr",
     "output_type": "stream",
     "text": [
      "Ivy Default Cache set to: /home/jovyan/.ivy2/cache\n",
      "The jars for the packages stored in: /home/jovyan/.ivy2/jars\n",
      "org.apache.hadoop#hadoop-aws added as a dependency\n",
      "org.apache.spark#spark-sql-kafka-0-10_2.12 added as a dependency\n",
      "graphframes#graphframes added as a dependency\n",
      ":: resolving dependencies :: org.apache.spark#spark-submit-parent-7e783a0c-7538-404b-a7ec-f4d3b4274cd3;1.0\n",
      "\tconfs: [default]\n",
      "\tfound org.apache.hadoop#hadoop-aws;3.3.4 in central\n",
      "\tfound com.amazonaws#aws-java-sdk-bundle;1.12.262 in central\n",
      "\tfound org.wildfly.openssl#wildfly-openssl;1.0.7.Final in central\n",
      "\tfound org.apache.spark#spark-sql-kafka-0-10_2.12;3.5.3 in central\n",
      "\tfound org.apache.spark#spark-token-provider-kafka-0-10_2.12;3.5.3 in central\n",
      "\tfound org.apache.kafka#kafka-clients;3.4.1 in central\n",
      "\tfound org.lz4#lz4-java;1.8.0 in central\n",
      "\tfound org.xerial.snappy#snappy-java;1.1.10.5 in central\n",
      "\tfound org.slf4j#slf4j-api;2.0.7 in central\n",
      "\tfound org.apache.hadoop#hadoop-client-runtime;3.3.4 in central\n",
      "\tfound org.apache.hadoop#hadoop-client-api;3.3.4 in central\n",
      "\tfound commons-logging#commons-logging;1.1.3 in central\n",
      "\tfound com.google.code.findbugs#jsr305;3.0.0 in central\n",
      "\tfound org.apache.commons#commons-pool2;2.11.1 in central\n",
      "\tfound graphframes#graphframes;0.8.4-spark3.5-s_2.12 in spark-packages\n",
      "downloading https://repo1.maven.org/maven2/org/apache/hadoop/hadoop-aws/3.3.4/hadoop-aws-3.3.4.jar ...\n",
      "\t[SUCCESSFUL ] org.apache.hadoop#hadoop-aws;3.3.4!hadoop-aws.jar (108ms)\n",
      "downloading https://repo1.maven.org/maven2/org/apache/spark/spark-sql-kafka-0-10_2.12/3.5.3/spark-sql-kafka-0-10_2.12-3.5.3.jar ...\n",
      "\t[SUCCESSFUL ] org.apache.spark#spark-sql-kafka-0-10_2.12;3.5.3!spark-sql-kafka-0-10_2.12.jar (58ms)\n",
      "downloading https://repos.spark-packages.org/graphframes/graphframes/0.8.4-spark3.5-s_2.12/graphframes-0.8.4-spark3.5-s_2.12.jar ...\n",
      "\t[SUCCESSFUL ] graphframes#graphframes;0.8.4-spark3.5-s_2.12!graphframes.jar (95ms)\n",
      "downloading https://repo1.maven.org/maven2/com/amazonaws/aws-java-sdk-bundle/1.12.262/aws-java-sdk-bundle-1.12.262.jar ...\n",
      "\t[SUCCESSFUL ] com.amazonaws#aws-java-sdk-bundle;1.12.262!aws-java-sdk-bundle.jar (4297ms)\n",
      "downloading https://repo1.maven.org/maven2/org/wildfly/openssl/wildfly-openssl/1.0.7.Final/wildfly-openssl-1.0.7.Final.jar ...\n",
      "\t[SUCCESSFUL ] org.wildfly.openssl#wildfly-openssl;1.0.7.Final!wildfly-openssl.jar (62ms)\n",
      "downloading https://repo1.maven.org/maven2/org/apache/spark/spark-token-provider-kafka-0-10_2.12/3.5.3/spark-token-provider-kafka-0-10_2.12-3.5.3.jar ...\n",
      "\t[SUCCESSFUL ] org.apache.spark#spark-token-provider-kafka-0-10_2.12;3.5.3!spark-token-provider-kafka-0-10_2.12.jar (42ms)\n",
      "downloading https://repo1.maven.org/maven2/org/apache/kafka/kafka-clients/3.4.1/kafka-clients-3.4.1.jar ...\n",
      "\t[SUCCESSFUL ] org.apache.kafka#kafka-clients;3.4.1!kafka-clients.jar (136ms)\n",
      "downloading https://repo1.maven.org/maven2/com/google/code/findbugs/jsr305/3.0.0/jsr305-3.0.0.jar ...\n",
      "\t[SUCCESSFUL ] com.google.code.findbugs#jsr305;3.0.0!jsr305.jar (45ms)\n",
      "downloading https://repo1.maven.org/maven2/org/apache/commons/commons-pool2/2.11.1/commons-pool2-2.11.1.jar ...\n",
      "\t[SUCCESSFUL ] org.apache.commons#commons-pool2;2.11.1!commons-pool2.jar (47ms)\n",
      "downloading https://repo1.maven.org/maven2/org/apache/hadoop/hadoop-client-runtime/3.3.4/hadoop-client-runtime-3.3.4.jar ...\n",
      "\t[SUCCESSFUL ] org.apache.hadoop#hadoop-client-runtime;3.3.4!hadoop-client-runtime.jar (493ms)\n",
      "downloading https://repo1.maven.org/maven2/org/lz4/lz4-java/1.8.0/lz4-java-1.8.0.jar ...\n",
      "\t[SUCCESSFUL ] org.lz4#lz4-java;1.8.0!lz4-java.jar (347ms)\n",
      "downloading https://repo1.maven.org/maven2/org/xerial/snappy/snappy-java/1.1.10.5/snappy-java-1.1.10.5.jar ...\n",
      "\t[SUCCESSFUL ] org.xerial.snappy#snappy-java;1.1.10.5!snappy-java.jar(bundle) (89ms)\n",
      "downloading https://repo1.maven.org/maven2/org/slf4j/slf4j-api/2.0.7/slf4j-api-2.0.7.jar ...\n",
      "\t[SUCCESSFUL ] org.slf4j#slf4j-api;2.0.7!slf4j-api.jar (47ms)\n",
      "downloading https://repo1.maven.org/maven2/org/apache/hadoop/hadoop-client-api/3.3.4/hadoop-client-api-3.3.4.jar ...\n",
      "\t[SUCCESSFUL ] org.apache.hadoop#hadoop-client-api;3.3.4!hadoop-client-api.jar (400ms)\n",
      "downloading https://repo1.maven.org/maven2/commons-logging/commons-logging/1.1.3/commons-logging-1.1.3.jar ...\n",
      "\t[SUCCESSFUL ] commons-logging#commons-logging;1.1.3!commons-logging.jar (48ms)\n",
      ":: resolution report :: resolve 8438ms :: artifacts dl 6327ms\n",
      "\t:: modules in use:\n",
      "\tcom.amazonaws#aws-java-sdk-bundle;1.12.262 from central in [default]\n",
      "\tcom.google.code.findbugs#jsr305;3.0.0 from central in [default]\n",
      "\tcommons-logging#commons-logging;1.1.3 from central in [default]\n",
      "\tgraphframes#graphframes;0.8.4-spark3.5-s_2.12 from spark-packages in [default]\n",
      "\torg.apache.commons#commons-pool2;2.11.1 from central in [default]\n",
      "\torg.apache.hadoop#hadoop-aws;3.3.4 from central in [default]\n",
      "\torg.apache.hadoop#hadoop-client-api;3.3.4 from central in [default]\n",
      "\torg.apache.hadoop#hadoop-client-runtime;3.3.4 from central in [default]\n",
      "\torg.apache.kafka#kafka-clients;3.4.1 from central in [default]\n",
      "\torg.apache.spark#spark-sql-kafka-0-10_2.12;3.5.3 from central in [default]\n",
      "\torg.apache.spark#spark-token-provider-kafka-0-10_2.12;3.5.3 from central in [default]\n",
      "\torg.lz4#lz4-java;1.8.0 from central in [default]\n",
      "\torg.slf4j#slf4j-api;2.0.7 from central in [default]\n",
      "\torg.wildfly.openssl#wildfly-openssl;1.0.7.Final from central in [default]\n",
      "\torg.xerial.snappy#snappy-java;1.1.10.5 from central in [default]\n",
      "\t:: evicted modules:\n",
      "\torg.slf4j#slf4j-api;1.7.16 by [org.slf4j#slf4j-api;2.0.7] in [default]\n",
      "\t---------------------------------------------------------------------\n",
      "\t|                  |            modules            ||   artifacts   |\n",
      "\t|       conf       | number| search|dwnlded|evicted|| number|dwnlded|\n",
      "\t---------------------------------------------------------------------\n",
      "\t|      default     |   16  |   15  |   15  |   1   ||   15  |   15  |\n",
      "\t---------------------------------------------------------------------\n",
      ":: retrieving :: org.apache.spark#spark-submit-parent-7e783a0c-7538-404b-a7ec-f4d3b4274cd3\n",
      "\tconfs: [default]\n",
      "\t15 artifacts copied, 0 already retrieved (332666kB/209ms)\n",
      "25/02/21 19:46:41 WARN NativeCodeLoader: Unable to load native-hadoop library for your platform... using builtin-java classes where applicable\n",
      "Setting default log level to \"WARN\".\n",
      "To adjust logging level use sc.setLogLevel(newLevel). For SparkR, use setLogLevel(newLevel).\n"
     ]
    },
    {
     "name": "stdout",
     "output_type": "stream",
     "text": [
      "SparkSession and SparkContext successfully created.\n"
     ]
    },
    {
     "name": "stderr",
     "output_type": "stream",
     "text": [
      "25/02/21 19:46:43 WARN SparkContext: Spark is not running in local mode, therefore the checkpoint directory must not be on the local filesystem. Directory '/tmp/graphframes-checkpoint' appears to be on the local filesystem.\n",
      "/opt/conda/lib/python3.12/site-packages/pyspark/sql/context.py:113: FutureWarning: Deprecated in 3.0.0. Use SparkSession.builder.getOrCreate() instead.\n",
      "  warnings.warn(\n"
     ]
    }
   ],
   "execution_count": 2
  },
  {
   "metadata": {
    "ExecuteTime": {
     "end_time": "2025-02-21T19:46:52.791647Z",
     "start_time": "2025-02-21T19:46:50.756713Z"
    }
   },
   "cell_type": "code",
   "source": [
    "\n",
    "from graphframes import GraphFrame"
   ],
   "id": "4e3a5dbced930d98",
   "outputs": [],
   "execution_count": 3
  },
  {
   "cell_type": "markdown",
   "id": "3f611568",
   "metadata": {},
   "source": "## Configuration kafka et spark (non obligatoire si défini ailleurs)"
  },
  {
   "cell_type": "code",
   "id": "20b9cced",
   "metadata": {
    "ExecuteTime": {
     "end_time": "2025-02-21T19:46:55.334529Z",
     "start_time": "2025-02-21T19:46:53.457702Z"
    }
   },
   "source": [
    "flights_df = sql_context.read.format(\"kafka\") \\\n",
    "    .option(\"kafka.bootstrap.servers\", \"kafka1:9092\") \\\n",
    "    .option(\"subscribe\", \"opensky-flights\") \\\n",
    "    .option(\"startingOffsets\", \"earliest\") \\\n",
    "    .option(\"endingOffsets\", \"latest\") \\\n",
    "    .load()"
   ],
   "outputs": [],
   "execution_count": 4
  },
  {
   "cell_type": "code",
   "id": "846815e9",
   "metadata": {
    "ExecuteTime": {
     "end_time": "2025-02-21T19:46:56.378023Z",
     "start_time": "2025-02-21T19:46:56.221378Z"
    }
   },
   "source": [
    "schema = StructType([\n",
    "    StructField(\"icao24\", StringType(), True),\n",
    "    StructField(\"firstSeen\", LongType(), True),\n",
    "    StructField(\"estDepartureAirport\", StringType(), True),\n",
    "    StructField(\"lastSeen\", LongType(), True),\n",
    "    StructField(\"estArrivalAirport\", StringType(), True),\n",
    "    StructField(\"estDepartureAirportHorizDistance\", LongType(), True),\n",
    "    StructField(\"estDepartureAirportVertDistance\", LongType(), True),\n",
    "    StructField(\"estArrivalAirportHorizDistance\", LongType(), True),\n",
    "    StructField(\"estArrivalAirportVertDistance\", LongType(), True),\n",
    "    StructField(\"departureAirportCandidatesCount\", LongType(), True),\n",
    "    StructField(\"arrivalAirportCandidatesCount\", LongType(), True)\n",
    "])\n",
    "\n",
    "flights_json = flights_df.select(from_json(col(\"value\").cast(\"string\"), schema).alias(\"data\")).select(\"data.*\")\n"
   ],
   "outputs": [],
   "execution_count": 5
  },
  {
   "cell_type": "markdown",
   "id": "05f2e9e2",
   "metadata": {},
   "source": [
    "## Requêtes en mode batch, avec état.\n",
    "### Mode batch avec fenêtre"
   ]
  },
  {
   "cell_type": "code",
   "id": "6c6fa4d0",
   "metadata": {
    "ExecuteTime": {
     "end_time": "2025-02-21T19:46:58.866708Z",
     "start_time": "2025-02-21T19:46:58.806540Z"
    }
   },
   "source": [
    "arrival_df = sql_context.read.format(\"kafka\") \\\n",
    "    .option(\"kafka.bootstrap.servers\", \"kafka1:9092\") \\\n",
    "    .option(\"subscribe\", \"opensky-arrivals\") \\\n",
    "    .option(\"startingOffsets\", \"earliest\") \\\n",
    "    .option(\"endingOffsets\", \"latest\") \\\n",
    "    .load()\n",
    "\n",
    "arrival_json = arrival_df.select(from_json(col(\"value\").cast(\"string\"), schema).alias(\"data\")).select(\"data.*\")"
   ],
   "outputs": [],
   "execution_count": 6
  },
  {
   "cell_type": "code",
   "id": "f68321e1",
   "metadata": {
    "ExecuteTime": {
     "end_time": "2025-02-21T19:47:09.627492Z",
     "start_time": "2025-02-21T19:47:02.176414Z"
    }
   },
   "source": [
    "# Parse Kafka messages\n",
    "parsed_stream = arrival_df.selectExpr(\"CAST(value AS STRING) AS message\") \\\n",
    "    .select(from_json(col(\"message\"), schema).alias(\"data\")) \\\n",
    "    .select(\n",
    "        col(\"data.lastSeen\").cast(TimestampType()).alias(\"ArrivalTime\"),\n",
    "        col(\"data.estArrivalAirport\").alias(\"Airport\")\n",
    "    )\n",
    "\n",
    "# Compute number of arrivals over a 60-minute window\n",
    "rolling_numbers = parsed_stream \\\n",
    "    .groupBy(window(col(\"ArrivalTime\"), \"60 minutes\")) \\\n",
    "    .count() \\\n",
    "    .select(\n",
    "        col(\"window.start\").alias(\"window_start\"),\n",
    "        col(\"window.end\").alias(\"window_end\"),\n",
    "        col(\"count\").alias(\"num_arrivals\")\n",
    "    ).orderBy(\"window_start\")\n",
    "\n",
    "# Collect the result as a Pandas DataFrame\n",
    "pandas_df = rolling_numbers.toPandas()\n",
    "pandas_df\n",
    "\n",
    "g = sns.lineplot(data=pandas_df, x=\"window_start\", y=\"num_arrivals\")\n",
    "g.xaxis.set_major_formatter(md.DateFormatter('%d/%m\\n%H:%M'))\n",
    "g.set_title(\"Nombre d'arrivés par heures\")"
   ],
   "outputs": [
    {
     "name": "stderr",
     "output_type": "stream",
     "text": [
      "25/02/21 19:47:02 WARN AdminClientConfig: These configurations '[key.deserializer, value.deserializer, enable.auto.commit, max.poll.records, auto.offset.reset]' were supplied but are not used yet.\n",
      "                                                                                \r"
     ]
    },
    {
     "data": {
      "text/plain": [
       "Text(0.5, 1.0, \"Nombre d'arrivés par heures\")"
      ]
     },
     "execution_count": 7,
     "metadata": {},
     "output_type": "execute_result"
    },
    {
     "data": {
      "text/plain": [
       "<Figure size 640x480 with 1 Axes>"
      ],
      "image/png": "[encoded data removed]"
     },
     "metadata": {},
     "output_type": "display_data"
    }
   ],
   "execution_count": 7
  },
  {
   "cell_type": "markdown",
   "id": "e2b0be41",
   "metadata": {},
   "source": [
    "### Mode batch sans fenêtre"
   ]
  },
  {
   "cell_type": "code",
   "id": "db37273b",
   "metadata": {
    "ExecuteTime": {
     "end_time": "2025-02-21T19:47:28.481634Z",
     "start_time": "2025-02-21T19:47:25.594050Z"
    }
   },
   "source": [
    "flight_counts = arrival_json \\\n",
    "    .groupBy(\"estDepartureAirport\", \"estArrivalAirport\") \\\n",
    "    .count() \\\n",
    "    .withColumnRenamed(\"count\", \"flight_count\")\n",
    "\n",
    "# Créer un DataFrame pour les arêtes (vols)\n",
    "nbVols = flight_counts.select(\n",
    "    col(\"estDepartureAirport\").alias(\"src\"),\n",
    "    col(\"estArrivalAirport\").alias(\"dst\"),\n",
    "    col(\"flight_count\")\n",
    ")\n",
    "# on se limite au 15 aéroports les plus fréquentés\n",
    "top_n = 15\n",
    "\n",
    "# Identifier les aéroports les plus fréquentés (combinaison de départs et arrivées)\n",
    "top_airports = (\n",
    "    flight_counts.select(\"estDepartureAirport\").union(flight_counts.select(\"estArrivalAirport\"))\n",
    "    .groupBy(\"estDepartureAirport\").count()\n",
    "    .orderBy(desc(\"count\"))\n",
    "    .limit(top_n)\n",
    "    .select(\"estDepartureAirport\").collect()\n",
    ")\n",
    "top_airport_codes = [row['estDepartureAirport'] for row in top_airports]\n",
    "\n",
    "# Filtrer le dataframe pour n'inclure que les vols entre ces aéroports principaux\n",
    "filtered_counts = flight_counts.filter(\n",
    "    (col(\"estDepartureAirport\").isin(top_airport_codes)) & \n",
    "    (col(\"estArrivalAirport\").isin(top_airport_codes))\n",
    ")\n",
    "\n",
    "filtered_counts"
   ],
   "outputs": [
    {
     "name": "stderr",
     "output_type": "stream",
     "text": [
      "25/02/21 19:47:25 WARN AdminClientConfig: These configurations '[key.deserializer, value.deserializer, enable.auto.commit, max.poll.records, auto.offset.reset]' were supplied but are not used yet.\n",
      "25/02/21 19:47:25 WARN AdminClientConfig: These configurations '[key.deserializer, value.deserializer, enable.auto.commit, max.poll.records, auto.offset.reset]' were supplied but are not used yet.\n",
      "                                                                                \r"
     ]
    },
    {
     "data": {
      "text/plain": [
       "DataFrame[estDepartureAirport: string, estArrivalAirport: string, flight_count: bigint]"
      ]
     },
     "execution_count": 8,
     "metadata": {},
     "output_type": "execute_result"
    }
   ],
   "execution_count": 8
  },
  {
   "cell_type": "code",
   "id": "9204d17d",
   "metadata": {
    "ExecuteTime": {
     "end_time": "2025-02-21T19:47:33.550003Z",
     "start_time": "2025-02-21T19:47:28.508568Z"
    }
   },
   "source": [
    "# Filtrer les données qui valent NULL\n",
    "filtered_nbVols = nbVols.filter(\n",
    "    (col(\"src\").isNotNull()) & \n",
    "    (col(\"dst\").isNotNull())\n",
    ")\n",
    "\n",
    "# Trouver les routes les plus empruntées\n",
    "top_routes = filtered_nbVols.orderBy(desc(\"flight_count\")).limit(top_n)\n",
    "top_routes.show()\n",
    "\n",
    "# Convertir en pandas pour visualisation avec Seaborn\n",
    "top_routes_pd = top_routes.toPandas()\n",
    "\n",
    "# Créer des visualisations\n",
    "plt.figure(figsize=(14, 8))\n",
    "\n",
    "# Graphique des routes les plus fréquentées\n",
    "plt.subplot(1, 2, 2)\n",
    "sns.barplot(x=\"flight_count\", y=top_routes_pd.apply(lambda x: f\"{x['src']}-{x['dst']}\", axis=1), \n",
    "            data=top_routes_pd, orient=\"h\")\n",
    "plt.title(\"Routes les plus fréquentées\")\n",
    "plt.tight_layout()\n",
    "\n",
    "plt.savefig(\"aviation_network_analysis.png\")\n",
    "plt.show()\n",
    "plt.close()"
   ],
   "outputs": [
    {
     "name": "stderr",
     "output_type": "stream",
     "text": [
      "25/02/21 19:47:28 WARN AdminClientConfig: These configurations '[key.deserializer, value.deserializer, enable.auto.commit, max.poll.records, auto.offset.reset]' were supplied but are not used yet.\n",
      "                                                                                \r"
     ]
    },
    {
     "name": "stdout",
     "output_type": "stream",
     "text": [
      "+----+----+------------+\n",
      "| src| dst|flight_count|\n",
      "+----+----+------------+\n",
      "|LEBL|LEMD|         117|\n",
      "|LPPT|LEMD|         114|\n",
      "|LEMD|LEBL|         113|\n",
      "|EGLL|EHAM|         100|\n",
      "|EGLL|EDDF|          99|\n",
      "|LEPA|LEBL|          95|\n",
      "|LIRF|LEMD|          94|\n",
      "|EGLL|LFPG|          90|\n",
      "|EGLL|EDDM|          87|\n",
      "|LEMD|LIRF|          86|\n",
      "|EDDF|EDDB|          85|\n",
      "|EGLL|LEMD|          84|\n",
      "|LFPG|EHAM|          82|\n",
      "|EDDM|EDDF|          82|\n",
      "|EDDF|EDDM|          82|\n",
      "+----+----+------------+\n",
      "\n"
     ]
    },
    {
     "name": "stderr",
     "output_type": "stream",
     "text": [
      "25/02/21 19:47:31 WARN AdminClientConfig: These configurations '[key.deserializer, value.deserializer, enable.auto.commit, max.poll.records, auto.offset.reset]' were supplied but are not used yet.\n",
      "                                                                                \r"
     ]
    },
    {
     "data": {
      "text/plain": [
       "<Figure size 1400x800 with 1 Axes>"
      ],
      "image/png": "[encoded data removed]"
     },
     "metadata": {},
     "output_type": "display_data"
    }
   ],
   "execution_count": 9
  },
  {
   "cell_type": "code",
   "id": "9db33b7c",
   "metadata": {
    "ExecuteTime": {
     "end_time": "2025-02-21T19:47:35.987462Z",
     "start_time": "2025-02-21T19:47:33.563734Z"
    }
   },
   "source": [
    "# Convertir en pandas pour le pivot\n",
    "matrix_data = filtered_counts.toPandas()\n",
    "\n",
    "# Créer la matrice pivot\n",
    "flight_matrix = matrix_data.pivot(index='estDepartureAirport', columns='estArrivalAirport', values='flight_count')\n",
    "flight_matrix = flight_matrix.fillna(0)  # Remplacer les NaN par 0\n",
    "\n",
    "# Créer le heatmap\n",
    "plt.figure(figsize=(16, 12))\n",
    "ax = sns.heatmap(\n",
    "    flight_matrix,\n",
    "    annot=True,           # Afficher les valeurs\n",
    "    fmt='g',              # Format des nombres (entiers)\n",
    "    cmap='YlGnBu',        # Palette de couleurs (jaune-vert-bleu)\n",
    "    linewidths=0.5,       # Lignes entre les cellules\n",
    "    cbar_kws={'label': 'Nombre de vols'}\n",
    ")\n",
    "\n",
    "# Ajuster les étiquettes et le titre\n",
    "plt.title('Nombre de vols entre les principaux aéroports', fontsize=16)\n",
    "plt.xlabel('Destinations', fontsize=12)\n",
    "plt.ylabel('Origines', fontsize=12)\n",
    "\n",
    "# Rotation des étiquettes pour la lisibilité\n",
    "plt.xticks(rotation=45, ha='right')\n",
    "plt.yticks(rotation=0)\n",
    "\n",
    "# Ajuster la mise en page\n",
    "plt.tight_layout()\n",
    "\n",
    "# Sauvegarder et afficher\n",
    "plt.savefig(\"/tmp/flight_heatmap_origin_destination.png\", dpi=300)\n",
    "# plt.show()\n",
    "plt.close()\n",
    "\n",
    "# Obtenir quelques statistiques sur cette matrice\n",
    "nonzero_routes = (flight_matrix > 0).sum().sum()\n",
    "total_possible_routes = len(top_airport_codes) * len(top_airport_codes)\n",
    "connectivity_ratio = nonzero_routes / total_possible_routes\n",
    "\n",
    "print(f\"Parmi les {top_n} principaux aéroports:\")\n",
    "print(f\"Nombre total de routes possibles: {total_possible_routes}\")\n",
    "print(f\"Nombre de routes effectivement desservies: {nonzero_routes}\")\n",
    "print(f\"Ratio de connectivité: {connectivity_ratio:.2%}\")\n",
    "print(f\"Nombre moyen de vols par route active: {flight_matrix.sum().sum() / nonzero_routes:.1f}\")"
   ],
   "outputs": [
    {
     "name": "stderr",
     "output_type": "stream",
     "text": [
      "25/02/21 19:47:33 WARN AdminClientConfig: These configurations '[key.deserializer, value.deserializer, enable.auto.commit, max.poll.records, auto.offset.reset]' were supplied but are not used yet.\n",
      "                                                                                \r"
     ]
    },
    {
     "name": "stdout",
     "output_type": "stream",
     "text": [
      "Parmi les 15 principaux aéroports:\n",
      "Nombre total de routes possibles: 225\n",
      "Nombre de routes effectivement desservies: 122\n",
      "Ratio de connectivité: 54.22%\n",
      "Nombre moyen de vols par route active: 36.2\n"
     ]
    }
   ],
   "execution_count": 10
  },
  {
   "cell_type": "markdown",
   "id": "688821c0",
   "metadata": {},
   "source": [
    "## Requête avec SparkSQL"
   ]
  },
  {
   "cell_type": "code",
   "id": "6322bda5",
   "metadata": {
    "ExecuteTime": {
     "end_time": "2025-02-21T19:47:39.929553Z",
     "start_time": "2025-02-21T19:47:38.316206Z"
    }
   },
   "source": [
    "# Enregistrer le DataFrame en tant que table temporaire\n",
    "flights_json.createOrReplaceTempView(\"flights\")\n",
    "\n",
    "# Top 5 de la correspondance la plus fréquente\n",
    "query = \"\"\"\n",
    "SELECT estDepartureAirport, estArrivalAirport, COUNT(*) as count\n",
    "FROM flights\n",
    "WHERE estDepartureAirport IS NOT NULL AND estArrivalAirport IS NOT NULL AND estDepartureAirport != estArrivalAirport\n",
    "GROUP BY estDepartureAirport, estArrivalAirport\n",
    "ORDER BY count DESC\n",
    "LIMIT 5\n",
    "\"\"\"\n",
    "\n",
    "top_5_couples = sql_context.sql(query)\n",
    "\n",
    "# Afficher les résultats\n",
    "top_5_couples.show()"
   ],
   "outputs": [
    {
     "name": "stderr",
     "output_type": "stream",
     "text": [
      "25/02/21 19:47:38 WARN AdminClientConfig: These configurations '[key.deserializer, value.deserializer, enable.auto.commit, max.poll.records, auto.offset.reset]' were supplied but are not used yet.\n",
      "[Stage 23:=============================>                            (1 + 1) / 2]\r"
     ]
    },
    {
     "name": "stdout",
     "output_type": "stream",
     "text": [
      "+-------------------+-----------------+-----+\n",
      "|estDepartureAirport|estArrivalAirport|count|\n",
      "+-------------------+-----------------+-----+\n",
      "|               KE25|             KDVT|   16|\n",
      "|               CYVR|             CYYJ|   14|\n",
      "|               PAEN|             PANC|   10|\n",
      "|               KOPF|             KFLL|   10|\n",
      "|               PANC|             PAEN|   10|\n",
      "+-------------------+-----------------+-----+\n",
      "\n"
     ]
    },
    {
     "name": "stderr",
     "output_type": "stream",
     "text": [
      "                                                                                \r"
     ]
    }
   ],
   "execution_count": 11
  },
  {
   "cell_type": "markdown",
   "id": "878f6d4509b615f2",
   "metadata": {},
   "source": [
    "## Requête en mode batch et résultats sous forme de graphiques"
   ]
  },
  {
   "cell_type": "code",
   "id": "6687f958118248c8",
   "metadata": {
    "ExecuteTime": {
     "end_time": "2025-02-21T19:47:41.340264Z",
     "start_time": "2025-02-21T19:47:41.208666Z"
    }
   },
   "source": [
    "# Afficher un exemple brut\n",
    "flights_df.selectExpr(\"CAST(value AS STRING)\").show(5, False)"
   ],
   "outputs": [
    {
     "name": "stdout",
     "output_type": "stream",
     "text": [
      "+-----------------------------------------------------------------------------------------------------------------------------------------------------------------------------------------------------------------------------------------------------------------------------------------------------------------------------------------------------------------------------------------------------+\n",
      "|value                                                                                                                                                                                                                                                                                                                                                                                                |\n",
      "+-----------------------------------------------------------------------------------------------------------------------------------------------------------------------------------------------------------------------------------------------------------------------------------------------------------------------------------------------------------------------------------------------------+\n",
      "|{\"icao24\": \"a00582\", \"firstSeen\": 1737823632, \"estDepartureAirport\": null, \"lastSeen\": 1737824309, \"estArrivalAirport\": \"KJYL\", \"callsign\": \"N100JF  \", \"estDepartureAirportHorizDistance\": null, \"estDepartureAirportVertDistance\": null, \"estArrivalAirportHorizDistance\": 5252, \"estArrivalAirportVertDistance\": 2228, \"departureAirportCandidatesCount\": 0, \"arrivalAirportCandidatesCount\": 4}  |\n",
      "|{\"icao24\": \"a24782\", \"firstSeen\": 1737822511, \"estDepartureAirport\": \"KDFW\", \"lastSeen\": 1737824157, \"estArrivalAirport\": null, \"callsign\": \"ENY3642 \", \"estDepartureAirportHorizDistance\": 947, \"estDepartureAirportVertDistance\": 188, \"estArrivalAirportHorizDistance\": null, \"estArrivalAirportVertDistance\": null, \"departureAirportCandidatesCount\": 3, \"arrivalAirportCandidatesCount\": 0}    |\n",
      "|{\"icao24\": \"a2eb77\", \"firstSeen\": 1737821753, \"estDepartureAirport\": \"KTOC\", \"lastSeen\": 1737822389, \"estArrivalAirport\": \"KTOC\", \"callsign\": \"N2878L  \", \"estDepartureAirportHorizDistance\": 13816, \"estDepartureAirportVertDistance\": 1007, \"estArrivalAirportHorizDistance\": 8092, \"estArrivalAirportVertDistance\": 740, \"departureAirportCandidatesCount\": 0, \"arrivalAirportCandidatesCount\": 3}|\n",
      "|{\"icao24\": \"ab6f96\", \"firstSeen\": 1737821850, \"estDepartureAirport\": \"KSLN\", \"lastSeen\": 1737823689, \"estArrivalAirport\": \"KSLN\", \"callsign\": \"KSU36   \", \"estDepartureAirportHorizDistance\": 861, \"estDepartureAirportVertDistance\": 110, \"estArrivalAirportHorizDistance\": 1501, \"estArrivalAirportVertDistance\": 95, \"departureAirportCandidatesCount\": 4, \"arrivalAirportCandidatesCount\": 7}    |\n",
      "|{\"icao24\": \"ac81d7\", \"firstSeen\": 1737822699, \"estDepartureAirport\": \"KTMB\", \"lastSeen\": 1737824205, \"estArrivalAirport\": \"KHWO\", \"callsign\": \"N905AZ  \", \"estDepartureAirportHorizDistance\": 594, \"estDepartureAirportVertDistance\": 93, \"estArrivalAirportHorizDistance\": 982, \"estArrivalAirportVertDistance\": 63, \"departureAirportCandidatesCount\": 5, \"arrivalAirportCandidatesCount\": 4}      |\n",
      "+-----------------------------------------------------------------------------------------------------------------------------------------------------------------------------------------------------------------------------------------------------------------------------------------------------------------------------------------------------------------------------------------------------+\n",
      "only showing top 5 rows\n",
      "\n"
     ]
    },
    {
     "name": "stderr",
     "output_type": "stream",
     "text": [
      "25/02/21 19:47:41 WARN AdminClientConfig: These configurations '[key.deserializer, value.deserializer, enable.auto.commit, max.poll.records, auto.offset.reset]' were supplied but are not used yet.\n"
     ]
    }
   ],
   "execution_count": 12
  },
  {
   "cell_type": "code",
   "id": "9cff94e644396ca4",
   "metadata": {
    "ExecuteTime": {
     "end_time": "2025-02-21T19:47:42.187921Z",
     "start_time": "2025-02-21T19:47:42.137931Z"
    }
   },
   "source": [
    "filtered_flights = flights_json.filter(\n",
    "    (col(\"estDepartureAirport\").isNotNull()) &\n",
    "    (col(\"estArrivalAirport\").isNotNull())\n",
    ")\n",
    "\n",
    "outbound = filtered_flights.groupBy(\"estDepartureAirport\") \\\n",
    "    .agg(count(\"*\").alias(\"vols_sortants\")) \\\n",
    "    .orderBy(desc(\"vols_sortants\"))\n",
    "\n",
    "inbound = filtered_flights.groupBy(\"estArrivalAirport\") \\\n",
    "    .agg(count(\"*\").alias(\"vols_entrants\")) \\\n",
    "    .orderBy(desc(\"vols_entrants\"))\n"
   ],
   "outputs": [],
   "execution_count": 13
  },
  {
   "cell_type": "code",
   "id": "ee9c4ef205a02cb0",
   "metadata": {
    "ExecuteTime": {
     "end_time": "2025-02-21T19:47:46.215674Z",
     "start_time": "2025-02-21T19:47:43.056601Z"
    }
   },
   "source": [
    "outbound_pd = outbound.limit(10).toPandas()\n",
    "inbound_pd = inbound.limit(10).toPandas()\n",
    "\n",
    "# 🎨 Configurer le style Seaborn\n",
    "sns.set_theme(style=\"whitegrid\", palette=\"muted\")\n",
    "\n",
    "# 📈 Vols sortants\n",
    "plt.figure(figsize=(10, 5))\n",
    "sns.barplot(\n",
    "    x=\"vols_sortants\",\n",
    "    y=\"estDepartureAirport\",\n",
    "    data=outbound_pd,\n",
    "    palette=\"Blues_r\"\n",
    ")\n",
    "plt.title(\"Top 10 Aéroports - Vols sortants \", fontsize=14, fontweight='bold')\n",
    "plt.xlabel(\"Nombre de vols\")\n",
    "plt.ylabel(\"Aéroport (Départ)\")\n",
    "plt.grid(True, linestyle='--', alpha=0.7)\n",
    "plt.show()\n",
    "\n",
    "# 📊 Vols entrants\n",
    "plt.figure(figsize=(10, 5))\n",
    "sns.barplot(\n",
    "    x=\"vols_entrants\",\n",
    "    y=\"estArrivalAirport\",\n",
    "    data=inbound_pd,\n",
    "    palette=\"Oranges_r\"\n",
    ")\n",
    "plt.title(\"Top 10 Aéroports - Vols entrants \", fontsize=14, fontweight='bold')\n",
    "plt.xlabel(\"Nombre de vols\")\n",
    "plt.ylabel(\"Aéroport (Arrivée)\")\n",
    "plt.grid(True, linestyle='--', alpha=0.7)\n",
    "plt.show()"
   ],
   "outputs": [
    {
     "name": "stderr",
     "output_type": "stream",
     "text": [
      "25/02/21 19:47:43 WARN AdminClientConfig: These configurations '[key.deserializer, value.deserializer, enable.auto.commit, max.poll.records, auto.offset.reset]' were supplied but are not used yet.\n",
      "25/02/21 19:47:44 WARN AdminClientConfig: These configurations '[key.deserializer, value.deserializer, enable.auto.commit, max.poll.records, auto.offset.reset]' were supplied but are not used yet.\n",
      "/tmp/ipykernel_2800/1064879125.py:9: FutureWarning:                             \n",
      "\n",
      "Passing `palette` without assigning `hue` is deprecated and will be removed in v0.14.0. Assign the `y` variable to `hue` and set `legend=False` for the same effect.\n",
      "\n",
      "  sns.barplot(\n"
     ]
    },
    {
     "data": {
      "text/plain": [
       "<Figure size 1000x500 with 1 Axes>"
      ],
      "image/png": "[encoded data removed]"
     },
     "metadata": {},
     "output_type": "display_data"
    },
    {
     "name": "stderr",
     "output_type": "stream",
     "text": [
      "/tmp/ipykernel_2800/1064879125.py:23: FutureWarning: \n",
      "\n",
      "Passing `palette` without assigning `hue` is deprecated and will be removed in v0.14.0. Assign the `y` variable to `hue` and set `legend=False` for the same effect.\n",
      "\n",
      "  sns.barplot(\n"
     ]
    },
    {
     "data": {
      "text/plain": [
       "<Figure size 1000x500 with 1 Axes>"
      ],
      "image/png": "[encoded data removed]"
     },
     "metadata": {},
     "output_type": "display_data"
    }
   ],
   "execution_count": 14
  },
  {
   "cell_type": "markdown",
   "id": "969fb1b4",
   "metadata": {},
   "source": "## Spark streaming"
  },
  {
   "cell_type": "markdown",
   "id": "4768e955",
   "metadata": {},
   "source": "### Definir the shema de données states"
  },
  {
   "cell_type": "code",
   "id": "79a176a1",
   "metadata": {
    "ExecuteTime": {
     "end_time": "2025-02-21T20:37:23.842647Z",
     "start_time": "2025-02-21T20:37:23.828291Z"
    }
   },
   "source": [
    "schema = StructType() \\\n",
    "    .add(\"icao24\", StringType()) \\\n",
    "    .add(\"callsign\", StringType()) \\\n",
    "    .add(\"origin_country\", StringType()) \\\n",
    "    .add(\"time_position\", DoubleType()) \\\n",
    "    .add(\"last_contact\", DoubleType()) \\\n",
    "    .add(\"longitude\", DoubleType()) \\\n",
    "    .add(\"latitude\", DoubleType()) \\\n",
    "    .add(\"altitude\", DoubleType()) \\\n",
    "    .add(\"on_ground\", BooleanType()) \\\n",
    "    .add(\"velocity\", DoubleType()) \\\n",
    "    .add(\"heading\", DoubleType()) \\\n",
    "    .add(\"vertical_rate\", DoubleType()) \\\n",
    "    .add(\"sensors\", StringType()) \\\n",
    "    .add(\"geo_altitude\", DoubleType()) \\\n",
    "    .add(\"squawk\", StringType()) \\\n",
    "    .add(\"spi\", BooleanType()) \\\n",
    "    .add(\"position_source\", StringType())"
   ],
   "outputs": [],
   "execution_count": 39
  },
  {
   "cell_type": "markdown",
   "id": "7af1eaca",
   "metadata": {},
   "source": "### Création des Streaming Queries"
  },
  {
   "cell_type": "code",
   "id": "50b17453",
   "metadata": {
    "ExecuteTime": {
     "end_time": "2025-02-21T20:37:25.937852Z",
     "start_time": "2025-02-21T20:37:25.806247Z"
    }
   },
   "source": [
    "df_filtered_flights = spark.readStream \\\n",
    "    .format(\"kafka\") \\\n",
    "    .option(\"kafka.bootstrap.servers\", \"kafka1:9092\") \\\n",
    "    .option(\"subscribe\", \"opensky_filtered_flights\") \\\n",
    "    .option(\"startingOffsets\", \"earliest\") \\\n",
    "    .load()\n",
    "\n",
    "df_filtered_flights = df_filtered_flights.selectExpr(\"CAST(value AS STRING) as json_value\") \\\n",
    "    .select(from_json(col(\"json_value\"), schema).alias(\"data\")) \\\n",
    "    .select(\"data.*\") \\\n",
    "    .withColumn(\"event_time\", current_timestamp())\n",
    "\n",
    "df_filtered_windowed = df_filtered_flights.groupBy(\n",
    "    window(col(\"event_time\"), \"1 minute\"),\n",
    "    col(\"origin_country\")\n",
    ").count()\n",
    "\n",
    "df_bucketed = df_filtered_flights.withColumn(\n",
    "    \"altitude_range\",\n",
    "    when(col(\"altitude\") < 5000, \"Low\")\n",
    "    .when((col(\"altitude\") >= 5000) & (col(\"altitude\") < 15000), \"Medium\")\n",
    "    .otherwise(\"High\")\n",
    ")\n",
    "\n",
    "df_bucket_count = df_bucketed.groupBy(\n",
    "    window(col(\"event_time\"), \"1 minute\"),\n",
    "    col(\"altitude_range\")\n",
    ").count()"
   ],
   "outputs": [],
   "execution_count": 40
  },
  {
   "cell_type": "code",
   "id": "154e4a69",
   "metadata": {
    "ExecuteTime": {
     "end_time": "2025-02-21T20:39:58.782502Z",
     "start_time": "2025-02-21T20:37:26.648822Z"
    }
   },
   "source": [
    "from prometheus_client import CollectorRegistry, Gauge, push_to_gateway\n",
    "\n",
    "def push_metrics_to_prometheus(df, epoch_id):\n",
    "    registry = CollectorRegistry()\n",
    "    \n",
    "    gauge = Gauge(\n",
    "        'filtered_flights_count', \n",
    "        'Count of filtered flights per country (per 1-minute window)', \n",
    "        ['origin_country'], \n",
    "        registry=registry\n",
    "    )\n",
    "    \n",
    "    for row in df.collect():\n",
    "        country = row['origin_country']\n",
    "        count_val = row['count']\n",
    "        gauge.labels(origin_country=country).set(count_val)\n",
    "    \n",
    "    push_to_gateway('pushgateway:9091', job='spark_filtered_flights', registry=registry)\n",
    "    print(f\"Epoch {epoch_id}: Metrics pushed to Prometheus Pushgateway.\")\n",
    "\n",
    "query_prometheus = df_filtered_windowed.writeStream \\\n",
    "    .outputMode(\"update\") \\\n",
    "    .foreachBatch(push_metrics_to_prometheus) \\\n",
    "    .start()\n",
    "\n",
    "query_prometheus.awaitTermination()\n"
   ],
   "outputs": [
    {
     "name": "stderr",
     "output_type": "stream",
     "text": [
      "25/02/21 20:37:26 WARN ResolveWriteToStream: Temporary checkpoint location created which is deleted normally when the query didn't fail: /tmp/temporary-cce73991-299b-433b-bcd4-e187e126b8cb. If it's required to delete it under any circumstances, please set spark.sql.streaming.forceDeleteTempCheckpointLocation to true. Important to know deleting temp checkpoint folder is best effort.\n",
      "25/02/21 20:37:26 WARN ResolveWriteToStream: spark.sql.adaptive.enabled is not supported in streaming DataFrames/Datasets and will be disabled.\n",
      "25/02/21 20:37:26 WARN AdminClientConfig: These configurations '[key.deserializer, value.deserializer, enable.auto.commit, max.poll.records, auto.offset.reset]' were supplied but are not used yet.\n",
      "ERROR:root:KeyboardInterrupt while sending command.                             \n",
      "Traceback (most recent call last):\n",
      "  File \"/opt/conda/lib/python3.12/site-packages/py4j/java_gateway.py\", line 1038, in send_command\n",
      "    response = connection.send_command(command)\n",
      "               ^^^^^^^^^^^^^^^^^^^^^^^^^^^^^^^^\n",
      "  File \"/opt/conda/lib/python3.12/site-packages/py4j/clientserver.py\", line 511, in send_command\n",
      "    answer = smart_decode(self.stream.readline()[:-1])\n",
      "                          ^^^^^^^^^^^^^^^^^^^^^^\n",
      "  File \"/opt/conda/lib/python3.12/socket.py\", line 720, in readinto\n",
      "    return self._sock.recv_into(b)\n",
      "           ^^^^^^^^^^^^^^^^^^^^^^^\n",
      "KeyboardInterrupt\n"
     ]
    },
    {
     "ename": "KeyboardInterrupt",
     "evalue": "",
     "output_type": "error",
     "traceback": [
      "\u001B[0;31m---------------------------------------------------------------------------\u001B[0m",
      "\u001B[0;31mKeyboardInterrupt\u001B[0m                         Traceback (most recent call last)",
      "Cell \u001B[0;32mIn[41], line 26\u001B[0m\n\u001B[1;32m     19\u001B[0m     \u001B[38;5;28mprint\u001B[39m(\u001B[38;5;124mf\u001B[39m\u001B[38;5;124m\"\u001B[39m\u001B[38;5;124mEpoch \u001B[39m\u001B[38;5;132;01m{\u001B[39;00mepoch_id\u001B[38;5;132;01m}\u001B[39;00m\u001B[38;5;124m: Metrics pushed to Prometheus Pushgateway.\u001B[39m\u001B[38;5;124m\"\u001B[39m)\n\u001B[1;32m     21\u001B[0m query_prometheus \u001B[38;5;241m=\u001B[39m df_filtered_windowed\u001B[38;5;241m.\u001B[39mwriteStream \\\n\u001B[1;32m     22\u001B[0m     \u001B[38;5;241m.\u001B[39moutputMode(\u001B[38;5;124m\"\u001B[39m\u001B[38;5;124mupdate\u001B[39m\u001B[38;5;124m\"\u001B[39m) \\\n\u001B[1;32m     23\u001B[0m     \u001B[38;5;241m.\u001B[39mforeachBatch(push_metrics_to_prometheus) \\\n\u001B[1;32m     24\u001B[0m     \u001B[38;5;241m.\u001B[39mstart()\n\u001B[0;32m---> 26\u001B[0m \u001B[43mquery_prometheus\u001B[49m\u001B[38;5;241;43m.\u001B[39;49m\u001B[43mawaitTermination\u001B[49m\u001B[43m(\u001B[49m\u001B[43m)\u001B[49m\n",
      "File \u001B[0;32m/opt/conda/lib/python3.12/site-packages/pyspark/sql/streaming/query.py:221\u001B[0m, in \u001B[0;36mStreamingQuery.awaitTermination\u001B[0;34m(self, timeout)\u001B[0m\n\u001B[1;32m    219\u001B[0m     \u001B[38;5;28;01mreturn\u001B[39;00m \u001B[38;5;28mself\u001B[39m\u001B[38;5;241m.\u001B[39m_jsq\u001B[38;5;241m.\u001B[39mawaitTermination(\u001B[38;5;28mint\u001B[39m(timeout \u001B[38;5;241m*\u001B[39m \u001B[38;5;241m1000\u001B[39m))\n\u001B[1;32m    220\u001B[0m \u001B[38;5;28;01melse\u001B[39;00m:\n\u001B[0;32m--> 221\u001B[0m     \u001B[38;5;28;01mreturn\u001B[39;00m \u001B[38;5;28;43mself\u001B[39;49m\u001B[38;5;241;43m.\u001B[39;49m\u001B[43m_jsq\u001B[49m\u001B[38;5;241;43m.\u001B[39;49m\u001B[43mawaitTermination\u001B[49m\u001B[43m(\u001B[49m\u001B[43m)\u001B[49m\n",
      "File \u001B[0;32m/opt/conda/lib/python3.12/site-packages/py4j/java_gateway.py:1321\u001B[0m, in \u001B[0;36mJavaMember.__call__\u001B[0;34m(self, *args)\u001B[0m\n\u001B[1;32m   1314\u001B[0m args_command, temp_args \u001B[38;5;241m=\u001B[39m \u001B[38;5;28mself\u001B[39m\u001B[38;5;241m.\u001B[39m_build_args(\u001B[38;5;241m*\u001B[39margs)\n\u001B[1;32m   1316\u001B[0m command \u001B[38;5;241m=\u001B[39m proto\u001B[38;5;241m.\u001B[39mCALL_COMMAND_NAME \u001B[38;5;241m+\u001B[39m\\\n\u001B[1;32m   1317\u001B[0m     \u001B[38;5;28mself\u001B[39m\u001B[38;5;241m.\u001B[39mcommand_header \u001B[38;5;241m+\u001B[39m\\\n\u001B[1;32m   1318\u001B[0m     args_command \u001B[38;5;241m+\u001B[39m\\\n\u001B[1;32m   1319\u001B[0m     proto\u001B[38;5;241m.\u001B[39mEND_COMMAND_PART\n\u001B[0;32m-> 1321\u001B[0m answer \u001B[38;5;241m=\u001B[39m \u001B[38;5;28;43mself\u001B[39;49m\u001B[38;5;241;43m.\u001B[39;49m\u001B[43mgateway_client\u001B[49m\u001B[38;5;241;43m.\u001B[39;49m\u001B[43msend_command\u001B[49m\u001B[43m(\u001B[49m\u001B[43mcommand\u001B[49m\u001B[43m)\u001B[49m\n\u001B[1;32m   1322\u001B[0m return_value \u001B[38;5;241m=\u001B[39m get_return_value(\n\u001B[1;32m   1323\u001B[0m     answer, \u001B[38;5;28mself\u001B[39m\u001B[38;5;241m.\u001B[39mgateway_client, \u001B[38;5;28mself\u001B[39m\u001B[38;5;241m.\u001B[39mtarget_id, \u001B[38;5;28mself\u001B[39m\u001B[38;5;241m.\u001B[39mname)\n\u001B[1;32m   1325\u001B[0m \u001B[38;5;28;01mfor\u001B[39;00m temp_arg \u001B[38;5;129;01min\u001B[39;00m temp_args:\n",
      "File \u001B[0;32m/opt/conda/lib/python3.12/site-packages/py4j/java_gateway.py:1038\u001B[0m, in \u001B[0;36mGatewayClient.send_command\u001B[0;34m(self, command, retry, binary)\u001B[0m\n\u001B[1;32m   1036\u001B[0m connection \u001B[38;5;241m=\u001B[39m \u001B[38;5;28mself\u001B[39m\u001B[38;5;241m.\u001B[39m_get_connection()\n\u001B[1;32m   1037\u001B[0m \u001B[38;5;28;01mtry\u001B[39;00m:\n\u001B[0;32m-> 1038\u001B[0m     response \u001B[38;5;241m=\u001B[39m \u001B[43mconnection\u001B[49m\u001B[38;5;241;43m.\u001B[39;49m\u001B[43msend_command\u001B[49m\u001B[43m(\u001B[49m\u001B[43mcommand\u001B[49m\u001B[43m)\u001B[49m\n\u001B[1;32m   1039\u001B[0m     \u001B[38;5;28;01mif\u001B[39;00m binary:\n\u001B[1;32m   1040\u001B[0m         \u001B[38;5;28;01mreturn\u001B[39;00m response, \u001B[38;5;28mself\u001B[39m\u001B[38;5;241m.\u001B[39m_create_connection_guard(connection)\n",
      "File \u001B[0;32m/opt/conda/lib/python3.12/site-packages/py4j/clientserver.py:511\u001B[0m, in \u001B[0;36mClientServerConnection.send_command\u001B[0;34m(self, command)\u001B[0m\n\u001B[1;32m    509\u001B[0m \u001B[38;5;28;01mtry\u001B[39;00m:\n\u001B[1;32m    510\u001B[0m     \u001B[38;5;28;01mwhile\u001B[39;00m \u001B[38;5;28;01mTrue\u001B[39;00m:\n\u001B[0;32m--> 511\u001B[0m         answer \u001B[38;5;241m=\u001B[39m smart_decode(\u001B[38;5;28;43mself\u001B[39;49m\u001B[38;5;241;43m.\u001B[39;49m\u001B[43mstream\u001B[49m\u001B[38;5;241;43m.\u001B[39;49m\u001B[43mreadline\u001B[49m\u001B[43m(\u001B[49m\u001B[43m)\u001B[49m[:\u001B[38;5;241m-\u001B[39m\u001B[38;5;241m1\u001B[39m])\n\u001B[1;32m    512\u001B[0m         logger\u001B[38;5;241m.\u001B[39mdebug(\u001B[38;5;124m\"\u001B[39m\u001B[38;5;124mAnswer received: \u001B[39m\u001B[38;5;132;01m{0}\u001B[39;00m\u001B[38;5;124m\"\u001B[39m\u001B[38;5;241m.\u001B[39mformat(answer))\n\u001B[1;32m    513\u001B[0m         \u001B[38;5;66;03m# Happens when a the other end is dead. There might be an empty\u001B[39;00m\n\u001B[1;32m    514\u001B[0m         \u001B[38;5;66;03m# answer before the socket raises an error.\u001B[39;00m\n",
      "File \u001B[0;32m/opt/conda/lib/python3.12/socket.py:720\u001B[0m, in \u001B[0;36mSocketIO.readinto\u001B[0;34m(self, b)\u001B[0m\n\u001B[1;32m    718\u001B[0m \u001B[38;5;28;01mwhile\u001B[39;00m \u001B[38;5;28;01mTrue\u001B[39;00m:\n\u001B[1;32m    719\u001B[0m     \u001B[38;5;28;01mtry\u001B[39;00m:\n\u001B[0;32m--> 720\u001B[0m         \u001B[38;5;28;01mreturn\u001B[39;00m \u001B[38;5;28;43mself\u001B[39;49m\u001B[38;5;241;43m.\u001B[39;49m\u001B[43m_sock\u001B[49m\u001B[38;5;241;43m.\u001B[39;49m\u001B[43mrecv_into\u001B[49m\u001B[43m(\u001B[49m\u001B[43mb\u001B[49m\u001B[43m)\u001B[49m\n\u001B[1;32m    721\u001B[0m     \u001B[38;5;28;01mexcept\u001B[39;00m timeout:\n\u001B[1;32m    722\u001B[0m         \u001B[38;5;28mself\u001B[39m\u001B[38;5;241m.\u001B[39m_timeout_occurred \u001B[38;5;241m=\u001B[39m \u001B[38;5;28;01mTrue\u001B[39;00m\n",
      "\u001B[0;31mKeyboardInterrupt\u001B[0m: "
     ]
    }
   ],
   "execution_count": 41
  },
  {
   "cell_type": "code",
   "id": "4c2b3528",
   "metadata": {
    "ExecuteTime": {
     "end_time": "2025-02-21T20:42:55.131998Z",
     "start_time": "2025-02-21T20:40:02.003320Z"
    }
   },
   "source": [
    "def push_bucket_metrics(df, epoch_id):\n",
    "    registry = CollectorRegistry()\n",
    "    \n",
    "    gauge = Gauge(\n",
    "        'bucketed_flights_count', \n",
    "        'Count of flights by altitude range per 1-minute window', \n",
    "        ['altitude_range'], \n",
    "        registry=registry\n",
    "    )\n",
    "    \n",
    "    # Iterate over each row in the micro-batch DataFrame.\n",
    "    # Each row should contain the altitude_range and its corresponding count.\n",
    "    for row in df.collect():\n",
    "        bucket = row['altitude_range']\n",
    "        count_val = row['count']\n",
    "        gauge.labels(altitude_range=bucket).set(count_val)\n",
    "    \n",
    "    # Push the metrics to the Pushgateway (ensure the host/port match your configuration)\n",
    "    push_to_gateway('pushgateway:9091', job='spark_bucketed_flights', registry=registry)\n",
    "    print(f\"Epoch {epoch_id}: Bucket metrics pushed to Prometheus Pushgateway.\")\n",
    "\n",
    "# Attach the foreachBatch function to your bucketed query output\n",
    "query_bucket_prom = df_bucket_count.writeStream \\\n",
    "    .outputMode(\"update\") \\\n",
    "    .foreachBatch(push_bucket_metrics) \\\n",
    "    .start()\n",
    "\n",
    "query_bucket_prom.awaitTermination()\n"
   ],
   "outputs": [
    {
     "name": "stderr",
     "output_type": "stream",
     "text": [
      "25/02/21 20:40:02 WARN ResolveWriteToStream: Temporary checkpoint location created which is deleted normally when the query didn't fail: /tmp/temporary-38cac8be-dbcc-4e24-8297-0a0f71606993. If it's required to delete it under any circumstances, please set spark.sql.streaming.forceDeleteTempCheckpointLocation to true. Important to know deleting temp checkpoint folder is best effort.\n",
      "25/02/21 20:40:02 WARN ResolveWriteToStream: spark.sql.adaptive.enabled is not supported in streaming DataFrames/Datasets and will be disabled.\n",
      "25/02/21 20:40:02 WARN AdminClientConfig: These configurations '[key.deserializer, value.deserializer, enable.auto.commit, max.poll.records, auto.offset.reset]' were supplied but are not used yet.\n",
      "ERROR:root:KeyboardInterrupt while sending command.                             \n",
      "Traceback (most recent call last):\n",
      "  File \"/opt/conda/lib/python3.12/site-packages/py4j/java_gateway.py\", line 1038, in send_command\n",
      "    response = connection.send_command(command)\n",
      "               ^^^^^^^^^^^^^^^^^^^^^^^^^^^^^^^^\n",
      "  File \"/opt/conda/lib/python3.12/site-packages/py4j/clientserver.py\", line 511, in send_command\n",
      "    answer = smart_decode(self.stream.readline()[:-1])\n",
      "                          ^^^^^^^^^^^^^^^^^^^^^^\n",
      "  File \"/opt/conda/lib/python3.12/socket.py\", line 720, in readinto\n",
      "    return self._sock.recv_into(b)\n",
      "           ^^^^^^^^^^^^^^^^^^^^^^^\n",
      "KeyboardInterrupt\n"
     ]
    },
    {
     "ename": "KeyboardInterrupt",
     "evalue": "",
     "output_type": "error",
     "traceback": [
      "\u001B[0;31m---------------------------------------------------------------------------\u001B[0m",
      "\u001B[0;31mKeyboardInterrupt\u001B[0m                         Traceback (most recent call last)",
      "Cell \u001B[0;32mIn[42], line 28\u001B[0m\n\u001B[1;32m     22\u001B[0m \u001B[38;5;66;03m# Attach the foreachBatch function to your bucketed query output\u001B[39;00m\n\u001B[1;32m     23\u001B[0m query_bucket_prom \u001B[38;5;241m=\u001B[39m df_bucket_count\u001B[38;5;241m.\u001B[39mwriteStream \\\n\u001B[1;32m     24\u001B[0m     \u001B[38;5;241m.\u001B[39moutputMode(\u001B[38;5;124m\"\u001B[39m\u001B[38;5;124mupdate\u001B[39m\u001B[38;5;124m\"\u001B[39m) \\\n\u001B[1;32m     25\u001B[0m     \u001B[38;5;241m.\u001B[39mforeachBatch(push_bucket_metrics) \\\n\u001B[1;32m     26\u001B[0m     \u001B[38;5;241m.\u001B[39mstart()\n\u001B[0;32m---> 28\u001B[0m \u001B[43mquery_bucket_prom\u001B[49m\u001B[38;5;241;43m.\u001B[39;49m\u001B[43mawaitTermination\u001B[49m\u001B[43m(\u001B[49m\u001B[43m)\u001B[49m\n",
      "File \u001B[0;32m/opt/conda/lib/python3.12/site-packages/pyspark/sql/streaming/query.py:221\u001B[0m, in \u001B[0;36mStreamingQuery.awaitTermination\u001B[0;34m(self, timeout)\u001B[0m\n\u001B[1;32m    219\u001B[0m     \u001B[38;5;28;01mreturn\u001B[39;00m \u001B[38;5;28mself\u001B[39m\u001B[38;5;241m.\u001B[39m_jsq\u001B[38;5;241m.\u001B[39mawaitTermination(\u001B[38;5;28mint\u001B[39m(timeout \u001B[38;5;241m*\u001B[39m \u001B[38;5;241m1000\u001B[39m))\n\u001B[1;32m    220\u001B[0m \u001B[38;5;28;01melse\u001B[39;00m:\n\u001B[0;32m--> 221\u001B[0m     \u001B[38;5;28;01mreturn\u001B[39;00m \u001B[38;5;28;43mself\u001B[39;49m\u001B[38;5;241;43m.\u001B[39;49m\u001B[43m_jsq\u001B[49m\u001B[38;5;241;43m.\u001B[39;49m\u001B[43mawaitTermination\u001B[49m\u001B[43m(\u001B[49m\u001B[43m)\u001B[49m\n",
      "File \u001B[0;32m/opt/conda/lib/python3.12/site-packages/py4j/java_gateway.py:1321\u001B[0m, in \u001B[0;36mJavaMember.__call__\u001B[0;34m(self, *args)\u001B[0m\n\u001B[1;32m   1314\u001B[0m args_command, temp_args \u001B[38;5;241m=\u001B[39m \u001B[38;5;28mself\u001B[39m\u001B[38;5;241m.\u001B[39m_build_args(\u001B[38;5;241m*\u001B[39margs)\n\u001B[1;32m   1316\u001B[0m command \u001B[38;5;241m=\u001B[39m proto\u001B[38;5;241m.\u001B[39mCALL_COMMAND_NAME \u001B[38;5;241m+\u001B[39m\\\n\u001B[1;32m   1317\u001B[0m     \u001B[38;5;28mself\u001B[39m\u001B[38;5;241m.\u001B[39mcommand_header \u001B[38;5;241m+\u001B[39m\\\n\u001B[1;32m   1318\u001B[0m     args_command \u001B[38;5;241m+\u001B[39m\\\n\u001B[1;32m   1319\u001B[0m     proto\u001B[38;5;241m.\u001B[39mEND_COMMAND_PART\n\u001B[0;32m-> 1321\u001B[0m answer \u001B[38;5;241m=\u001B[39m \u001B[38;5;28;43mself\u001B[39;49m\u001B[38;5;241;43m.\u001B[39;49m\u001B[43mgateway_client\u001B[49m\u001B[38;5;241;43m.\u001B[39;49m\u001B[43msend_command\u001B[49m\u001B[43m(\u001B[49m\u001B[43mcommand\u001B[49m\u001B[43m)\u001B[49m\n\u001B[1;32m   1322\u001B[0m return_value \u001B[38;5;241m=\u001B[39m get_return_value(\n\u001B[1;32m   1323\u001B[0m     answer, \u001B[38;5;28mself\u001B[39m\u001B[38;5;241m.\u001B[39mgateway_client, \u001B[38;5;28mself\u001B[39m\u001B[38;5;241m.\u001B[39mtarget_id, \u001B[38;5;28mself\u001B[39m\u001B[38;5;241m.\u001B[39mname)\n\u001B[1;32m   1325\u001B[0m \u001B[38;5;28;01mfor\u001B[39;00m temp_arg \u001B[38;5;129;01min\u001B[39;00m temp_args:\n",
      "File \u001B[0;32m/opt/conda/lib/python3.12/site-packages/py4j/java_gateway.py:1038\u001B[0m, in \u001B[0;36mGatewayClient.send_command\u001B[0;34m(self, command, retry, binary)\u001B[0m\n\u001B[1;32m   1036\u001B[0m connection \u001B[38;5;241m=\u001B[39m \u001B[38;5;28mself\u001B[39m\u001B[38;5;241m.\u001B[39m_get_connection()\n\u001B[1;32m   1037\u001B[0m \u001B[38;5;28;01mtry\u001B[39;00m:\n\u001B[0;32m-> 1038\u001B[0m     response \u001B[38;5;241m=\u001B[39m \u001B[43mconnection\u001B[49m\u001B[38;5;241;43m.\u001B[39;49m\u001B[43msend_command\u001B[49m\u001B[43m(\u001B[49m\u001B[43mcommand\u001B[49m\u001B[43m)\u001B[49m\n\u001B[1;32m   1039\u001B[0m     \u001B[38;5;28;01mif\u001B[39;00m binary:\n\u001B[1;32m   1040\u001B[0m         \u001B[38;5;28;01mreturn\u001B[39;00m response, \u001B[38;5;28mself\u001B[39m\u001B[38;5;241m.\u001B[39m_create_connection_guard(connection)\n",
      "File \u001B[0;32m/opt/conda/lib/python3.12/site-packages/py4j/clientserver.py:511\u001B[0m, in \u001B[0;36mClientServerConnection.send_command\u001B[0;34m(self, command)\u001B[0m\n\u001B[1;32m    509\u001B[0m \u001B[38;5;28;01mtry\u001B[39;00m:\n\u001B[1;32m    510\u001B[0m     \u001B[38;5;28;01mwhile\u001B[39;00m \u001B[38;5;28;01mTrue\u001B[39;00m:\n\u001B[0;32m--> 511\u001B[0m         answer \u001B[38;5;241m=\u001B[39m smart_decode(\u001B[38;5;28;43mself\u001B[39;49m\u001B[38;5;241;43m.\u001B[39;49m\u001B[43mstream\u001B[49m\u001B[38;5;241;43m.\u001B[39;49m\u001B[43mreadline\u001B[49m\u001B[43m(\u001B[49m\u001B[43m)\u001B[49m[:\u001B[38;5;241m-\u001B[39m\u001B[38;5;241m1\u001B[39m])\n\u001B[1;32m    512\u001B[0m         logger\u001B[38;5;241m.\u001B[39mdebug(\u001B[38;5;124m\"\u001B[39m\u001B[38;5;124mAnswer received: \u001B[39m\u001B[38;5;132;01m{0}\u001B[39;00m\u001B[38;5;124m\"\u001B[39m\u001B[38;5;241m.\u001B[39mformat(answer))\n\u001B[1;32m    513\u001B[0m         \u001B[38;5;66;03m# Happens when a the other end is dead. There might be an empty\u001B[39;00m\n\u001B[1;32m    514\u001B[0m         \u001B[38;5;66;03m# answer before the socket raises an error.\u001B[39;00m\n",
      "File \u001B[0;32m/opt/conda/lib/python3.12/socket.py:720\u001B[0m, in \u001B[0;36mSocketIO.readinto\u001B[0;34m(self, b)\u001B[0m\n\u001B[1;32m    718\u001B[0m \u001B[38;5;28;01mwhile\u001B[39;00m \u001B[38;5;28;01mTrue\u001B[39;00m:\n\u001B[1;32m    719\u001B[0m     \u001B[38;5;28;01mtry\u001B[39;00m:\n\u001B[0;32m--> 720\u001B[0m         \u001B[38;5;28;01mreturn\u001B[39;00m \u001B[38;5;28;43mself\u001B[39;49m\u001B[38;5;241;43m.\u001B[39;49m\u001B[43m_sock\u001B[49m\u001B[38;5;241;43m.\u001B[39;49m\u001B[43mrecv_into\u001B[49m\u001B[43m(\u001B[49m\u001B[43mb\u001B[49m\u001B[43m)\u001B[49m\n\u001B[1;32m    721\u001B[0m     \u001B[38;5;28;01mexcept\u001B[39;00m timeout:\n\u001B[1;32m    722\u001B[0m         \u001B[38;5;28mself\u001B[39m\u001B[38;5;241m.\u001B[39m_timeout_occurred \u001B[38;5;241m=\u001B[39m \u001B[38;5;28;01mTrue\u001B[39;00m\n",
      "\u001B[0;31mKeyboardInterrupt\u001B[0m: "
     ]
    }
   ],
   "execution_count": 42
  },
  {
   "cell_type": "markdown",
   "id": "bb637d61",
   "metadata": {},
   "source": "### Affichage des Streaming Queries"
  },
  {
   "metadata": {},
   "cell_type": "code",
   "outputs": [],
   "execution_count": null,
   "source": [
    "query_bucket = df_bucket_count.writeStream \\\n",
    "    .outputMode(\"complete\") \\\n",
    "    .format(\"console\") \\\n",
    "    .queryName(\"bucket_console_query\") \\\n",
    "    .start()\n",
    "\n",
    "query_filtered = df_filtered_windowed.writeStream \\\n",
    "    .outputMode(\"update\") \\\n",
    "    .format(\"console\") \\\n",
    "    .queryName(\"filtered_console_query\") \\\n",
    "    .start()\n",
    "\n",
    "# Uncomment the following lines if you wish to block execution:\n",
    "query_bucket.awaitTermination()\n",
    "query_filtered.awaitTermination()"
   ],
   "id": "d9d67b624d4cd728"
  },
  {
   "metadata": {},
   "cell_type": "markdown",
   "source": "## GraphX with GraphFrames",
   "id": "4b65f333f5568a66"
  },
  {
   "metadata": {},
   "cell_type": "markdown",
   "source": "> Installation de bokeh si déjà installée via requirements alors ce n'est pas nécessaire.",
   "id": "5070d65967fee751"
  },
  {
   "metadata": {},
   "cell_type": "code",
   "outputs": [],
   "execution_count": null,
   "source": "!pip install bokeh",
   "id": "f61817d2acf4fbde"
  },
  {
   "metadata": {},
   "cell_type": "markdown",
   "source": [
    "\n",
    "### Définition du schéma de données Kafka, lecture du feed et parsing"
   ],
   "id": "1ba1a7cd8674f825"
  },
  {
   "metadata": {
    "ExecuteTime": {
     "end_time": "2025-02-21T20:09:48.758220Z",
     "start_time": "2025-02-21T20:09:48.686216Z"
    }
   },
   "cell_type": "code",
   "source": [
    "# Définition du schéma des données Kafka\n",
    "\n",
    "schema = StructType([\n",
    "    StructField(\"icao24\", StringType(), True),\n",
    "    StructField(\"firstSeen\", LongType(), True),\n",
    "    StructField(\"estDepartureAirport\", StringType(), True),\n",
    "    StructField(\"lastSeen\", LongType(), True),\n",
    "    StructField(\"estArrivalAirport\", StringType(), True),\n",
    "])\n",
    "\n",
    "# Lecture du flux Kafka\n",
    "flights_df = sql_context.read.format(\"kafka\") \\\n",
    "    .option(\"kafka.bootstrap.servers\", \"kafka1:9092\") \\\n",
    "    .option(\"subscribe\", \"opensky-flights\") \\\n",
    "    .option(\"startingOffsets\", \"earliest\") \\\n",
    "    .option(\"endingOffsets\", \"latest\") \\\n",
    "    .load()\n",
    "\n",
    "# Parsing du JSON contenu dans Kafka\n",
    "flights_json = flights_df.select(from_json(col(\"value\").cast(\"string\"), schema).alias(\"data\")).select(\"data.*\")"
   ],
   "id": "ca94643203b8e088",
   "outputs": [],
   "execution_count": 18
  },
  {
   "metadata": {},
   "cell_type": "markdown",
   "source": "### Définition des sommets arrêtes et graphe",
   "id": "8cc29518949802bf"
  },
  {
   "metadata": {
    "ExecuteTime": {
     "end_time": "2025-02-21T20:09:51.143431Z",
     "start_time": "2025-02-21T20:09:51.110007Z"
    }
   },
   "cell_type": "code",
   "source": [
    "# Création du DataFrame des sommets (aéroports)\n",
    "# Suppression des doublons dans les sommets (aéroports)\n",
    "vertices = flights_json.select(col(\"estDepartureAirport\").alias(\"id\")).distinct() \\\n",
    "    .union(flights_json.select(col(\"estArrivalAirport\").alias(\"id\")).distinct()) \\\n",
    "    .filter(col(\"id\").isNotNull()) \\\n",
    "    .distinct()  # Suppression finale des doublons"
   ],
   "id": "d6a9d0ef22d87068",
   "outputs": [],
   "execution_count": 19
  },
  {
   "metadata": {
    "ExecuteTime": {
     "end_time": "2025-02-21T20:09:52.369573Z",
     "start_time": "2025-02-21T20:09:52.338324Z"
    }
   },
   "cell_type": "code",
   "source": [
    "# Création du DataFrame des arêtes (vols entre aéroports)\n",
    "edges = flights_json.select(\n",
    "    col(\"estDepartureAirport\").alias(\"src\"),\n",
    "    col(\"estArrivalAirport\").alias(\"dst\")\n",
    ").filter(col(\"src\").isNotNull() & col(\"dst\").isNotNull()) \\\n",
    "    .groupBy(\"src\", \"dst\").agg(count(\"*\").alias(\"weight\"))"
   ],
   "id": "5305635a77e263b6",
   "outputs": [],
   "execution_count": 20
  },
  {
   "metadata": {
    "ExecuteTime": {
     "end_time": "2025-02-21T20:09:53.665035Z",
     "start_time": "2025-02-21T20:09:53.626795Z"
    }
   },
   "cell_type": "code",
   "source": "graph = GraphFrame(vertices, edges)",
   "id": "14f49e82add605e",
   "outputs": [],
   "execution_count": 21
  },
  {
   "metadata": {},
   "cell_type": "markdown",
   "source": "### Actions sur Graphe",
   "id": "f6a085bf00fd465e"
  },
  {
   "metadata": {},
   "cell_type": "markdown",
   "source": "#### Page Rank",
   "id": "ed80058e44edf170"
  },
  {
   "metadata": {
    "ExecuteTime": {
     "end_time": "2025-02-21T20:10:12.900198Z",
     "start_time": "2025-02-21T20:09:54.867376Z"
    }
   },
   "cell_type": "code",
   "source": [
    "pagerank_results = graph.pageRank(resetProbability=0.15, maxIter=10)\n",
    "pagerank_results.vertices.select(\"id\", \"pagerank\").show(100)"
   ],
   "id": "7380cbc6c920767e",
   "outputs": [
    {
     "name": "stderr",
     "output_type": "stream",
     "text": [
      "25/02/21 20:09:54 WARN AdminClientConfig: These configurations '[key.deserializer, value.deserializer, enable.auto.commit, max.poll.records, auto.offset.reset]' were supplied but are not used yet.\n",
      "25/02/21 20:09:54 WARN AdminClientConfig: These configurations '[key.deserializer, value.deserializer, enable.auto.commit, max.poll.records, auto.offset.reset]' were supplied but are not used yet.\n",
      "25/02/21 20:09:55 WARN AdminClientConfig: These configurations '[key.deserializer, value.deserializer, enable.auto.commit, max.poll.records, auto.offset.reset]' were supplied but are not used yet.\n",
      "25/02/21 20:09:55 WARN AdminClientConfig: These configurations '[key.deserializer, value.deserializer, enable.auto.commit, max.poll.records, auto.offset.reset]' were supplied but are not used yet.\n",
      "25/02/21 20:10:01 WARN AdminClientConfig: These configurations '[key.deserializer, value.deserializer, enable.auto.commit, max.poll.records, auto.offset.reset]' were supplied but are not used yet.\n",
      "25/02/21 20:10:03 WARN AdminClientConfig: These configurations '[key.deserializer, value.deserializer, enable.auto.commit, max.poll.records, auto.offset.reset]' were supplied but are not used yet.\n",
      "25/02/21 20:10:03 WARN AdminClientConfig: These configurations '[key.deserializer, value.deserializer, enable.auto.commit, max.poll.records, auto.offset.reset]' were supplied but are not used yet.\n",
      "25/02/21 20:10:03 WARN AdminClientConfig: These configurations '[key.deserializer, value.deserializer, enable.auto.commit, max.poll.records, auto.offset.reset]' were supplied but are not used yet.\n",
      "25/02/21 20:10:03 WARN AdminClientConfig: These configurations '[key.deserializer, value.deserializer, enable.auto.commit, max.poll.records, auto.offset.reset]' were supplied but are not used yet.\n",
      "25/02/21 20:10:03 WARN AdminClientConfig: These configurations '[key.deserializer, value.deserializer, enable.auto.commit, max.poll.records, auto.offset.reset]' were supplied but are not used yet.\n",
      "25/02/21 20:10:09 WARN AdminClientConfig: These configurations '[key.deserializer, value.deserializer, enable.auto.commit, max.poll.records, auto.offset.reset]' were supplied but are not used yet.\n",
      "25/02/21 20:10:09 WARN AdminClientConfig: These configurations '[key.deserializer, value.deserializer, enable.auto.commit, max.poll.records, auto.offset.reset]' were supplied but are not used yet.\n",
      "                                                                                \r"
     ]
    },
    {
     "name": "stdout",
     "output_type": "stream",
     "text": [
      "+----+-------------------+\n",
      "|  id|           pagerank|\n",
      "+----+-------------------+\n",
      "|K2W6| 1.4109435125570877|\n",
      "|KLNS| 2.7433399166977113|\n",
      "|VG01| 0.3372358795664847|\n",
      "|KTTN| 5.4237697809081595|\n",
      "|MI77| 0.3372358795664847|\n",
      "|KCOI|  1.695512263042518|\n",
      "|FL31|  0.733137581090833|\n",
      "|KCHD| 3.9687145934141452|\n",
      "|KGEU|   4.19355681081376|\n",
      "|KOFP| 2.3083412517777404|\n",
      "|KPDK|  5.725479565703667|\n",
      "|KORF|  4.483594272797089|\n",
      "|22FA| 1.9199124340085585|\n",
      "|KVRB|  0.580677904260196|\n",
      "|LSZH| 2.9919221025773677|\n",
      "|KSOP| 1.6747755190646214|\n",
      "|KADS|  8.419903780092255|\n",
      "|KCLT|  5.719406934984599|\n",
      "|KGVL| 1.8021867328065642|\n",
      "|KMKS| 0.5863580647020112|\n",
      "|KIGQ| 2.8703508450266906|\n",
      "|PS68| 0.6318519473135285|\n",
      "|KFCI| 1.6354194043683725|\n",
      "|KSUS| 3.5880328462016875|\n",
      "|KX26| 1.4169087402158806|\n",
      "|KPDX|  1.318956307144184|\n",
      "|KBDN|  3.349049432874763|\n",
      "|KOCF| 3.9084779948908848|\n",
      "|MMMX| 0.3372358795664847|\n",
      "|4TN2|  2.248239197109898|\n",
      "|CA60| 0.5424276221429868|\n",
      "|EGVP| 0.3372358795664847|\n",
      "|KCKZ| 0.4705676193468313|\n",
      "|KSLE|   3.16893386789812|\n",
      "|TJFA| 0.3372358795664847|\n",
      "|EVRA| 1.2640476341316371|\n",
      "|EDDM| 1.8588707500384196|\n",
      "|KPOC| 1.8754837294784699|\n",
      "|KOKV| 0.6600682131580744|\n",
      "|LIRP| 0.3372358795664847|\n",
      "|07TS| 0.4805611283822407|\n",
      "|KTNT| 2.4219803515007814|\n",
      "|K2R4|  2.235696147152631|\n",
      "|WI20| 0.3372358795664847|\n",
      "|70KY|  2.248239197109898|\n",
      "|KE25| 1.6048240879322482|\n",
      "|KBNW| 0.3372358795664847|\n",
      "|KAHN|  0.585376103409344|\n",
      "|TE76| 0.3372358795664847|\n",
      "|KJAX| 1.0272407575486022|\n",
      "|KEZM| 1.7602725589922492|\n",
      "|7MI3| 1.1269809046685426|\n",
      "|KX39|   1.58987675056718|\n",
      "|KMIT| 0.3372358795664847|\n",
      "|KEVB| 3.6967797514873233|\n",
      "|KDTN| 0.6238863771979967|\n",
      "|FL63| 0.9694093995560812|\n",
      "|LEIB| 0.6796118653931358|\n",
      "|KX60| 0.4179981885074817|\n",
      "|KM70| 0.3372358795664847|\n",
      "|EGKB| 0.3372358795664847|\n",
      "|53KS|  2.248239197109898|\n",
      "|EGSS| 1.9208288524325772|\n",
      "|16AZ|  0.612454661053301|\n",
      "|KADG| 1.2059425595811568|\n",
      "|K12J| 0.5127780768523394|\n",
      "|KA39| 2.6085910044745138|\n",
      "|12TS| 0.3372358795664847|\n",
      "|KSUD| 0.5427116841937677|\n",
      "|KLAL| 0.5196279426744288|\n",
      "|KRLD| 0.5868166686413002|\n",
      "|K2F5| 0.5868166686413002|\n",
      "|73PN| 0.3372358795664847|\n",
      "|KSFZ| 1.4330631301800256|\n",
      "|K1B9|  1.149543086159244|\n",
      "|96ID|0.39289617640961066|\n",
      "|KAKH| 0.7649403809071625|\n",
      "|JY04| 0.5790737683442446|\n",
      "|KL38| 0.7922383780227128|\n",
      "|9NC8| 0.7615494094006338|\n",
      "|KBXK|  4.968353243715898|\n",
      "|3NK5| 0.4705676193468313|\n",
      "|FD30| 0.7712193120060308|\n",
      "|KHYA| 2.0988981782219267|\n",
      "|KINT| 0.6067932414611249|\n",
      "|KABQ|  2.767226527532044|\n",
      "|27CL| 0.3372358795664847|\n",
      "|TN08| 0.4805611283822407|\n",
      "|KPXE|  1.616138176872711|\n",
      "|KMOR| 2.7316035148227544|\n",
      "|19IA| 0.4545315915760613|\n",
      "|PN69| 0.3372358795664847|\n",
      "|KE41| 0.3372358795664847|\n",
      "|2AR5| 1.5433529560093018|\n",
      "|KSEA|  3.154860501437117|\n",
      "|VVGL| 0.3372358795664847|\n",
      "|KUMP| 2.9573079316600324|\n",
      "|1WA9| 0.6126931686944935|\n",
      "|84NC| 0.3372358795664847|\n",
      "|KGRB| 1.5759852105992338|\n",
      "+----+-------------------+\n",
      "only showing top 100 rows\n",
      "\n"
     ]
    }
   ],
   "execution_count": 22
  },
  {
   "metadata": {},
   "cell_type": "markdown",
   "source": "#### Connected Components heap mem error",
   "id": "30fb22aa56a66be6"
  },
  {
   "metadata": {
    "ExecuteTime": {
     "end_time": "2025-02-21T20:10:39.842972Z",
     "start_time": "2025-02-21T20:10:12.907610Z"
    }
   },
   "cell_type": "code",
   "source": [
    "cc_results = graph.connectedComponents()\n",
    "cc_results.select(\"id\", \"component\").orderBy(\"component\").show()"
   ],
   "id": "92f4390bf9678c3",
   "outputs": [
    {
     "name": "stderr",
     "output_type": "stream",
     "text": [
      "25/02/21 20:10:13 WARN AdminClientConfig: These configurations '[key.deserializer, value.deserializer, enable.auto.commit, max.poll.records, auto.offset.reset]' were supplied but are not used yet.\n",
      "25/02/21 20:10:13 WARN AdminClientConfig: These configurations '[key.deserializer, value.deserializer, enable.auto.commit, max.poll.records, auto.offset.reset]' were supplied but are not used yet.\n",
      "25/02/21 20:10:13 WARN AdminClientConfig: These configurations '[key.deserializer, value.deserializer, enable.auto.commit, max.poll.records, auto.offset.reset]' were supplied but are not used yet.\n",
      "25/02/21 20:10:13 WARN AdminClientConfig: These configurations '[key.deserializer, value.deserializer, enable.auto.commit, max.poll.records, auto.offset.reset]' were supplied but are not used yet.\n",
      "25/02/21 20:10:13 WARN AdminClientConfig: These configurations '[key.deserializer, value.deserializer, enable.auto.commit, max.poll.records, auto.offset.reset]' were supplied but are not used yet.\n",
      "                                                                                \r"
     ]
    },
    {
     "ename": "Py4JJavaError",
     "evalue": "An error occurred while calling o888.run.\n: java.lang.OutOfMemoryError: Java heap space\n\tat java.base/java.lang.AbstractStringBuilder.<init>(AbstractStringBuilder.java:88)\n\tat java.base/java.lang.StringBuilder.<init>(StringBuilder.java:119)\n\tat org.apache.spark.sql.catalyst.util.StringConcat.toString(StringUtils.scala:62)\n\tat org.apache.spark.sql.catalyst.util.StringUtils$PlanStringConcat.toString(StringUtils.scala:152)\n\tat org.apache.spark.sql.execution.QueryExecution.explainString(QueryExecution.scala:254)\n\tat org.apache.spark.sql.execution.SQLExecution$.$anonfun$withNewExecutionId$6(SQLExecution.scala:117)\n\tat org.apache.spark.sql.execution.SQLExecution$$$Lambda$1801/0x00007fa42cb82030.apply(Unknown Source)\n\tat org.apache.spark.sql.execution.SQLExecution$.withSQLConfPropagated(SQLExecution.scala:201)\n\tat org.apache.spark.sql.execution.SQLExecution$.$anonfun$withNewExecutionId$1(SQLExecution.scala:108)\n\tat org.apache.spark.sql.execution.SQLExecution$$$Lambda$1791/0x00007fa42cb7ec60.apply(Unknown Source)\n\tat org.apache.spark.sql.SparkSession.withActive(SparkSession.scala:900)\n\tat org.apache.spark.sql.execution.SQLExecution$.withNewExecutionId(SQLExecution.scala:66)\n\tat org.apache.spark.sql.execution.QueryExecution$$anonfun$eagerlyExecuteCommands$1.applyOrElse(QueryExecution.scala:107)\n\tat org.apache.spark.sql.execution.QueryExecution$$anonfun$eagerlyExecuteCommands$1.applyOrElse(QueryExecution.scala:98)\n\tat org.apache.spark.sql.catalyst.trees.TreeNode.$anonfun$transformDownWithPruning$1(TreeNode.scala:461)\n\tat org.apache.spark.sql.catalyst.trees.TreeNode$$Lambda$1235/0x00007fa42c94f9c0.apply(Unknown Source)\n\tat org.apache.spark.sql.catalyst.trees.CurrentOrigin$.withOrigin(origin.scala:76)\n\tat org.apache.spark.sql.catalyst.trees.TreeNode.transformDownWithPruning(TreeNode.scala:461)\n\tat org.apache.spark.sql.catalyst.plans.logical.LogicalPlan.org$apache$spark$sql$catalyst$plans$logical$AnalysisHelper$$super$transformDownWithPruning(LogicalPlan.scala:32)\n\tat org.apache.spark.sql.catalyst.plans.logical.AnalysisHelper.transformDownWithPruning(AnalysisHelper.scala:267)\n\tat org.apache.spark.sql.catalyst.plans.logical.AnalysisHelper.transformDownWithPruning$(AnalysisHelper.scala:263)\n\tat org.apache.spark.sql.catalyst.plans.logical.LogicalPlan.transformDownWithPruning(LogicalPlan.scala:32)\n\tat org.apache.spark.sql.catalyst.plans.logical.LogicalPlan.transformDownWithPruning(LogicalPlan.scala:32)\n\tat org.apache.spark.sql.catalyst.trees.TreeNode.transformDown(TreeNode.scala:437)\n\tat org.apache.spark.sql.execution.QueryExecution.eagerlyExecuteCommands(QueryExecution.scala:98)\n\tat org.apache.spark.sql.execution.QueryExecution.commandExecuted$lzycompute(QueryExecution.scala:85)\n\tat org.apache.spark.sql.execution.QueryExecution.commandExecuted(QueryExecution.scala:83)\n\tat org.apache.spark.sql.execution.QueryExecution.assertCommandExecuted(QueryExecution.scala:142)\n\tat org.apache.spark.sql.DataFrameWriter.runCommand(DataFrameWriter.scala:869)\n\tat org.apache.spark.sql.DataFrameWriter.saveToV1Source(DataFrameWriter.scala:391)\n\tat org.apache.spark.sql.DataFrameWriter.saveInternal(DataFrameWriter.scala:364)\n\tat org.apache.spark.sql.DataFrameWriter.save(DataFrameWriter.scala:243)\n",
     "output_type": "error",
     "traceback": [
      "\u001B[0;31m---------------------------------------------------------------------------\u001B[0m",
      "\u001B[0;31mPy4JJavaError\u001B[0m                             Traceback (most recent call last)",
      "Cell \u001B[0;32mIn[23], line 1\u001B[0m\n\u001B[0;32m----> 1\u001B[0m cc_results \u001B[38;5;241m=\u001B[39m \u001B[43mgraph\u001B[49m\u001B[38;5;241;43m.\u001B[39;49m\u001B[43mconnectedComponents\u001B[49m\u001B[43m(\u001B[49m\u001B[43m)\u001B[49m\n\u001B[1;32m      2\u001B[0m cc_results\u001B[38;5;241m.\u001B[39mselect(\u001B[38;5;124m\"\u001B[39m\u001B[38;5;124mid\u001B[39m\u001B[38;5;124m\"\u001B[39m, \u001B[38;5;124m\"\u001B[39m\u001B[38;5;124mcomponent\u001B[39m\u001B[38;5;124m\"\u001B[39m)\u001B[38;5;241m.\u001B[39morderBy(\u001B[38;5;124m\"\u001B[39m\u001B[38;5;124mcomponent\u001B[39m\u001B[38;5;124m\"\u001B[39m)\u001B[38;5;241m.\u001B[39mshow()\n",
      "File \u001B[0;32m/tmp/spark-55bd0bee-bc7b-47a9-a443-28add57ea61a/userFiles-44cc84f6-e7e7-44b9-a3cd-802ce9ffa2b4/graphframes_graphframes-0.8.4-spark3.5-s_2.12.jar/graphframes/graphframe.py:331\u001B[0m, in \u001B[0;36mGraphFrame.connectedComponents\u001B[0;34m(self, algorithm, checkpointInterval, broadcastThreshold)\u001B[0m\n\u001B[1;32m    312\u001B[0m \u001B[38;5;28;01mdef\u001B[39;00m\u001B[38;5;250m \u001B[39m\u001B[38;5;21mconnectedComponents\u001B[39m(\u001B[38;5;28mself\u001B[39m, algorithm \u001B[38;5;241m=\u001B[39m \u001B[38;5;124m\"\u001B[39m\u001B[38;5;124mgraphframes\u001B[39m\u001B[38;5;124m\"\u001B[39m, checkpointInterval \u001B[38;5;241m=\u001B[39m \u001B[38;5;241m2\u001B[39m,\n\u001B[1;32m    313\u001B[0m                         broadcastThreshold \u001B[38;5;241m=\u001B[39m \u001B[38;5;241m1000000\u001B[39m):\n\u001B[1;32m    314\u001B[0m \u001B[38;5;250m    \u001B[39m\u001B[38;5;124;03m\"\"\"\u001B[39;00m\n\u001B[1;32m    315\u001B[0m \u001B[38;5;124;03m    Computes the connected components of the graph.\u001B[39;00m\n\u001B[1;32m    316\u001B[0m \n\u001B[0;32m   (...)\u001B[0m\n\u001B[1;32m    325\u001B[0m \u001B[38;5;124;03m    :return: DataFrame with new vertices column \"component\"\u001B[39;00m\n\u001B[1;32m    326\u001B[0m \u001B[38;5;124;03m    \"\"\"\u001B[39;00m\n\u001B[1;32m    327\u001B[0m     jdf \u001B[38;5;241m=\u001B[39m \u001B[38;5;28;43mself\u001B[39;49m\u001B[38;5;241;43m.\u001B[39;49m\u001B[43m_jvm_graph\u001B[49m\u001B[38;5;241;43m.\u001B[39;49m\u001B[43mconnectedComponents\u001B[49m\u001B[43m(\u001B[49m\u001B[43m)\u001B[49m\u001B[43m \u001B[49m\u001B[43m\\\u001B[49m\n\u001B[1;32m    328\u001B[0m \u001B[43m        \u001B[49m\u001B[38;5;241;43m.\u001B[39;49m\u001B[43msetAlgorithm\u001B[49m\u001B[43m(\u001B[49m\u001B[43malgorithm\u001B[49m\u001B[43m)\u001B[49m\u001B[43m \u001B[49m\u001B[43m\\\u001B[49m\n\u001B[1;32m    329\u001B[0m \u001B[43m        \u001B[49m\u001B[38;5;241;43m.\u001B[39;49m\u001B[43msetCheckpointInterval\u001B[49m\u001B[43m(\u001B[49m\u001B[43mcheckpointInterval\u001B[49m\u001B[43m)\u001B[49m\u001B[43m \u001B[49m\u001B[43m\\\u001B[49m\n\u001B[1;32m    330\u001B[0m \u001B[43m        \u001B[49m\u001B[38;5;241;43m.\u001B[39;49m\u001B[43msetBroadcastThreshold\u001B[49m\u001B[43m(\u001B[49m\u001B[43mbroadcastThreshold\u001B[49m\u001B[43m)\u001B[49m\u001B[43m \u001B[49m\u001B[43m\\\u001B[49m\n\u001B[0;32m--> 331\u001B[0m \u001B[43m        \u001B[49m\u001B[38;5;241;43m.\u001B[39;49m\u001B[43mrun\u001B[49m\u001B[43m(\u001B[49m\u001B[43m)\u001B[49m\n\u001B[1;32m    332\u001B[0m     \u001B[38;5;28;01mreturn\u001B[39;00m DataFrame(jdf, \u001B[38;5;28mself\u001B[39m\u001B[38;5;241m.\u001B[39m_spark)\n",
      "File \u001B[0;32m/opt/conda/lib/python3.12/site-packages/py4j/java_gateway.py:1322\u001B[0m, in \u001B[0;36mJavaMember.__call__\u001B[0;34m(self, *args)\u001B[0m\n\u001B[1;32m   1316\u001B[0m command \u001B[38;5;241m=\u001B[39m proto\u001B[38;5;241m.\u001B[39mCALL_COMMAND_NAME \u001B[38;5;241m+\u001B[39m\\\n\u001B[1;32m   1317\u001B[0m     \u001B[38;5;28mself\u001B[39m\u001B[38;5;241m.\u001B[39mcommand_header \u001B[38;5;241m+\u001B[39m\\\n\u001B[1;32m   1318\u001B[0m     args_command \u001B[38;5;241m+\u001B[39m\\\n\u001B[1;32m   1319\u001B[0m     proto\u001B[38;5;241m.\u001B[39mEND_COMMAND_PART\n\u001B[1;32m   1321\u001B[0m answer \u001B[38;5;241m=\u001B[39m \u001B[38;5;28mself\u001B[39m\u001B[38;5;241m.\u001B[39mgateway_client\u001B[38;5;241m.\u001B[39msend_command(command)\n\u001B[0;32m-> 1322\u001B[0m return_value \u001B[38;5;241m=\u001B[39m \u001B[43mget_return_value\u001B[49m\u001B[43m(\u001B[49m\n\u001B[1;32m   1323\u001B[0m \u001B[43m    \u001B[49m\u001B[43manswer\u001B[49m\u001B[43m,\u001B[49m\u001B[43m \u001B[49m\u001B[38;5;28;43mself\u001B[39;49m\u001B[38;5;241;43m.\u001B[39;49m\u001B[43mgateway_client\u001B[49m\u001B[43m,\u001B[49m\u001B[43m \u001B[49m\u001B[38;5;28;43mself\u001B[39;49m\u001B[38;5;241;43m.\u001B[39;49m\u001B[43mtarget_id\u001B[49m\u001B[43m,\u001B[49m\u001B[43m \u001B[49m\u001B[38;5;28;43mself\u001B[39;49m\u001B[38;5;241;43m.\u001B[39;49m\u001B[43mname\u001B[49m\u001B[43m)\u001B[49m\n\u001B[1;32m   1325\u001B[0m \u001B[38;5;28;01mfor\u001B[39;00m temp_arg \u001B[38;5;129;01min\u001B[39;00m temp_args:\n\u001B[1;32m   1326\u001B[0m     \u001B[38;5;28;01mif\u001B[39;00m \u001B[38;5;28mhasattr\u001B[39m(temp_arg, \u001B[38;5;124m\"\u001B[39m\u001B[38;5;124m_detach\u001B[39m\u001B[38;5;124m\"\u001B[39m):\n",
      "File \u001B[0;32m/opt/conda/lib/python3.12/site-packages/pyspark/errors/exceptions/captured.py:179\u001B[0m, in \u001B[0;36mcapture_sql_exception.<locals>.deco\u001B[0;34m(*a, **kw)\u001B[0m\n\u001B[1;32m    177\u001B[0m \u001B[38;5;28;01mdef\u001B[39;00m\u001B[38;5;250m \u001B[39m\u001B[38;5;21mdeco\u001B[39m(\u001B[38;5;241m*\u001B[39ma: Any, \u001B[38;5;241m*\u001B[39m\u001B[38;5;241m*\u001B[39mkw: Any) \u001B[38;5;241m-\u001B[39m\u001B[38;5;241m>\u001B[39m Any:\n\u001B[1;32m    178\u001B[0m     \u001B[38;5;28;01mtry\u001B[39;00m:\n\u001B[0;32m--> 179\u001B[0m         \u001B[38;5;28;01mreturn\u001B[39;00m \u001B[43mf\u001B[49m\u001B[43m(\u001B[49m\u001B[38;5;241;43m*\u001B[39;49m\u001B[43ma\u001B[49m\u001B[43m,\u001B[49m\u001B[43m \u001B[49m\u001B[38;5;241;43m*\u001B[39;49m\u001B[38;5;241;43m*\u001B[39;49m\u001B[43mkw\u001B[49m\u001B[43m)\u001B[49m\n\u001B[1;32m    180\u001B[0m     \u001B[38;5;28;01mexcept\u001B[39;00m Py4JJavaError \u001B[38;5;28;01mas\u001B[39;00m e:\n\u001B[1;32m    181\u001B[0m         converted \u001B[38;5;241m=\u001B[39m convert_exception(e\u001B[38;5;241m.\u001B[39mjava_exception)\n",
      "File \u001B[0;32m/opt/conda/lib/python3.12/site-packages/py4j/protocol.py:326\u001B[0m, in \u001B[0;36mget_return_value\u001B[0;34m(answer, gateway_client, target_id, name)\u001B[0m\n\u001B[1;32m    324\u001B[0m value \u001B[38;5;241m=\u001B[39m OUTPUT_CONVERTER[\u001B[38;5;28mtype\u001B[39m](answer[\u001B[38;5;241m2\u001B[39m:], gateway_client)\n\u001B[1;32m    325\u001B[0m \u001B[38;5;28;01mif\u001B[39;00m answer[\u001B[38;5;241m1\u001B[39m] \u001B[38;5;241m==\u001B[39m REFERENCE_TYPE:\n\u001B[0;32m--> 326\u001B[0m     \u001B[38;5;28;01mraise\u001B[39;00m Py4JJavaError(\n\u001B[1;32m    327\u001B[0m         \u001B[38;5;124m\"\u001B[39m\u001B[38;5;124mAn error occurred while calling \u001B[39m\u001B[38;5;132;01m{0}\u001B[39;00m\u001B[38;5;132;01m{1}\u001B[39;00m\u001B[38;5;132;01m{2}\u001B[39;00m\u001B[38;5;124m.\u001B[39m\u001B[38;5;130;01m\\n\u001B[39;00m\u001B[38;5;124m\"\u001B[39m\u001B[38;5;241m.\u001B[39m\n\u001B[1;32m    328\u001B[0m         \u001B[38;5;28mformat\u001B[39m(target_id, \u001B[38;5;124m\"\u001B[39m\u001B[38;5;124m.\u001B[39m\u001B[38;5;124m\"\u001B[39m, name), value)\n\u001B[1;32m    329\u001B[0m \u001B[38;5;28;01melse\u001B[39;00m:\n\u001B[1;32m    330\u001B[0m     \u001B[38;5;28;01mraise\u001B[39;00m Py4JError(\n\u001B[1;32m    331\u001B[0m         \u001B[38;5;124m\"\u001B[39m\u001B[38;5;124mAn error occurred while calling \u001B[39m\u001B[38;5;132;01m{0}\u001B[39;00m\u001B[38;5;132;01m{1}\u001B[39;00m\u001B[38;5;132;01m{2}\u001B[39;00m\u001B[38;5;124m. Trace:\u001B[39m\u001B[38;5;130;01m\\n\u001B[39;00m\u001B[38;5;132;01m{3}\u001B[39;00m\u001B[38;5;130;01m\\n\u001B[39;00m\u001B[38;5;124m\"\u001B[39m\u001B[38;5;241m.\u001B[39m\n\u001B[1;32m    332\u001B[0m         \u001B[38;5;28mformat\u001B[39m(target_id, \u001B[38;5;124m\"\u001B[39m\u001B[38;5;124m.\u001B[39m\u001B[38;5;124m\"\u001B[39m, name, value))\n",
      "\u001B[0;31mPy4JJavaError\u001B[0m: An error occurred while calling o888.run.\n: java.lang.OutOfMemoryError: Java heap space\n\tat java.base/java.lang.AbstractStringBuilder.<init>(AbstractStringBuilder.java:88)\n\tat java.base/java.lang.StringBuilder.<init>(StringBuilder.java:119)\n\tat org.apache.spark.sql.catalyst.util.StringConcat.toString(StringUtils.scala:62)\n\tat org.apache.spark.sql.catalyst.util.StringUtils$PlanStringConcat.toString(StringUtils.scala:152)\n\tat org.apache.spark.sql.execution.QueryExecution.explainString(QueryExecution.scala:254)\n\tat org.apache.spark.sql.execution.SQLExecution$.$anonfun$withNewExecutionId$6(SQLExecution.scala:117)\n\tat org.apache.spark.sql.execution.SQLExecution$$$Lambda$1801/0x00007fa42cb82030.apply(Unknown Source)\n\tat org.apache.spark.sql.execution.SQLExecution$.withSQLConfPropagated(SQLExecution.scala:201)\n\tat org.apache.spark.sql.execution.SQLExecution$.$anonfun$withNewExecutionId$1(SQLExecution.scala:108)\n\tat org.apache.spark.sql.execution.SQLExecution$$$Lambda$1791/0x00007fa42cb7ec60.apply(Unknown Source)\n\tat org.apache.spark.sql.SparkSession.withActive(SparkSession.scala:900)\n\tat org.apache.spark.sql.execution.SQLExecution$.withNewExecutionId(SQLExecution.scala:66)\n\tat org.apache.spark.sql.execution.QueryExecution$$anonfun$eagerlyExecuteCommands$1.applyOrElse(QueryExecution.scala:107)\n\tat org.apache.spark.sql.execution.QueryExecution$$anonfun$eagerlyExecuteCommands$1.applyOrElse(QueryExecution.scala:98)\n\tat org.apache.spark.sql.catalyst.trees.TreeNode.$anonfun$transformDownWithPruning$1(TreeNode.scala:461)\n\tat org.apache.spark.sql.catalyst.trees.TreeNode$$Lambda$1235/0x00007fa42c94f9c0.apply(Unknown Source)\n\tat org.apache.spark.sql.catalyst.trees.CurrentOrigin$.withOrigin(origin.scala:76)\n\tat org.apache.spark.sql.catalyst.trees.TreeNode.transformDownWithPruning(TreeNode.scala:461)\n\tat org.apache.spark.sql.catalyst.plans.logical.LogicalPlan.org$apache$spark$sql$catalyst$plans$logical$AnalysisHelper$$super$transformDownWithPruning(LogicalPlan.scala:32)\n\tat org.apache.spark.sql.catalyst.plans.logical.AnalysisHelper.transformDownWithPruning(AnalysisHelper.scala:267)\n\tat org.apache.spark.sql.catalyst.plans.logical.AnalysisHelper.transformDownWithPruning$(AnalysisHelper.scala:263)\n\tat org.apache.spark.sql.catalyst.plans.logical.LogicalPlan.transformDownWithPruning(LogicalPlan.scala:32)\n\tat org.apache.spark.sql.catalyst.plans.logical.LogicalPlan.transformDownWithPruning(LogicalPlan.scala:32)\n\tat org.apache.spark.sql.catalyst.trees.TreeNode.transformDown(TreeNode.scala:437)\n\tat org.apache.spark.sql.execution.QueryExecution.eagerlyExecuteCommands(QueryExecution.scala:98)\n\tat org.apache.spark.sql.execution.QueryExecution.commandExecuted$lzycompute(QueryExecution.scala:85)\n\tat org.apache.spark.sql.execution.QueryExecution.commandExecuted(QueryExecution.scala:83)\n\tat org.apache.spark.sql.execution.QueryExecution.assertCommandExecuted(QueryExecution.scala:142)\n\tat org.apache.spark.sql.DataFrameWriter.runCommand(DataFrameWriter.scala:869)\n\tat org.apache.spark.sql.DataFrameWriter.saveToV1Source(DataFrameWriter.scala:391)\n\tat org.apache.spark.sql.DataFrameWriter.saveInternal(DataFrameWriter.scala:364)\n\tat org.apache.spark.sql.DataFrameWriter.save(DataFrameWriter.scala:243)\n"
     ]
    }
   ],
   "execution_count": 23
  },
  {
   "metadata": {},
   "cell_type": "markdown",
   "source": "#### Strongly Connected Components",
   "id": "9a87c39b8071f29f"
  },
  {
   "metadata": {
    "ExecuteTime": {
     "end_time": "2025-02-21T20:11:48.781667Z",
     "start_time": "2025-02-21T20:11:34.834675Z"
    }
   },
   "cell_type": "code",
   "source": [
    "scc_results = graph.stronglyConnectedComponents(maxIter=10)\n",
    "scc_results.select(\"id\", \"component\").show()"
   ],
   "id": "27d2a4bf177f43b",
   "outputs": [
    {
     "name": "stderr",
     "output_type": "stream",
     "text": [
      "25/02/21 20:11:45 WARN AdminClientConfig: These configurations '[key.deserializer, value.deserializer, enable.auto.commit, max.poll.records, auto.offset.reset]' were supplied but are not used yet.\n",
      "25/02/21 20:11:46 WARN AdminClientConfig: These configurations '[key.deserializer, value.deserializer, enable.auto.commit, max.poll.records, auto.offset.reset]' were supplied but are not used yet.\n"
     ]
    },
    {
     "name": "stdout",
     "output_type": "stream",
     "text": [
      "+----+---------+\n",
      "|  id|component|\n",
      "+----+---------+\n",
      "|K2W6|        4|\n",
      "|KLNS|        4|\n",
      "|VG01|      402|\n",
      "|KTTN|        4|\n",
      "|MI77|      354|\n",
      "|KCOI|        4|\n",
      "|FL31|        4|\n",
      "|KCHD|       14|\n",
      "|KGEU|       14|\n",
      "|KOFP|        4|\n",
      "|KPDK|        4|\n",
      "|KORF|        4|\n",
      "|22FA|        4|\n",
      "|KVRB|        4|\n",
      "|LSZH|      146|\n",
      "|KSOP|        4|\n",
      "|KADS|      213|\n",
      "|KCLT|        4|\n",
      "|KGVL|        4|\n",
      "|KMKS|        4|\n",
      "+----+---------+\n",
      "only showing top 20 rows\n",
      "\n"
     ]
    },
    {
     "name": "stderr",
     "output_type": "stream",
     "text": [
      "                                                                                \r"
     ]
    }
   ],
   "execution_count": 24
  },
  {
   "metadata": {},
   "cell_type": "markdown",
   "source": "#### Triangle Count",
   "id": "69bbe3b2430dedaf"
  },
  {
   "metadata": {
    "ExecuteTime": {
     "end_time": "2025-02-21T20:11:54.974880Z",
     "start_time": "2025-02-21T20:11:48.788863Z"
    }
   },
   "cell_type": "code",
   "source": [
    "triangle_results = graph.triangleCount()\n",
    "triangle_results.select(\"id\", \"count\").show()"
   ],
   "id": "5fa6a27d127b40c8",
   "outputs": [
    {
     "name": "stderr",
     "output_type": "stream",
     "text": [
      "25/02/21 20:11:49 WARN AdminClientConfig: These configurations '[key.deserializer, value.deserializer, enable.auto.commit, max.poll.records, auto.offset.reset]' were supplied but are not used yet.\n",
      "25/02/21 20:11:49 WARN AdminClientConfig: These configurations '[key.deserializer, value.deserializer, enable.auto.commit, max.poll.records, auto.offset.reset]' were supplied but are not used yet.\n",
      "25/02/21 20:11:49 WARN AdminClientConfig: These configurations '[key.deserializer, value.deserializer, enable.auto.commit, max.poll.records, auto.offset.reset]' were supplied but are not used yet.\n",
      "25/02/21 20:11:49 WARN AdminClientConfig: These configurations '[key.deserializer, value.deserializer, enable.auto.commit, max.poll.records, auto.offset.reset]' were supplied but are not used yet.\n",
      "25/02/21 20:11:49 WARN AdminClientConfig: These configurations '[key.deserializer, value.deserializer, enable.auto.commit, max.poll.records, auto.offset.reset]' were supplied but are not used yet.\n",
      "25/02/21 20:11:49 WARN AdminClientConfig: These configurations '[key.deserializer, value.deserializer, enable.auto.commit, max.poll.records, auto.offset.reset]' were supplied but are not used yet.\n",
      "25/02/21 20:11:49 WARN AdminClientConfig: These configurations '[key.deserializer, value.deserializer, enable.auto.commit, max.poll.records, auto.offset.reset]' were supplied but are not used yet.\n",
      "25/02/21 20:11:49 WARN AdminClientConfig: These configurations '[key.deserializer, value.deserializer, enable.auto.commit, max.poll.records, auto.offset.reset]' were supplied but are not used yet.\n",
      "25/02/21 20:11:49 WARN AdminClientConfig: These configurations '[key.deserializer, value.deserializer, enable.auto.commit, max.poll.records, auto.offset.reset]' were supplied but are not used yet.\n",
      "25/02/21 20:11:49 WARN AdminClientConfig: These configurations '[key.deserializer, value.deserializer, enable.auto.commit, max.poll.records, auto.offset.reset]' were supplied but are not used yet.\n",
      "25/02/21 20:11:49 WARN AdminClientConfig: These configurations '[key.deserializer, value.deserializer, enable.auto.commit, max.poll.records, auto.offset.reset]' were supplied but are not used yet.\n",
      "25/02/21 20:11:49 WARN AdminClientConfig: These configurations '[key.deserializer, value.deserializer, enable.auto.commit, max.poll.records, auto.offset.reset]' were supplied but are not used yet.\n",
      "25/02/21 20:11:49 WARN AdminClientConfig: These configurations '[key.deserializer, value.deserializer, enable.auto.commit, max.poll.records, auto.offset.reset]' were supplied but are not used yet.\n",
      "25/02/21 20:11:49 WARN AdminClientConfig: These configurations '[key.deserializer, value.deserializer, enable.auto.commit, max.poll.records, auto.offset.reset]' were supplied but are not used yet.\n",
      "25/02/21 20:11:49 WARN AdminClientConfig: These configurations '[key.deserializer, value.deserializer, enable.auto.commit, max.poll.records, auto.offset.reset]' were supplied but are not used yet.\n",
      "25/02/21 20:11:49 WARN AdminClientConfig: These configurations '[key.deserializer, value.deserializer, enable.auto.commit, max.poll.records, auto.offset.reset]' were supplied but are not used yet.\n",
      "25/02/21 20:11:49 WARN AdminClientConfig: These configurations '[key.deserializer, value.deserializer, enable.auto.commit, max.poll.records, auto.offset.reset]' were supplied but are not used yet.\n",
      "25/02/21 20:11:49 WARN AdminClientConfig: These configurations '[key.deserializer, value.deserializer, enable.auto.commit, max.poll.records, auto.offset.reset]' were supplied but are not used yet.\n",
      "25/02/21 20:11:49 WARN AdminClientConfig: These configurations '[key.deserializer, value.deserializer, enable.auto.commit, max.poll.records, auto.offset.reset]' were supplied but are not used yet.\n",
      "25/02/21 20:11:49 WARN AdminClientConfig: These configurations '[key.deserializer, value.deserializer, enable.auto.commit, max.poll.records, auto.offset.reset]' were supplied but are not used yet.\n",
      "25/02/21 20:11:49 WARN AdminClientConfig: These configurations '[key.deserializer, value.deserializer, enable.auto.commit, max.poll.records, auto.offset.reset]' were supplied but are not used yet.\n",
      "25/02/21 20:11:49 WARN AdminClientConfig: These configurations '[key.deserializer, value.deserializer, enable.auto.commit, max.poll.records, auto.offset.reset]' were supplied but are not used yet.\n",
      "25/02/21 20:11:49 WARN AdminClientConfig: These configurations '[key.deserializer, value.deserializer, enable.auto.commit, max.poll.records, auto.offset.reset]' were supplied but are not used yet.\n",
      "                                                                                \r"
     ]
    },
    {
     "name": "stdout",
     "output_type": "stream",
     "text": [
      "+----+-----+\n",
      "|  id|count|\n",
      "+----+-----+\n",
      "|K2W6|    0|\n",
      "|KLNS|    5|\n",
      "|VG01|    0|\n",
      "|KTTN|    6|\n",
      "|MI77|    0|\n",
      "|KCOI|    8|\n",
      "|FL31|    2|\n",
      "|KCHD|   30|\n",
      "|KGEU|   32|\n",
      "|KOFP|    0|\n",
      "|KPDK|   13|\n",
      "|KORF|    3|\n",
      "|22FA|    5|\n",
      "|KVRB|    5|\n",
      "|LSZH|    2|\n",
      "|KSOP|    1|\n",
      "|KADS|   13|\n",
      "|KCLT|   32|\n",
      "|KGVL|    3|\n",
      "|KMKS|    1|\n",
      "+----+-----+\n",
      "only showing top 20 rows\n",
      "\n"
     ]
    }
   ],
   "execution_count": 25
  },
  {
   "metadata": {},
   "cell_type": "markdown",
   "source": "### Filtrer les données pour représentation",
   "id": "47d5ddf7737029ab"
  },
  {
   "metadata": {
    "ExecuteTime": {
     "end_time": "2025-02-21T20:11:59.239684Z",
     "start_time": "2025-02-21T20:11:55.015058Z"
    }
   },
   "cell_type": "code",
   "source": [
    "pagerank_df = pagerank_results.vertices.toPandas()\n",
    "edges_df = edges.toPandas()\n",
    "pagerank_dict = dict(zip(pagerank_df[\"id\"], pagerank_df[\"pagerank\"]))"
   ],
   "id": "e766d66539403c63",
   "outputs": [
    {
     "name": "stderr",
     "output_type": "stream",
     "text": [
      "25/02/21 20:11:55 WARN AdminClientConfig: These configurations '[key.deserializer, value.deserializer, enable.auto.commit, max.poll.records, auto.offset.reset]' were supplied but are not used yet.\n",
      "25/02/21 20:11:55 WARN AdminClientConfig: These configurations '[key.deserializer, value.deserializer, enable.auto.commit, max.poll.records, auto.offset.reset]' were supplied but are not used yet.\n",
      "25/02/21 20:11:57 WARN AdminClientConfig: These configurations '[key.deserializer, value.deserializer, enable.auto.commit, max.poll.records, auto.offset.reset]' were supplied but are not used yet.\n",
      "                                                                                \r"
     ]
    }
   ],
   "execution_count": 26
  },
  {
   "metadata": {
    "ExecuteTime": {
     "end_time": "2025-02-21T20:11:59.330247Z",
     "start_time": "2025-02-21T20:11:59.280714Z"
    }
   },
   "cell_type": "code",
   "source": [
    "# Définir un seuil pour afficher uniquement les hubs majeurs\n",
    "pagerank_threshold = pagerank_df[\"pagerank\"].quantile(0.90)  # Garde le top 10% des aéroports\n",
    "\n",
    "# Filtrer les nœuds et les arêtes\n",
    "important_nodes = pagerank_df[pagerank_df[\"pagerank\"] >= pagerank_threshold][\"id\"].tolist()\n",
    "edges_filtered = edges_df[edges_df[\"src\"].isin(important_nodes) & edges_df[\"dst\"].isin(important_nodes)]\n",
    "G_filtered = nx.DiGraph()\n",
    "for node in important_nodes:\n",
    "    G_filtered.add_node(node, pagerank=pagerank_dict[node])\n",
    "\n",
    "for _, row in edges_filtered.iterrows():\n",
    "    G_filtered.add_edge(row[\"src\"], row[\"dst\"])"
   ],
   "id": "cc37991eb79b907",
   "outputs": [],
   "execution_count": 27
  },
  {
   "metadata": {},
   "cell_type": "markdown",
   "source": "### Représentations Graphique",
   "id": "e3a245ae92362769"
  },
  {
   "metadata": {},
   "cell_type": "markdown",
   "source": "#### Bokeh",
   "id": "3a5d42c350df576"
  },
  {
   "metadata": {
    "ExecuteTime": {
     "end_time": "2025-02-21T20:11:59.368056Z",
     "start_time": "2025-02-21T20:11:59.362468Z"
    }
   },
   "cell_type": "code",
   "source": [
    "# output_notebook()  # Affichage dans le notebook\n",
    "\n",
    "output_file(\"air_traffic_graph_kawai.html\")  # Affichange dans une page web"
   ],
   "id": "97c5b16229bd229e",
   "outputs": [],
   "execution_count": 28
  },
  {
   "metadata": {
    "ExecuteTime": {
     "end_time": "2025-02-21T20:12:00.917101Z",
     "start_time": "2025-02-21T20:11:59.898709Z"
    }
   },
   "cell_type": "code",
   "source": "pos_atlas = nx.forceatlas2_layout(G_filtered)  #utile pour les gros graph mais lent évite l'overlapping",
   "id": "7e0eeb9bdca8566c",
   "outputs": [],
   "execution_count": 29
  },
  {
   "metadata": {
    "ExecuteTime": {
     "end_time": "2025-02-21T20:12:01.336258Z",
     "start_time": "2025-02-21T20:12:00.920581Z"
    }
   },
   "cell_type": "code",
   "source": "pos_spring = nx.spring_layout(G_filtered)  # rapide mais oberlapping pour gros graph",
   "id": "318a28ea58124d38",
   "outputs": [],
   "execution_count": 30
  },
  {
   "metadata": {
    "ExecuteTime": {
     "end_time": "2025-02-21T20:12:03.205682Z",
     "start_time": "2025-02-21T20:12:01.372659Z"
    }
   },
   "cell_type": "code",
   "source": "pos_kawai = nx.kamada_kawai_layout(G_filtered)  # pour graph bien spaced très lent attention présentation intéressante",
   "id": "2dcef9666904b423",
   "outputs": [],
   "execution_count": 31
  },
  {
   "metadata": {
    "ExecuteTime": {
     "end_time": "2025-02-21T20:12:03.689421Z",
     "start_time": "2025-02-21T20:12:03.259956Z"
    }
   },
   "cell_type": "code",
   "source": "pos_fr = nx.fruchterman_reingold_layout(G_filtered)  # large graph force directed on voit mieux les noeuds isolés",
   "id": "3e4da2dca2f7b3ad",
   "outputs": [],
   "execution_count": 32
  },
  {
   "metadata": {
    "ExecuteTime": {
     "end_time": "2025-02-21T20:12:03.727174Z",
     "start_time": "2025-02-21T20:12:03.724239Z"
    }
   },
   "cell_type": "code",
   "source": [
    "import builtins  # Import the built-in Python functions to avoid PySpark conflicts\n",
    "\n",
    "# Convert PageRank values to node sizes (force conversion to float)\n",
    "node_sizes = [float(pagerank_dict[node]) * 200 for node in G_filtered.nodes()]  # Scaling factor\n",
    "\n",
    "# Ensure `node_sizes` is a pure Python list\n",
    "node_sizes = [float(size) for size in node_sizes]\n",
    "\n",
    "# Use built-in Python `min()` and `max()` to avoid PySpark conflicts\n",
    "if isinstance(node_sizes, list) and len(node_sizes) > 0:\n",
    "    min_size = builtins.min(node_sizes)  # Force Python's `min()`\n",
    "    max_size = builtins.max(node_sizes)  # Force Python's `max()`\n",
    "else:\n",
    "    min_size, max_size = 5.0, 50.0  # Default values if list is empty"
   ],
   "id": "d40433386063800e",
   "outputs": [],
   "execution_count": 33
  },
  {
   "metadata": {
    "ExecuteTime": {
     "end_time": "2025-02-21T20:12:03.802147Z",
     "start_time": "2025-02-21T20:12:03.799898Z"
    }
   },
   "cell_type": "code",
   "source": [
    "# Scale node sizes for better visualization\n",
    "scaled_sizes = [\n",
    "    ((size - min_size) / (max_size - min_size)) * 30 + 5 for size in node_sizes\n",
    "] if max_size > min_size else [10] * len(node_sizes)  # Normalize between 5 and  35"
   ],
   "id": "ed7a755aa819a531",
   "outputs": [],
   "execution_count": 34
  },
  {
   "metadata": {
    "ExecuteTime": {
     "end_time": "2025-02-21T20:12:03.856328Z",
     "start_time": "2025-02-21T20:12:03.846565Z"
    }
   },
   "cell_type": "code",
   "source": [
    "node_data = ColumnDataSource(data={\n",
    "    \"index\": list(G_filtered.nodes()),  # Add node indices\n",
    "    \"size\": scaled_sizes\n",
    "})\n",
    "\n",
    "# Create the Bokeh graph\n",
    "plot = figure(title=\"Air Traffic Graph (Bokeh)\", x_range=(-1.5, 1.5), y_range=(-1.5, 1.5),\n",
    "              tools=\"pan,wheel_zoom,reset,save\", width=1920, height=1080)"
   ],
   "id": "6d0e349e3688625b",
   "outputs": [],
   "execution_count": 35
  },
  {
   "metadata": {
    "ExecuteTime": {
     "end_time": "2025-02-21T20:12:03.902891Z",
     "start_time": "2025-02-21T20:12:03.890831Z"
    }
   },
   "cell_type": "code",
   "source": [
    "graph_renderer = from_networkx(G_filtered, pos_kawai, scale=1, center=(0, 0))\n",
    "graph_renderer.node_renderer.data_source = node_data\n",
    "graph_renderer.node_renderer.glyph.size = \"size\"  # Taille de base\n",
    "# Apply color mapping correctly\n",
    "color_mapper = linear_cmap(field_name=\"size\", palette=Viridis256,\n",
    "                           low=builtins.min(scaled_sizes), high=builtins.max(scaled_sizes))\n",
    "\n",
    "# Ensure `fill_color` is properly applied to the glyph\n",
    "graph_renderer.node_renderer.glyph.fill_color = color_mapper\n",
    "\n",
    "# Ajout des arêtes (transparence pour meilleure lisibilité)\n",
    "graph_renderer.edge_renderer.glyph.line_alpha = 0.3\n"
   ],
   "id": "cfce3add076ddcf0",
   "outputs": [],
   "execution_count": 36
  },
  {
   "metadata": {
    "ExecuteTime": {
     "end_time": "2025-02-21T20:12:03.940414Z",
     "start_time": "2025-02-21T20:12:03.937965Z"
    }
   },
   "cell_type": "code",
   "source": [
    "# Ajout d’un outil interactif pour afficher le PageRank au survol\n",
    "tooltips = HoverTool(tooltips=[(\"Aéroport\", \"@index\"), (\"PageRank\", \"@size\")])\n",
    "plot.add_tools(tooltips)\n",
    "\n",
    "# Ajout du graphe à la figure\n",
    "plot.renderers.append(graph_renderer)\n"
   ],
   "id": "ef38488c8a8584ab",
   "outputs": [],
   "execution_count": 37
  },
  {
   "metadata": {
    "ExecuteTime": {
     "end_time": "2025-02-21T20:12:04.027663Z",
     "start_time": "2025-02-21T20:12:03.976922Z"
    }
   },
   "cell_type": "code",
   "source": [
    "# Affichage du graphe interactif\n",
    "show(plot)"
   ],
   "id": "749eb87ed301e732",
   "outputs": [],
   "execution_count": 38
  },
  {
   "metadata": {},
   "cell_type": "markdown",
   "source": "> Les plots sont enregistrés dans le container",
   "id": "55c81686bb0ba2c2"
  },
  {
   "metadata": {},
   "cell_type": "markdown",
   "source": "#### Matplotlib (Favoriser Bokeh car interractif et plus propre)",
   "id": "367ff96667450072"
  },
  {
   "metadata": {},
   "cell_type": "code",
   "outputs": [],
   "execution_count": null,
   "source": [
    "node_sizes_filtered = [pagerank_dict[node] * 3000 for node in G_filtered.nodes()]\n",
    "plt.figure(figsize=(12 * 10, 7 * 10))\n",
    "pos = nx.forceatlas2_layout(G_filtered)\n",
    "nx.draw(G_filtered, pos, with_labels=True, node_size=node_sizes_filtered, alpha=0.7)\n",
    "plt.title(\"Graphe des Connexions Aériennes (Top 10% PageRank)\")\n",
    "plt.show()"
   ],
   "id": "4f89a2ef1bcef013"
  },
  {
   "metadata": {},
   "cell_type": "code",
   "outputs": [],
   "execution_count": null,
   "source": [
    "# Dessin du graphe\n",
    "plt.figure(figsize=(12 * 10, 7 * 10))\n",
    "pos = nx.spring_layout(G_filtered, seed=42)\n",
    "nx.draw(G_filtered, pos, with_labels=True, node_size=node_sizes_filtered, alpha=0.7)\n",
    "plt.title(\"Graphe des Connexions Aériennes (Top 10% PageRank)\")\n",
    "plt.show()\n",
    "weight_threshold = edges_df[\"weight\"].quantile(0.80)  # Garde les 20% des connexions les plus fortes\n",
    "edges_strong = edges_df[edges_df[\"weight\"] >= weight_threshold]\n"
   ],
   "id": "9e109e448b4153a9"
  },
  {
   "metadata": {},
   "cell_type": "code",
   "outputs": [],
   "execution_count": null,
   "source": [
    "# Création du sous-graphe avec connexions fortes\n",
    "G_strong = nx.DiGraph()\n",
    "for _, row in edges_strong.iterrows():\n",
    "    G_strong.add_edge(row[\"src\"], row[\"dst\"], weight=row[\"weight\"])\n"
   ],
   "id": "efc1fb7fcbeb3611"
  },
  {
   "metadata": {},
   "cell_type": "code",
   "outputs": [],
   "execution_count": null,
   "source": [
    "# Taille des nœuds en fonction du PageRank\n",
    "node_sizes_strong = [pagerank_dict[node] * 3000 for node in G_strong.nodes()]"
   ],
   "id": "bb942612c7085350"
  },
  {
   "metadata": {},
   "cell_type": "code",
   "outputs": [],
   "execution_count": null,
   "source": [
    "# Dessin du graphe\n",
    "plt.figure(figsize=(12 * 5, 7 * 5))\n",
    "pos = nx.spring_layout(G_strong, seed=42)\n",
    "nx.draw(G_strong, pos, with_labels=True, node_size=node_sizes_strong, alpha=0.7)\n",
    "plt.title(\"Graphe des Connexions Aériennes (Routes les plus fréquentées)\")\n",
    "plt.show()"
   ],
   "id": "aa4c552324255030"
  }
 ],
 "metadata": {
  "kernelspec": {
   "display_name": "Python 3 (ipykernel)",
   "language": "python",
   "name": "python3"
  },
  "language_info": {
   "codemirror_mode": {
    "name": "ipython",
    "version": 3
   },
   "file_extension": ".py",
   "mimetype": "text/x-python",
   "name": "python",
   "nbconvert_exporter": "python",
   "pygments_lexer": "ipython3",
   "version": "3.12.8"
  }
 },
 "nbformat": 4,
 "nbformat_minor": 5
}
