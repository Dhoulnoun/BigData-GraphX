{
 "cells": [
  {
   "cell_type": "markdown",
   "id": "25c9d09e",
   "metadata": {},
   "source": [
    "### Import des données dans minio\n",
    "Penser a copier data dans le notebook :\n",
    "`docker cp data jupyter:/data`"
   ]
  },
  {
   "cell_type": "code",
   "execution_count": 3,
   "id": "5bbb5013",
   "metadata": {},
   "outputs": [
    {
     "name": "stdout",
     "output_type": "stream",
     "text": [
      "flight_sample_2022-09-01.csv  flight_sample_2022-09-16.csv\n",
      "flight_sample_2022-09-02.csv  flight_sample_2022-09-17.csv\n",
      "flight_sample_2022-09-03.csv  flight_sample_2022-09-18.csv\n",
      "flight_sample_2022-09-04.csv  flight_sample_2022-09-19.csv\n",
      "flight_sample_2022-09-05.csv  flight_sample_2022-09-20.csv\n",
      "flight_sample_2022-09-06.csv  flight_sample_2022-09-21.csv\n",
      "flight_sample_2022-09-07.csv  flight_sample_2022-09-22.csv\n",
      "flight_sample_2022-09-08.csv  flight_sample_2022-09-23.csv\n",
      "flight_sample_2022-09-09.csv  flight_sample_2022-09-24.csv\n",
      "flight_sample_2022-09-10.csv  flight_sample_2022-09-25.csv\n",
      "flight_sample_2022-09-11.csv  flight_sample_2022-09-26.csv\n",
      "flight_sample_2022-09-12.csv  flight_sample_2022-09-27.csv\n",
      "flight_sample_2022-09-13.csv  flight_sample_2022-09-28.csv\n",
      "flight_sample_2022-09-14.csv  flight_sample_2022-09-29.csv\n",
      "flight_sample_2022-09-15.csv  flight_sample_2022-09-30.csv\n"
     ]
    }
   ],
   "source": [
    "!ls /data"
   ]
  },
  {
   "cell_type": "code",
   "execution_count": 4,
   "id": "27309c67",
   "metadata": {},
   "outputs": [],
   "source": [
    "from minio import Minio\n",
    "\n",
    "minio_ip_address = \"minio\"\n",
    "\n",
    "client_minio = Minio(\n",
    "    f\"{minio_ip_address}:9000\",\n",
    "    access_key=\"root\",\n",
    "    secret_key=\"password\",\n",
    "    secure=False\n",
    ")\n",
    "\n",
    "# Création du bucket tp6\n",
    "if client_minio.bucket_exists(\"projet\") == False:\n",
    "    client_minio.make_bucket(\"projet\")\n",
    "\n"
   ]
  },
  {
   "cell_type": "code",
   "execution_count": 5,
   "id": "5a481664",
   "metadata": {},
   "outputs": [
    {
     "name": "stdout",
     "output_type": "stream",
     "text": [
      "data/flight_sample_2022-09-01.csv\n",
      "data/flight_sample_2022-09-02.csv\n",
      "data/flight_sample_2022-09-03.csv\n",
      "data/flight_sample_2022-09-04.csv\n",
      "data/flight_sample_2022-09-05.csv\n",
      "data/flight_sample_2022-09-06.csv\n",
      "data/flight_sample_2022-09-07.csv\n",
      "data/flight_sample_2022-09-08.csv\n",
      "data/flight_sample_2022-09-09.csv\n",
      "data/flight_sample_2022-09-10.csv\n",
      "data/flight_sample_2022-09-11.csv\n",
      "data/flight_sample_2022-09-12.csv\n",
      "data/flight_sample_2022-09-13.csv\n",
      "data/flight_sample_2022-09-14.csv\n",
      "data/flight_sample_2022-09-15.csv\n",
      "data/flight_sample_2022-09-16.csv\n",
      "data/flight_sample_2022-09-17.csv\n",
      "data/flight_sample_2022-09-18.csv\n",
      "data/flight_sample_2022-09-19.csv\n",
      "data/flight_sample_2022-09-20.csv\n",
      "data/flight_sample_2022-09-21.csv\n",
      "data/flight_sample_2022-09-22.csv\n",
      "data/flight_sample_2022-09-23.csv\n",
      "data/flight_sample_2022-09-24.csv\n",
      "data/flight_sample_2022-09-25.csv\n",
      "data/flight_sample_2022-09-26.csv\n",
      "data/flight_sample_2022-09-27.csv\n",
      "data/flight_sample_2022-09-28.csv\n",
      "data/flight_sample_2022-09-29.csv\n",
      "data/flight_sample_2022-09-30.csv\n"
     ]
    }
   ],
   "source": [
    "import os\n",
    "\n",
    "# Importer les données dans minio\n",
    "for root, dirs, files in os.walk(\"/data\"):\n",
    "    for file in files:\n",
    "        local_file_path = os.path.join(root, file)\n",
    "        minio_file_path = os.path.join(\"data\", file)\n",
    "        client_minio.fput_object(\"projet\", minio_file_path, local_file_path)\n",
    "\n",
    "# Afficher les fichiers présents dans minio\n",
    "objects = client_minio.list_objects('projet', prefix='data/', recursive=True)\n",
    "\n",
    "for obj in objects:\n",
    "    print(obj.object_name)"
   ]
  },
  {
   "cell_type": "markdown",
   "id": "b09fb41a",
   "metadata": {},
   "source": [
    "### Effectuer une requête à l'aide de SparkSQL"
   ]
  },
  {
   "cell_type": "code",
   "execution_count": 6,
   "id": "327b1ad2",
   "metadata": {},
   "outputs": [
    {
     "name": "stdout",
     "output_type": "stream",
     "text": [
      ":: loading settings :: url = jar:file:/opt/conda/lib/python3.12/site-packages/pyspark/jars/ivy-2.5.1.jar!/org/apache/ivy/core/settings/ivysettings.xml\n"
     ]
    },
    {
     "name": "stderr",
     "output_type": "stream",
     "text": [
      "Ivy Default Cache set to: /home/jovyan/.ivy2/cache\n",
      "The jars for the packages stored in: /home/jovyan/.ivy2/jars\n",
      "org.apache.hadoop#hadoop-aws added as a dependency\n",
      ":: resolving dependencies :: org.apache.spark#spark-submit-parent-dd83fd72-57eb-41c1-b563-f85d9b4ee854;1.0\n",
      "\tconfs: [default]\n",
      "\tfound org.apache.hadoop#hadoop-aws;3.3.4 in central\n",
      "\tfound com.amazonaws#aws-java-sdk-bundle;1.12.262 in central\n",
      "\tfound org.wildfly.openssl#wildfly-openssl;1.0.7.Final in central\n",
      "downloading https://repo1.maven.org/maven2/org/apache/hadoop/hadoop-aws/3.3.4/hadoop-aws-3.3.4.jar ...\n",
      "\t[SUCCESSFUL ] org.apache.hadoop#hadoop-aws;3.3.4!hadoop-aws.jar (587ms)\n",
      "downloading https://repo1.maven.org/maven2/com/amazonaws/aws-java-sdk-bundle/1.12.262/aws-java-sdk-bundle-1.12.262.jar ...\n",
      "\t[SUCCESSFUL ] com.amazonaws#aws-java-sdk-bundle;1.12.262!aws-java-sdk-bundle.jar (47774ms)\n",
      "downloading https://repo1.maven.org/maven2/org/wildfly/openssl/wildfly-openssl/1.0.7.Final/wildfly-openssl-1.0.7.Final.jar ...\n",
      "\t[SUCCESSFUL ] org.wildfly.openssl#wildfly-openssl;1.0.7.Final!wildfly-openssl.jar (207ms)\n",
      ":: resolution report :: resolve 7853ms :: artifacts dl 48599ms\n",
      "\t:: modules in use:\n",
      "\tcom.amazonaws#aws-java-sdk-bundle;1.12.262 from central in [default]\n",
      "\torg.apache.hadoop#hadoop-aws;3.3.4 from central in [default]\n",
      "\torg.wildfly.openssl#wildfly-openssl;1.0.7.Final from central in [default]\n",
      "\t---------------------------------------------------------------------\n",
      "\t|                  |            modules            ||   artifacts   |\n",
      "\t|       conf       | number| search|dwnlded|evicted|| number|dwnlded|\n",
      "\t---------------------------------------------------------------------\n",
      "\t|      default     |   3   |   3   |   3   |   0   ||   3   |   3   |\n",
      "\t---------------------------------------------------------------------\n",
      ":: retrieving :: org.apache.spark#spark-submit-parent-dd83fd72-57eb-41c1-b563-f85d9b4ee854\n",
      "\tconfs: [default]\n",
      "\t3 artifacts copied, 0 already retrieved (275421kB/4751ms)\n",
      "25/02/14 12:47:22 WARN NativeCodeLoader: Unable to load native-hadoop library for your platform... using builtin-java classes where applicable\n",
      "Setting default log level to \"WARN\".\n",
      "To adjust logging level use sc.setLogLevel(newLevel). For SparkR, use setLogLevel(newLevel).\n",
      "/opt/conda/lib/python3.12/site-packages/pyspark/sql/context.py:113: FutureWarning: Deprecated in 3.0.0. Use SparkSession.builder.getOrCreate() instead.\n",
      "  warnings.warn(\n"
     ]
    }
   ],
   "source": [
    "### Configuration Mac : utilisation de notebook Jupyter\n",
    "\n",
    "from pyspark import SparkContext, SparkConf\n",
    "\n",
    "conf = SparkConf() \\\n",
    "    .setAppName('SparkApp') \\\n",
    "    .setMaster('spark://spark:7077') \\\n",
    "    .set(\"spark.jars.packages\", \"org.apache.hadoop:hadoop-aws:3.3.4\") \\\n",
    "    .set(\"spark.sql.shuffle.partitions\", \"10\")\n",
    "\n",
    "\n",
    "sc = SparkContext.getOrCreate(conf=conf)\n",
    "\n",
    "from pyspark.sql import SQLContext\n",
    "# Créer un SQLContext pour les opérations SQL\n",
    "sql_context = SQLContext(sc)"
   ]
  },
  {
   "cell_type": "code",
   "execution_count": 9,
   "id": "ca77c7c6",
   "metadata": {},
   "outputs": [],
   "source": [
    "sc._jsc.hadoopConfiguration().set(\"fs.s3a.endpoint\", f\"http://{minio_ip_address}:9000\")\n",
    "sc._jsc.hadoopConfiguration().set(\"fs.s3a.access.key\", \"root\")\n",
    "sc._jsc.hadoopConfiguration().set(\"fs.s3a.secret.key\", \"password\")\n",
    "sc._jsc.hadoopConfiguration().set(\"fs.s3a.path.style.access\", \"true\")\n",
    "sc._jsc.hadoopConfiguration().set(\"fs.s3a.impl\", \"org.apache.hadoop.fs.s3a.S3AFileSystem\")\n",
    "sc._jsc.hadoopConfiguration().set(\"fs.s3a.connection.ssl.enabled\", \"false\")\n"
   ]
  },
  {
   "cell_type": "code",
   "execution_count": 19,
   "id": "299b2829",
   "metadata": {},
   "outputs": [],
   "source": [
    "from pyspark.sql.functions import explode, split, col\n",
    "\n",
    "# Définir la source (le répertoire \"data\" contenant les fichiers csv)\n",
    "input_dir = \"s3a://projet/data\"  # Répertoire de surveillance\n",
    "\n",
    "# Lire les fichiers CSV en tant que DataFrame statique\n",
    "df = sql_context.read.format(\"csv\").option(\"header\", \"true\").load(input_dir)\n"
   ]
  },
  {
   "cell_type": "code",
   "execution_count": 20,
   "id": "6559b641",
   "metadata": {},
   "outputs": [
    {
     "name": "stderr",
     "output_type": "stream",
     "text": [
      "[Stage 10:======================================>                   (2 + 1) / 3]\r"
     ]
    },
    {
     "name": "stdout",
     "output_type": "stream",
     "text": [
      "+------------------+--------------------+-----+\n",
      "|airportofdeparture|airportofdestination|count|\n",
      "+------------------+--------------------+-----+\n",
      "|              LFBO|                LFPO|  542|\n",
      "|              LEPA|                LEIB|  455|\n",
      "|              ENVA|                ENGM|  391|\n",
      "|              EDDB|                EDDF|  366|\n",
      "|              ENZV|                ENGM|  356|\n",
      "+------------------+--------------------+-----+\n",
      "\n"
     ]
    },
    {
     "name": "stderr",
     "output_type": "stream",
     "text": [
      "                                                                                \r"
     ]
    }
   ],
   "source": [
    "# Enregistrer le DataFrame en tant que table temporaire\n",
    "df.createOrReplaceTempView(\"flights\")\n",
    "\n",
    "# Top 5 de la correspondance la plus fréquente\n",
    "query = \"\"\"\n",
    "SELECT airportofdeparture, airportofdestination, COUNT(*) as count\n",
    "FROM flights\n",
    "WHERE airportofdeparture IS NOT NULL AND airportofdestination IS NOT NULL\n",
    "GROUP BY airportofdeparture, airportofdestination\n",
    "ORDER BY count DESC\n",
    "LIMIT 5\n",
    "\"\"\"\n",
    "\n",
    "top_5_couples = sql_context.sql(query)\n",
    "\n",
    "# Afficher les résultats\n",
    "top_5_couples.show()"
   ]
  },
  {
   "cell_type": "code",
   "execution_count": 23,
   "id": "1b2c9939",
   "metadata": {},
   "outputs": [
    {
     "name": "stderr",
     "output_type": "stream",
     "text": [
      "                                                                                \r"
     ]
    },
    {
     "name": "stdout",
     "output_type": "stream",
     "text": [
      "+--------+--------+-----+\n",
      "|airport1|airport2|count|\n",
      "+--------+--------+-----+\n",
      "|    LFBO|    LFPO|  891|\n",
      "|    LEIB|    LEPA|  762|\n",
      "|    EDDH|    EDDM|  636|\n",
      "|    LEBL|    LEMD|  614|\n",
      "|    EHAM|    LEBL|  602|\n",
      "+--------+--------+-----+\n",
      "\n"
     ]
    }
   ],
   "source": [
    "# Enregistrer le DataFrame en tant que table temporaire\n",
    "df.createOrReplaceTempView(\"flights\")\n",
    "\n",
    "# Top 5 de la route la plus fréquente\n",
    "query = \"\"\"\n",
    "SELECT \n",
    "    CASE \n",
    "        WHEN airportofdeparture < airportofdestination THEN airportofdeparture \n",
    "        ELSE airportofdestination \n",
    "    END as airport1,\n",
    "    CASE \n",
    "        WHEN airportofdeparture < airportofdestination THEN airportofdestination \n",
    "        ELSE airportofdeparture \n",
    "    END as airport2,\n",
    "    COUNT(*) as count\n",
    "FROM flights\n",
    "WHERE airportofdeparture IS NOT NULL AND airportofdestination IS NOT NULL\n",
    "GROUP BY airport1, airport2\n",
    "ORDER BY count DESC\n",
    "LIMIT 5\n",
    "\"\"\"\n",
    "\n",
    "top_connected_airports = sql_context.sql(query)\n",
    "\n",
    "# Afficher les résultats\n",
    "top_connected_airports.show()"
   ]
  },
  {
   "metadata": {},
   "cell_type": "markdown",
   "source": "#### Partie 4",
   "id": "69607d8d641ca9a3"
  },
  {
   "metadata": {
    "ExecuteTime": {
     "end_time": "2025-02-14T16:01:45.390458Z",
     "start_time": "2025-02-14T16:01:45.043385Z"
    }
   },
   "cell_type": "code",
   "source": [
    "from kafka import KafkaProducer\n",
    "import requests\n",
    "import json\n",
    "import time\n",
    "\n",
    "\n",
    "OPENSKY_URL = \"https://opensky-network.org/api/states/all\"\n",
    "USERNAME = 'NaguiFanAccount'\n",
    "PASSWORD = 'votre_mot_de_passe'\n",
    "\n",
    "# Configuration de Kafka\n",
    "KAFKA_BROKER = 'localhost:9092'  # À adapter selon ton environnement\n",
    "TOPIC = 'opensky-flights'\n",
    "\n",
    "# Création du producteur Kafka\n",
    "producer = KafkaProducer(\n",
    "    bootstrap_servers=[KAFKA_BROKER],\n",
    "    value_serializer=lambda x: json.dumps(x).encode('utf-8')\n",
    ")\n",
    "\n",
    "def fetch_opensky_data():\n",
    "    try:\n",
    "        response = requests.get(OPENSKY_URL, auth=(USERNAME, PASSWORD))\n",
    "        if response.status_code == 200:\n",
    "            data = response.json()\n",
    "            return data['states']\n",
    "        else:\n",
    "            print(\"Erreur lors de la récupération des données :\", response.status_code)\n",
    "            return None\n",
    "    except Exception as e:\n",
    "        print(\"Exception :\", e)\n",
    "        return None\n",
    "\n",
    "if __name__ == \"__main__\":\n",
    "    while True:\n",
    "        flights_data = fetch_opensky_data()\n",
    "        if flights_data:\n",
    "            for flight in flights_data:\n",
    "                # Envoyer chaque vol à Kafka\n",
    "                producer.send(TOPIC, value=flight)\n",
    "                print(\"Donnée envoyée :\", flight)\n",
    "\n",
    "        time.sleep(60)  # Pause de 60 secondes entre chaque collecte pour respecter le rate limit\n"
   ],
   "id": "a392c1603885cd43",
   "outputs": [
    {
     "ename": "NoBrokersAvailable",
     "evalue": "NoBrokersAvailable",
     "output_type": "error",
     "traceback": [
      "\u001B[0;31m---------------------------------------------------------------------------\u001B[0m",
      "\u001B[0;31mNoBrokersAvailable\u001B[0m                        Traceback (most recent call last)",
      "Cell \u001B[0;32mIn[15], line 16\u001B[0m\n\u001B[1;32m     13\u001B[0m TOPIC \u001B[38;5;241m=\u001B[39m \u001B[38;5;124m'\u001B[39m\u001B[38;5;124mopensky-flights\u001B[39m\u001B[38;5;124m'\u001B[39m\n\u001B[1;32m     15\u001B[0m \u001B[38;5;66;03m# Création du producteur Kafka\u001B[39;00m\n\u001B[0;32m---> 16\u001B[0m producer \u001B[38;5;241m=\u001B[39m \u001B[43mKafkaProducer\u001B[49m\u001B[43m(\u001B[49m\n\u001B[1;32m     17\u001B[0m \u001B[43m    \u001B[49m\u001B[43mbootstrap_servers\u001B[49m\u001B[38;5;241;43m=\u001B[39;49m\u001B[43m[\u001B[49m\u001B[43mKAFKA_BROKER\u001B[49m\u001B[43m]\u001B[49m\u001B[43m,\u001B[49m\n\u001B[1;32m     18\u001B[0m \u001B[43m    \u001B[49m\u001B[43mvalue_serializer\u001B[49m\u001B[38;5;241;43m=\u001B[39;49m\u001B[38;5;28;43;01mlambda\u001B[39;49;00m\u001B[43m \u001B[49m\u001B[43mx\u001B[49m\u001B[43m:\u001B[49m\u001B[43m \u001B[49m\u001B[43mjson\u001B[49m\u001B[38;5;241;43m.\u001B[39;49m\u001B[43mdumps\u001B[49m\u001B[43m(\u001B[49m\u001B[43mx\u001B[49m\u001B[43m)\u001B[49m\u001B[38;5;241;43m.\u001B[39;49m\u001B[43mencode\u001B[49m\u001B[43m(\u001B[49m\u001B[38;5;124;43m'\u001B[39;49m\u001B[38;5;124;43mutf-8\u001B[39;49m\u001B[38;5;124;43m'\u001B[39;49m\u001B[43m)\u001B[49m\n\u001B[1;32m     19\u001B[0m \u001B[43m)\u001B[49m\n\u001B[1;32m     21\u001B[0m \u001B[38;5;28;01mdef\u001B[39;00m\u001B[38;5;250m \u001B[39m\u001B[38;5;21mfetch_opensky_data\u001B[39m():\n\u001B[1;32m     22\u001B[0m     \u001B[38;5;28;01mtry\u001B[39;00m:\n",
      "File \u001B[0;32m/opt/conda/lib/python3.12/site-packages/kafka/producer/kafka.py:383\u001B[0m, in \u001B[0;36mKafkaProducer.__init__\u001B[0;34m(self, **configs)\u001B[0m\n\u001B[1;32m    380\u001B[0m reporters \u001B[38;5;241m=\u001B[39m [reporter() \u001B[38;5;28;01mfor\u001B[39;00m reporter \u001B[38;5;129;01min\u001B[39;00m \u001B[38;5;28mself\u001B[39m\u001B[38;5;241m.\u001B[39mconfig[\u001B[38;5;124m'\u001B[39m\u001B[38;5;124mmetric_reporters\u001B[39m\u001B[38;5;124m'\u001B[39m]]\n\u001B[1;32m    381\u001B[0m \u001B[38;5;28mself\u001B[39m\u001B[38;5;241m.\u001B[39m_metrics \u001B[38;5;241m=\u001B[39m Metrics(metric_config, reporters)\n\u001B[0;32m--> 383\u001B[0m client \u001B[38;5;241m=\u001B[39m \u001B[38;5;28;43mself\u001B[39;49m\u001B[38;5;241;43m.\u001B[39;49m\u001B[43mconfig\u001B[49m\u001B[43m[\u001B[49m\u001B[38;5;124;43m'\u001B[39;49m\u001B[38;5;124;43mkafka_client\u001B[39;49m\u001B[38;5;124;43m'\u001B[39;49m\u001B[43m]\u001B[49m\u001B[43m(\u001B[49m\n\u001B[1;32m    384\u001B[0m \u001B[43m    \u001B[49m\u001B[43mmetrics\u001B[49m\u001B[38;5;241;43m=\u001B[39;49m\u001B[38;5;28;43mself\u001B[39;49m\u001B[38;5;241;43m.\u001B[39;49m\u001B[43m_metrics\u001B[49m\u001B[43m,\u001B[49m\u001B[43m \u001B[49m\u001B[43mmetric_group_prefix\u001B[49m\u001B[38;5;241;43m=\u001B[39;49m\u001B[38;5;124;43m'\u001B[39;49m\u001B[38;5;124;43mproducer\u001B[39;49m\u001B[38;5;124;43m'\u001B[39;49m\u001B[43m,\u001B[49m\n\u001B[1;32m    385\u001B[0m \u001B[43m    \u001B[49m\u001B[43mwakeup_timeout_ms\u001B[49m\u001B[38;5;241;43m=\u001B[39;49m\u001B[38;5;28;43mself\u001B[39;49m\u001B[38;5;241;43m.\u001B[39;49m\u001B[43mconfig\u001B[49m\u001B[43m[\u001B[49m\u001B[38;5;124;43m'\u001B[39;49m\u001B[38;5;124;43mmax_block_ms\u001B[39;49m\u001B[38;5;124;43m'\u001B[39;49m\u001B[43m]\u001B[49m\u001B[43m,\u001B[49m\n\u001B[1;32m    386\u001B[0m \u001B[43m    \u001B[49m\u001B[38;5;241;43m*\u001B[39;49m\u001B[38;5;241;43m*\u001B[39;49m\u001B[38;5;28;43mself\u001B[39;49m\u001B[38;5;241;43m.\u001B[39;49m\u001B[43mconfig\u001B[49m\u001B[43m)\u001B[49m\n\u001B[1;32m    388\u001B[0m \u001B[38;5;66;03m# Get auto-discovered version from client if necessary\u001B[39;00m\n\u001B[1;32m    389\u001B[0m \u001B[38;5;28;01mif\u001B[39;00m \u001B[38;5;28mself\u001B[39m\u001B[38;5;241m.\u001B[39mconfig[\u001B[38;5;124m'\u001B[39m\u001B[38;5;124mapi_version\u001B[39m\u001B[38;5;124m'\u001B[39m] \u001B[38;5;129;01mis\u001B[39;00m \u001B[38;5;28;01mNone\u001B[39;00m:\n",
      "File \u001B[0;32m/opt/conda/lib/python3.12/site-packages/kafka/client_async.py:244\u001B[0m, in \u001B[0;36mKafkaClient.__init__\u001B[0;34m(self, **configs)\u001B[0m\n\u001B[1;32m    242\u001B[0m \u001B[38;5;28;01mif\u001B[39;00m \u001B[38;5;28mself\u001B[39m\u001B[38;5;241m.\u001B[39mconfig[\u001B[38;5;124m'\u001B[39m\u001B[38;5;124mapi_version\u001B[39m\u001B[38;5;124m'\u001B[39m] \u001B[38;5;129;01mis\u001B[39;00m \u001B[38;5;28;01mNone\u001B[39;00m:\n\u001B[1;32m    243\u001B[0m     check_timeout \u001B[38;5;241m=\u001B[39m \u001B[38;5;28mself\u001B[39m\u001B[38;5;241m.\u001B[39mconfig[\u001B[38;5;124m'\u001B[39m\u001B[38;5;124mapi_version_auto_timeout_ms\u001B[39m\u001B[38;5;124m'\u001B[39m] \u001B[38;5;241m/\u001B[39m \u001B[38;5;241m1000\u001B[39m\n\u001B[0;32m--> 244\u001B[0m     \u001B[38;5;28mself\u001B[39m\u001B[38;5;241m.\u001B[39mconfig[\u001B[38;5;124m'\u001B[39m\u001B[38;5;124mapi_version\u001B[39m\u001B[38;5;124m'\u001B[39m] \u001B[38;5;241m=\u001B[39m \u001B[38;5;28;43mself\u001B[39;49m\u001B[38;5;241;43m.\u001B[39;49m\u001B[43mcheck_version\u001B[49m\u001B[43m(\u001B[49m\u001B[43mtimeout\u001B[49m\u001B[38;5;241;43m=\u001B[39;49m\u001B[43mcheck_timeout\u001B[49m\u001B[43m)\u001B[49m\n",
      "File \u001B[0;32m/opt/conda/lib/python3.12/site-packages/kafka/client_async.py:900\u001B[0m, in \u001B[0;36mKafkaClient.check_version\u001B[0;34m(self, node_id, timeout, strict)\u001B[0m\n\u001B[1;32m    898\u001B[0m \u001B[38;5;28;01mif\u001B[39;00m try_node \u001B[38;5;129;01mis\u001B[39;00m \u001B[38;5;28;01mNone\u001B[39;00m:\n\u001B[1;32m    899\u001B[0m     \u001B[38;5;28mself\u001B[39m\u001B[38;5;241m.\u001B[39m_lock\u001B[38;5;241m.\u001B[39mrelease()\n\u001B[0;32m--> 900\u001B[0m     \u001B[38;5;28;01mraise\u001B[39;00m Errors\u001B[38;5;241m.\u001B[39mNoBrokersAvailable()\n\u001B[1;32m    901\u001B[0m \u001B[38;5;28mself\u001B[39m\u001B[38;5;241m.\u001B[39m_maybe_connect(try_node)\n\u001B[1;32m    902\u001B[0m conn \u001B[38;5;241m=\u001B[39m \u001B[38;5;28mself\u001B[39m\u001B[38;5;241m.\u001B[39m_conns[try_node]\n",
      "\u001B[0;31mNoBrokersAvailable\u001B[0m: NoBrokersAvailable"
     ]
    }
   ],
   "execution_count": 15
  }
 ],
 "metadata": {
  "kernelspec": {
   "display_name": "Python 3 (ipykernel)",
   "language": "python",
   "name": "python3"
  },
  "language_info": {
   "codemirror_mode": {
    "name": "ipython",
    "version": 3
   },
   "file_extension": ".py",
   "mimetype": "text/x-python",
   "name": "python",
   "nbconvert_exporter": "python",
   "pygments_lexer": "ipython3",
   "version": "3.12.8"
  }
 },
 "nbformat": 4,
 "nbformat_minor": 5
}
