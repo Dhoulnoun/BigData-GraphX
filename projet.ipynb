{
 "cells": [
  {
   "cell_type": "markdown",
   "id": "25c9d09e",
   "metadata": {},
   "source": [
    "### Import des données dans minio\n",
    "Penser a copier data dans le notebook :\n",
    "`docker cp data jupyter:/data`"
   ]
  },
  {
   "cell_type": "code",
   "execution_count": 3,
   "id": "5bbb5013",
   "metadata": {},
   "outputs": [
    {
     "name": "stdout",
     "output_type": "stream",
     "text": [
      "flight_sample_2022-09-01.csv  flight_sample_2022-09-16.csv\n",
      "flight_sample_2022-09-02.csv  flight_sample_2022-09-17.csv\n",
      "flight_sample_2022-09-03.csv  flight_sample_2022-09-18.csv\n",
      "flight_sample_2022-09-04.csv  flight_sample_2022-09-19.csv\n",
      "flight_sample_2022-09-05.csv  flight_sample_2022-09-20.csv\n",
      "flight_sample_2022-09-06.csv  flight_sample_2022-09-21.csv\n",
      "flight_sample_2022-09-07.csv  flight_sample_2022-09-22.csv\n",
      "flight_sample_2022-09-08.csv  flight_sample_2022-09-23.csv\n",
      "flight_sample_2022-09-09.csv  flight_sample_2022-09-24.csv\n",
      "flight_sample_2022-09-10.csv  flight_sample_2022-09-25.csv\n",
      "flight_sample_2022-09-11.csv  flight_sample_2022-09-26.csv\n",
      "flight_sample_2022-09-12.csv  flight_sample_2022-09-27.csv\n",
      "flight_sample_2022-09-13.csv  flight_sample_2022-09-28.csv\n",
      "flight_sample_2022-09-14.csv  flight_sample_2022-09-29.csv\n",
      "flight_sample_2022-09-15.csv  flight_sample_2022-09-30.csv\n"
     ]
    }
   ],
   "source": [
    "!ls /data"
   ]
  },
  {
   "cell_type": "code",
   "execution_count": 4,
   "id": "27309c67",
   "metadata": {},
   "outputs": [],
   "source": [
    "from minio import Minio\n",
    "\n",
    "minio_ip_address = \"minio\"\n",
    "\n",
    "client_minio = Minio(\n",
    "    f\"{minio_ip_address}:9000\",\n",
    "    access_key=\"root\",\n",
    "    secret_key=\"password\",\n",
    "    secure=False\n",
    ")\n",
    "\n",
    "# Création du bucket tp6\n",
    "if client_minio.bucket_exists(\"projet\") == False:\n",
    "    client_minio.make_bucket(\"projet\")\n",
    "\n"
   ]
  },
  {
   "cell_type": "code",
   "execution_count": 5,
   "id": "5a481664",
   "metadata": {},
   "outputs": [
    {
     "name": "stdout",
     "output_type": "stream",
     "text": [
      "data/flight_sample_2022-09-01.csv\n",
      "data/flight_sample_2022-09-02.csv\n",
      "data/flight_sample_2022-09-03.csv\n",
      "data/flight_sample_2022-09-04.csv\n",
      "data/flight_sample_2022-09-05.csv\n",
      "data/flight_sample_2022-09-06.csv\n",
      "data/flight_sample_2022-09-07.csv\n",
      "data/flight_sample_2022-09-08.csv\n",
      "data/flight_sample_2022-09-09.csv\n",
      "data/flight_sample_2022-09-10.csv\n",
      "data/flight_sample_2022-09-11.csv\n",
      "data/flight_sample_2022-09-12.csv\n",
      "data/flight_sample_2022-09-13.csv\n",
      "data/flight_sample_2022-09-14.csv\n",
      "data/flight_sample_2022-09-15.csv\n",
      "data/flight_sample_2022-09-16.csv\n",
      "data/flight_sample_2022-09-17.csv\n",
      "data/flight_sample_2022-09-18.csv\n",
      "data/flight_sample_2022-09-19.csv\n",
      "data/flight_sample_2022-09-20.csv\n",
      "data/flight_sample_2022-09-21.csv\n",
      "data/flight_sample_2022-09-22.csv\n",
      "data/flight_sample_2022-09-23.csv\n",
      "data/flight_sample_2022-09-24.csv\n",
      "data/flight_sample_2022-09-25.csv\n",
      "data/flight_sample_2022-09-26.csv\n",
      "data/flight_sample_2022-09-27.csv\n",
      "data/flight_sample_2022-09-28.csv\n",
      "data/flight_sample_2022-09-29.csv\n",
      "data/flight_sample_2022-09-30.csv\n"
     ]
    }
   ],
   "source": [
    "import os\n",
    "\n",
    "# Importer les données dans minio\n",
    "for root, dirs, files in os.walk(\"/data\"):\n",
    "    for file in files:\n",
    "        local_file_path = os.path.join(root, file)\n",
    "        minio_file_path = os.path.join(\"data\", file)\n",
    "        client_minio.fput_object(\"projet\", minio_file_path, local_file_path)\n",
    "\n",
    "# Afficher les fichiers présents dans minio\n",
    "objects = client_minio.list_objects('projet', prefix='data/', recursive=True)\n",
    "\n",
    "for obj in objects:\n",
    "    print(obj.object_name)"
   ]
  },
  {
   "cell_type": "markdown",
   "id": "b09fb41a",
   "metadata": {},
   "source": [
    "### Effectuer une requête à l'aide de SparkSQL"
   ]
  },
  {
   "cell_type": "code",
   "execution_count": 6,
   "id": "327b1ad2",
   "metadata": {},
   "outputs": [
    {
     "name": "stdout",
     "output_type": "stream",
     "text": [
      ":: loading settings :: url = jar:file:/opt/conda/lib/python3.12/site-packages/pyspark/jars/ivy-2.5.1.jar!/org/apache/ivy/core/settings/ivysettings.xml\n"
     ]
    },
    {
     "name": "stderr",
     "output_type": "stream",
     "text": [
      "Ivy Default Cache set to: /home/jovyan/.ivy2/cache\n",
      "The jars for the packages stored in: /home/jovyan/.ivy2/jars\n",
      "org.apache.hadoop#hadoop-aws added as a dependency\n",
      ":: resolving dependencies :: org.apache.spark#spark-submit-parent-dd83fd72-57eb-41c1-b563-f85d9b4ee854;1.0\n",
      "\tconfs: [default]\n",
      "\tfound org.apache.hadoop#hadoop-aws;3.3.4 in central\n",
      "\tfound com.amazonaws#aws-java-sdk-bundle;1.12.262 in central\n",
      "\tfound org.wildfly.openssl#wildfly-openssl;1.0.7.Final in central\n",
      "downloading https://repo1.maven.org/maven2/org/apache/hadoop/hadoop-aws/3.3.4/hadoop-aws-3.3.4.jar ...\n",
      "\t[SUCCESSFUL ] org.apache.hadoop#hadoop-aws;3.3.4!hadoop-aws.jar (587ms)\n",
      "downloading https://repo1.maven.org/maven2/com/amazonaws/aws-java-sdk-bundle/1.12.262/aws-java-sdk-bundle-1.12.262.jar ...\n",
      "\t[SUCCESSFUL ] com.amazonaws#aws-java-sdk-bundle;1.12.262!aws-java-sdk-bundle.jar (47774ms)\n",
      "downloading https://repo1.maven.org/maven2/org/wildfly/openssl/wildfly-openssl/1.0.7.Final/wildfly-openssl-1.0.7.Final.jar ...\n",
      "\t[SUCCESSFUL ] org.wildfly.openssl#wildfly-openssl;1.0.7.Final!wildfly-openssl.jar (207ms)\n",
      ":: resolution report :: resolve 7853ms :: artifacts dl 48599ms\n",
      "\t:: modules in use:\n",
      "\tcom.amazonaws#aws-java-sdk-bundle;1.12.262 from central in [default]\n",
      "\torg.apache.hadoop#hadoop-aws;3.3.4 from central in [default]\n",
      "\torg.wildfly.openssl#wildfly-openssl;1.0.7.Final from central in [default]\n",
      "\t---------------------------------------------------------------------\n",
      "\t|                  |            modules            ||   artifacts   |\n",
      "\t|       conf       | number| search|dwnlded|evicted|| number|dwnlded|\n",
      "\t---------------------------------------------------------------------\n",
      "\t|      default     |   3   |   3   |   3   |   0   ||   3   |   3   |\n",
      "\t---------------------------------------------------------------------\n",
      ":: retrieving :: org.apache.spark#spark-submit-parent-dd83fd72-57eb-41c1-b563-f85d9b4ee854\n",
      "\tconfs: [default]\n",
      "\t3 artifacts copied, 0 already retrieved (275421kB/4751ms)\n",
      "25/02/14 12:47:22 WARN NativeCodeLoader: Unable to load native-hadoop library for your platform... using builtin-java classes where applicable\n",
      "Setting default log level to \"WARN\".\n",
      "To adjust logging level use sc.setLogLevel(newLevel). For SparkR, use setLogLevel(newLevel).\n",
      "/opt/conda/lib/python3.12/site-packages/pyspark/sql/context.py:113: FutureWarning: Deprecated in 3.0.0. Use SparkSession.builder.getOrCreate() instead.\n",
      "  warnings.warn(\n"
     ]
    }
   ],
   "source": [
    "### Configuration Mac : utilisation de notebook Jupyter\n",
    "\n",
    "from pyspark import SparkContext, SparkConf\n",
    "\n",
    "conf = SparkConf() \\\n",
    "    .setAppName('SparkApp') \\\n",
    "    .setMaster('spark://spark:7077') \\\n",
    "    .set(\"spark.jars.packages\", \"org.apache.hadoop:hadoop-aws:3.3.4\") \\\n",
    "    .set(\"spark.sql.shuffle.partitions\", \"10\")\n",
    "\n",
    "\n",
    "sc = SparkContext.getOrCreate(conf=conf)\n",
    "\n",
    "from pyspark.sql import SQLContext\n",
    "# Créer un SQLContext pour les opérations SQL\n",
    "sql_context = SQLContext(sc)"
   ]
  },
  {
   "cell_type": "code",
   "execution_count": 9,
   "id": "ca77c7c6",
   "metadata": {},
   "outputs": [],
   "source": [
    "sc._jsc.hadoopConfiguration().set(\"fs.s3a.endpoint\", f\"http://{minio_ip_address}:9000\")\n",
    "sc._jsc.hadoopConfiguration().set(\"fs.s3a.access.key\", \"root\")\n",
    "sc._jsc.hadoopConfiguration().set(\"fs.s3a.secret.key\", \"password\")\n",
    "sc._jsc.hadoopConfiguration().set(\"fs.s3a.path.style.access\", \"true\")\n",
    "sc._jsc.hadoopConfiguration().set(\"fs.s3a.impl\", \"org.apache.hadoop.fs.s3a.S3AFileSystem\")\n",
    "sc._jsc.hadoopConfiguration().set(\"fs.s3a.connection.ssl.enabled\", \"false\")\n"
   ]
  },
  {
   "cell_type": "code",
   "execution_count": 19,
   "id": "299b2829",
   "metadata": {},
   "outputs": [],
   "source": [
    "from pyspark.sql.functions import explode, split, col\n",
    "\n",
    "# Définir la source (le répertoire \"data\" contenant les fichiers csv)\n",
    "input_dir = \"s3a://projet/data\"  # Répertoire de surveillance\n",
    "\n",
    "# Lire les fichiers CSV en tant que DataFrame statique\n",
    "df = sql_context.read.format(\"csv\").option(\"header\", \"true\").load(input_dir)\n"
   ]
  },
  {
   "cell_type": "code",
   "execution_count": 20,
   "id": "6559b641",
   "metadata": {},
   "outputs": [
    {
     "name": "stderr",
     "output_type": "stream",
     "text": [
      "[Stage 10:======================================>                   (2 + 1) / 3]\r"
     ]
    },
    {
     "name": "stdout",
     "output_type": "stream",
     "text": [
      "+------------------+--------------------+-----+\n",
      "|airportofdeparture|airportofdestination|count|\n",
      "+------------------+--------------------+-----+\n",
      "|              LFBO|                LFPO|  542|\n",
      "|              LEPA|                LEIB|  455|\n",
      "|              ENVA|                ENGM|  391|\n",
      "|              EDDB|                EDDF|  366|\n",
      "|              ENZV|                ENGM|  356|\n",
      "+------------------+--------------------+-----+\n",
      "\n"
     ]
    },
    {
     "name": "stderr",
     "output_type": "stream",
     "text": [
      "                                                                                \r"
     ]
    }
   ],
   "source": [
    "# Enregistrer le DataFrame en tant que table temporaire\n",
    "df.createOrReplaceTempView(\"flights\")\n",
    "\n",
    "# Top 5 de la correspondance la plus fréquente\n",
    "query = \"\"\"\n",
    "SELECT airportofdeparture, airportofdestination, COUNT(*) as count\n",
    "FROM flights\n",
    "WHERE airportofdeparture IS NOT NULL AND airportofdestination IS NOT NULL\n",
    "GROUP BY airportofdeparture, airportofdestination\n",
    "ORDER BY count DESC\n",
    "LIMIT 5\n",
    "\"\"\"\n",
    "\n",
    "top_5_couples = sql_context.sql(query)\n",
    "\n",
    "# Afficher les résultats\n",
    "top_5_couples.show()"
   ]
  },
  {
   "cell_type": "code",
   "execution_count": 23,
   "id": "1b2c9939",
   "metadata": {},
   "outputs": [
    {
     "name": "stderr",
     "output_type": "stream",
     "text": [
      "                                                                                \r"
     ]
    },
    {
     "name": "stdout",
     "output_type": "stream",
     "text": [
      "+--------+--------+-----+\n",
      "|airport1|airport2|count|\n",
      "+--------+--------+-----+\n",
      "|    LFBO|    LFPO|  891|\n",
      "|    LEIB|    LEPA|  762|\n",
      "|    EDDH|    EDDM|  636|\n",
      "|    LEBL|    LEMD|  614|\n",
      "|    EHAM|    LEBL|  602|\n",
      "+--------+--------+-----+\n",
      "\n"
     ]
    }
   ],
   "source": [
    "# Enregistrer le DataFrame en tant que table temporaire\n",
    "df.createOrReplaceTempView(\"flights\")\n",
    "\n",
    "# Top 5 de la route la plus fréquente\n",
    "query = \"\"\"\n",
    "SELECT \n",
    "    CASE \n",
    "        WHEN airportofdeparture < airportofdestination THEN airportofdeparture \n",
    "        ELSE airportofdestination \n",
    "    END as airport1,\n",
    "    CASE \n",
    "        WHEN airportofdeparture < airportofdestination THEN airportofdestination \n",
    "        ELSE airportofdeparture \n",
    "    END as airport2,\n",
    "    COUNT(*) as count\n",
    "FROM flights\n",
    "WHERE airportofdeparture IS NOT NULL AND airportofdestination IS NOT NULL\n",
    "GROUP BY airport1, airport2\n",
    "ORDER BY count DESC\n",
    "LIMIT 5\n",
    "\"\"\"\n",
    "\n",
    "top_connected_airports = sql_context.sql(query)\n",
    "\n",
    "# Afficher les résultats\n",
    "top_connected_airports.show()"
   ]
  }
 ],
 "metadata": {
  "kernelspec": {
   "display_name": "Python 3 (ipykernel)",
   "language": "python",
   "name": "python3"
  },
  "language_info": {
   "codemirror_mode": {
    "name": "ipython",
    "version": 3
   },
   "file_extension": ".py",
   "mimetype": "text/x-python",
   "name": "python",
   "nbconvert_exporter": "python",
   "pygments_lexer": "ipython3",
   "version": "3.12.8"
  }
 },
 "nbformat": 4,
 "nbformat_minor": 5
}
