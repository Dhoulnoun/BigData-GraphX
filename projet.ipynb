{
 "cells": [
  {
   "cell_type": "markdown",
   "id": "95dfba04",
   "metadata": {},
   "source": [
    "- Effectuer deux requêtes différentes en mode batch avec état (dont une sans fenêtre)\n"
   ]
  },
  {
   "cell_type": "markdown",
   "id": "9f05c625",
   "metadata": {},
   "source": [
    "# Init OpenSkyNetwork into Kafka"
   ]
  },
  {
   "cell_type": "code",
   "execution_count": 3,
   "id": "23a2cbcc",
   "metadata": {},
   "outputs": [],
   "source": [
    "import requests\n",
    "from kafka import KafkaProducer\n",
    "import json\n",
    "\n",
    "def send_openskynetwork_to_kafka(topic, url, fields={}):\n",
    "\n",
    "    # Kafka configuration\n",
    "    kafka_config = {\n",
    "        'bootstrap_servers': 'kafka1:9092',  # Update with your Kafka broker\n",
    "    }\n",
    "\n",
    "    # Initialize Kafka Producer\n",
    "    producer = KafkaProducer(\n",
    "        bootstrap_servers=kafka_config['bootstrap_servers'],\n",
    "        value_serializer=lambda v: json.dumps(v).encode('utf-8')\n",
    "    )\n",
    "\n",
    "    # Fetch data from OpenSkyNetwork\n",
    "    \n",
    "    response = requests.get(url)\n",
    "\n",
    "    if response.status_code == 200:\n",
    "        datas = response.json()\n",
    "        for data in datas:\n",
    "            # Send data to Kafka\n",
    "            producer.send(topic, value=data)\n",
    "\n",
    "            # Ensure all messages are sent\n",
    "            producer.flush()\n",
    "        print(f\"Sent {len(datas)} records.\")\n",
    "    else:\n",
    "        print(f\"Failed to fetch data: {response.status_code}\")"
   ]
  },
  {
   "cell_type": "markdown",
   "id": "2526191c",
   "metadata": {},
   "source": [
    "# Init beginning"
   ]
  },
  {
   "cell_type": "code",
   "execution_count": null,
   "id": "dda35824",
   "metadata": {},
   "outputs": [],
   "source": [
    "from datetime import datetime, timedelta\n",
    "# \"icao24\": \"3c660d\",\n",
    "# \"firstSeen\": 1517223009,\n",
    "# \"estDepartureAirport\": null,\n",
    "# \"lastSeen\": 1517227287,\n",
    "# \"estArrivalAirport\": \"EDDF\",\n",
    "# \"callsign\": \"DLH811  \",\n",
    "# \"estDepartureAirportHorizDistance\": null,\n",
    "# \"estDepartureAirportVertDistance\": null,\n",
    "# \"estArrivalAirportHorizDistance\": 1498,\n",
    "# \"estArrivalAirportVertDistance\": 103,\n",
    "# \"departureAirportCandidatesCount\": 0,\n",
    "# \"arrivalAirportCandidatesCount\": 2\n",
    "\n",
    "\n",
    "# api doc https://openskynetwork.github.io/opensky-api/rest.html\n",
    "api_url = \"https://opensky-network.org/api/flights/arrival?airport={}&begin={}&end={}\"\n",
    "\n",
    "# Airport code\n",
    "airports = [\"EDDF\", \"EDDM\", \"EDDB\", \"LOWS\", \"LFPG\", \"EHAM\", \"LEMD\", \"LIRF\", \"LEBL\"]\n",
    "\n",
    "# durée de récupération (minutes)\n",
    "step = 60*24*7\n",
    "\n",
    "# 7 derniers jours\n",
    "end = datetime.now()\n",
    "begin = end - timedelta(minutes=step)\n",
    "\n"
   ]
  },
  {
   "cell_type": "markdown",
   "id": "e938344d",
   "metadata": {},
   "source": [
    "# Appel OpenSkyNetwork"
   ]
  },
  {
   "cell_type": "code",
   "execution_count": 18,
   "id": "0d786146",
   "metadata": {},
   "outputs": [
    {
     "name": "stdout",
     "output_type": "stream",
     "text": [
      "https://opensky-network.org/api/flights/arrival?airport=EDDF&begin=1739123649&end=1739728449\n",
      "Failed to fetch data: 429\n",
      "https://opensky-network.org/api/flights/arrival?airport=EDDM&begin=1739123649&end=1739728449\n",
      "Failed to fetch data: 429\n",
      "https://opensky-network.org/api/flights/arrival?airport=EDDB&begin=1739123649&end=1739728449\n",
      "Failed to fetch data: 429\n",
      "https://opensky-network.org/api/flights/arrival?airport=LOWS&begin=1739123649&end=1739728449\n",
      "Failed to fetch data: 429\n",
      "https://opensky-network.org/api/flights/arrival?airport=LFPG&begin=1739123649&end=1739728449\n",
      "Failed to fetch data: 429\n",
      "https://opensky-network.org/api/flights/arrival?airport=EHAM&begin=1739123649&end=1739728449\n",
      "Failed to fetch data: 429\n",
      "https://opensky-network.org/api/flights/arrival?airport=LEMD&begin=1739123649&end=1739728449\n",
      "Failed to fetch data: 429\n",
      "https://opensky-network.org/api/flights/arrival?airport=LIRF&begin=1739123649&end=1739728449\n",
      "Failed to fetch data: 429\n",
      "https://opensky-network.org/api/flights/arrival?airport=LEBL&begin=1739123649&end=1739728449\n",
      "Failed to fetch data: 429\n"
     ]
    }
   ],
   "source": [
    "for airport in airports:\n",
    "    print(api_url.format(airport, int(begin.timestamp()), int(end.timestamp())))\n",
    "    send_openskynetwork_to_kafka(\"arrivals\", api_url.format(airport, int(begin.timestamp()), int(end.timestamp())))"
   ]
  },
  {
   "cell_type": "markdown",
   "id": "74812e56",
   "metadata": {},
   "source": [
    "# Init Spark"
   ]
  },
  {
   "cell_type": "code",
   "execution_count": 7,
   "id": "1c2bd880",
   "metadata": {},
   "outputs": [
    {
     "name": "stdout",
     "output_type": "stream",
     "text": [
      ":: loading settings :: url = jar:file:/opt/conda/lib/python3.12/site-packages/pyspark/jars/ivy-2.5.1.jar!/org/apache/ivy/core/settings/ivysettings.xml\n"
     ]
    },
    {
     "name": "stderr",
     "output_type": "stream",
     "text": [
      "Ivy Default Cache set to: /home/jovyan/.ivy2/cache\n",
      "The jars for the packages stored in: /home/jovyan/.ivy2/jars\n",
      "org.apache.hadoop#hadoop-aws added as a dependency\n",
      "org.apache.spark#spark-sql-kafka-0-10_2.12 added as a dependency\n",
      ":: resolving dependencies :: org.apache.spark#spark-submit-parent-656ad5a0-6424-41f9-9e21-7d3c8cee810c;1.0\n",
      "\tconfs: [default]\n",
      "\tfound org.apache.hadoop#hadoop-aws;3.3.4 in central\n",
      "\tfound com.amazonaws#aws-java-sdk-bundle;1.12.262 in central\n",
      "\tfound org.wildfly.openssl#wildfly-openssl;1.0.7.Final in central\n",
      "\tfound org.apache.spark#spark-sql-kafka-0-10_2.12;3.5.3 in central\n",
      "\tfound org.apache.spark#spark-token-provider-kafka-0-10_2.12;3.5.3 in central\n",
      "\tfound org.apache.kafka#kafka-clients;3.4.1 in central\n",
      "\tfound org.lz4#lz4-java;1.8.0 in central\n",
      "\tfound org.xerial.snappy#snappy-java;1.1.10.5 in central\n",
      "\tfound org.slf4j#slf4j-api;2.0.7 in central\n",
      "\tfound org.apache.hadoop#hadoop-client-runtime;3.3.4 in central\n",
      "\tfound org.apache.hadoop#hadoop-client-api;3.3.4 in central\n",
      "\tfound commons-logging#commons-logging;1.1.3 in central\n",
      "\tfound com.google.code.findbugs#jsr305;3.0.0 in central\n",
      "\tfound org.apache.commons#commons-pool2;2.11.1 in central\n",
      ":: resolution report :: resolve 1153ms :: artifacts dl 25ms\n",
      "\t:: modules in use:\n",
      "\tcom.amazonaws#aws-java-sdk-bundle;1.12.262 from central in [default]\n",
      "\tcom.google.code.findbugs#jsr305;3.0.0 from central in [default]\n",
      "\tcommons-logging#commons-logging;1.1.3 from central in [default]\n",
      "\torg.apache.commons#commons-pool2;2.11.1 from central in [default]\n",
      "\torg.apache.hadoop#hadoop-aws;3.3.4 from central in [default]\n",
      "\torg.apache.hadoop#hadoop-client-api;3.3.4 from central in [default]\n",
      "\torg.apache.hadoop#hadoop-client-runtime;3.3.4 from central in [default]\n",
      "\torg.apache.kafka#kafka-clients;3.4.1 from central in [default]\n",
      "\torg.apache.spark#spark-sql-kafka-0-10_2.12;3.5.3 from central in [default]\n",
      "\torg.apache.spark#spark-token-provider-kafka-0-10_2.12;3.5.3 from central in [default]\n",
      "\torg.lz4#lz4-java;1.8.0 from central in [default]\n",
      "\torg.slf4j#slf4j-api;2.0.7 from central in [default]\n",
      "\torg.wildfly.openssl#wildfly-openssl;1.0.7.Final from central in [default]\n",
      "\torg.xerial.snappy#snappy-java;1.1.10.5 from central in [default]\n",
      "\t---------------------------------------------------------------------\n",
      "\t|                  |            modules            ||   artifacts   |\n",
      "\t|       conf       | number| search|dwnlded|evicted|| number|dwnlded|\n",
      "\t---------------------------------------------------------------------\n",
      "\t|      default     |   14  |   0   |   0   |   0   ||   14  |   0   |\n",
      "\t---------------------------------------------------------------------\n",
      ":: retrieving :: org.apache.spark#spark-submit-parent-656ad5a0-6424-41f9-9e21-7d3c8cee810c\n",
      "\tconfs: [default]\n",
      "\t0 artifacts copied, 14 already retrieved (0kB/10ms)\n",
      "25/02/16 17:55:56 WARN NativeCodeLoader: Unable to load native-hadoop library for your platform... using builtin-java classes where applicable\n",
      "Setting default log level to \"WARN\".\n",
      "To adjust logging level use sc.setLogLevel(newLevel). For SparkR, use setLogLevel(newLevel).\n",
      "/opt/conda/lib/python3.12/site-packages/pyspark/sql/context.py:113: FutureWarning: Deprecated in 3.0.0. Use SparkSession.builder.getOrCreate() instead.\n",
      "  warnings.warn(\n"
     ]
    }
   ],
   "source": [
    "from pyspark.sql import SparkSession, SQLContext\n",
    "from pyspark import SparkContext, SparkConf\n",
    "\n",
    "conf = SparkConf() \\\n",
    "    .setAppName('SparkApp') \\\n",
    "    .setMaster('spark://spark:7077') \\\n",
    "    .set(\"spark.jars.packages\", \"org.apache.hadoop:hadoop-aws:3.3.4,org.apache.spark:spark-sql-kafka-0-10_2.12:3.5.3\") \\\n",
    "    .set(\"spark.sql.shuffle.partitions\", \"10\")\n",
    " \n",
    "\n",
    "sc = SparkContext.getOrCreate(conf=conf)\n",
    "\n",
    "# Créer un SQLContext pour les opérations SQL\n",
    "sql_context = SQLContext(sc)\n"
   ]
  },
  {
   "cell_type": "code",
   "execution_count": 8,
   "id": "db98d979",
   "metadata": {},
   "outputs": [
    {
     "data": {
      "text/plain": [
       "DataFrame[window_start: timestamp, window_end: timestamp, num_arrivals: bigint]"
      ]
     },
     "execution_count": 8,
     "metadata": {},
     "output_type": "execute_result"
    }
   ],
   "source": [
    "from pyspark.sql import SparkSession\n",
    "from pyspark.sql.types import StructType, StructField, StringType, IntegerType, TimestampType, FloatType\n",
    "from pyspark.sql.functions import col, desc, sum, mean, min, max, lit, coalesce, bucket, from_json, col, window, avg\n",
    "\n",
    "\n",
    "# Kafka configuration\n",
    "kafka_broker = \"kafka1:9092\"\n",
    "kafka_topic = \"arrivals\"\n",
    "\n",
    "# \"icao24\": \"3c660d\",\n",
    "# \"firstSeen\": 1517223009,\n",
    "# \"estDepartureAirport\": null,\n",
    "# \"lastSeen\": 1517227287,\n",
    "# \"estArrivalAirport\": \"EDDF\",\n",
    "# \"callsign\": \"DLH811  \",\n",
    "# \"estDepartureAirportHorizDistance\": null,\n",
    "# \"estDepartureAirportVertDistance\": null,\n",
    "# \"estArrivalAirportHorizDistance\": 1498,\n",
    "# \"estArrivalAirportVertDistance\": 103,\n",
    "# \"departureAirportCandidatesCount\": 0,\n",
    "# \"arrivalAirportCandidatesCount\": 2\n",
    "\n",
    "# Define schema for the Kafka message\n",
    "schema = StructType([\n",
    "    StructField(\"lastSeen\", IntegerType(), True),\n",
    "    StructField(\"estArrivalAirport\", StringType(), True)\n",
    "])\n",
    "\n",
    "# Read raw data from Kafka\n",
    "raw_stream = sql_context.read \\\n",
    "    .format(\"kafka\") \\\n",
    "    .option(\"kafka.bootstrap.servers\", kafka_broker) \\\n",
    "    .option(\"subscribe\", kafka_topic) \\\n",
    "    .option(\"startingOffsets\", \"earliest\") \\\n",
    "    .load()\n",
    "\n",
    "# Parse Kafka messages\n",
    "parsed_stream = raw_stream.selectExpr(\"CAST(value AS STRING) AS message\") \\\n",
    "    .select(from_json(col(\"message\"), schema).alias(\"data\")) \\\n",
    "    .select(\n",
    "        col(\"data.lastSeen\").cast(TimestampType()).alias(\"ArrivalTime\"),\n",
    "        col(\"data.estArrivalAirport\").alias(\"Airport\")\n",
    "    )\n",
    "\n",
    "\n",
    "\n",
    "# Compute number of arrivals over a 5-minute window\n",
    "rolling_numbers = parsed_stream \\\n",
    "    .groupBy(window(col(\"ArrivalTime\"), \"60 minutes\")) \\\n",
    "    .count() \\\n",
    "    .select(\n",
    "        col(\"window.start\").alias(\"window_start\"),\n",
    "        col(\"window.end\").alias(\"window_end\"),\n",
    "        col(\"count\").alias(\"num_arrivals\")\n",
    "    ).orderBy(\"window_start\")\n",
    "rolling_numbers"
   ]
  },
  {
   "cell_type": "code",
   "execution_count": 9,
   "id": "fc366e39",
   "metadata": {},
   "outputs": [
    {
     "name": "stderr",
     "output_type": "stream",
     "text": [
      "25/02/16 17:59:59 WARN AdminClientConfig: These configurations '[key.deserializer, value.deserializer, enable.auto.commit, max.poll.records, auto.offset.reset]' were supplied but are not used yet.\n",
      "                                                                                \r"
     ]
    },
    {
     "data": {
      "image/png": "[encoded data removed]",
      "text/plain": [
       "<Figure size 640x480 with 1 Axes>"
      ]
     },
     "metadata": {},
     "output_type": "display_data"
    }
   ],
   "source": [
    "\n",
    "# Collect the result as a Pandas DataFrame\n",
    "pandas_df = rolling_numbers.toPandas()\n",
    "pandas_df\n",
    "\n",
    "import seaborn as sns\n",
    "import matplotlib.dates as md\n",
    "\n",
    "g = sns.lineplot(data=pandas_df, x=\"window_start\", y=\"num_arrivals\")\n",
    "g.xaxis.set_major_formatter(md.DateFormatter('%d/%m\\n%H:%M'))\n"
   ]
  },
  {
   "cell_type": "markdown",
   "id": "c6d98185",
   "metadata": {},
   "source": [
    "Nous observons un pattern réccurent sur l'atterrissage des avions par jour."
   ]
  },
  {
   "cell_type": "markdown",
   "id": "b34bf0a2",
   "metadata": {},
   "source": [
    "# mode batch sans fenêtre"
   ]
  },
  {
   "cell_type": "code",
   "execution_count": 16,
   "id": "8f97df7b",
   "metadata": {},
   "outputs": [
    {
     "name": "stderr",
     "output_type": "stream",
     "text": [
      "25/02/16 18:07:39 WARN AdminClientConfig: These configurations '[key.deserializer, value.deserializer, enable.auto.commit, max.poll.records, auto.offset.reset]' were supplied but are not used yet.\n",
      "25/02/16 18:07:39 WARN AdminClientConfig: These configurations '[key.deserializer, value.deserializer, enable.auto.commit, max.poll.records, auto.offset.reset]' were supplied but are not used yet.\n",
      "                                                                                \r"
     ]
    },
    {
     "data": {
      "text/plain": [
       "DataFrame[estDepartureAirport: string, estArrivalAirport: string, flight_count: bigint]"
      ]
     },
     "execution_count": 16,
     "metadata": {},
     "output_type": "execute_result"
    }
   ],
   "source": [
    "# \"icao24\": \"3c660d\",\n",
    "# \"firstSeen\": 1517223009,\n",
    "# \"estDepartureAirport\": null,\n",
    "# \"lastSeen\": 1517227287,\n",
    "# \"estArrivalAirport\": \"EDDF\",\n",
    "# \"callsign\": \"DLH811  \",\n",
    "# \"estDepartureAirportHorizDistance\": null,\n",
    "# \"estDepartureAirportVertDistance\": null,\n",
    "# \"estArrivalAirportHorizDistance\": 1498,\n",
    "# \"estArrivalAirportVertDistance\": 103,\n",
    "# \"departureAirportCandidatesCount\": 0,\n",
    "# \"arrivalAirportCandidatesCount\": 2\n",
    "\n",
    "# Define schema for the Kafka message\n",
    "schema = StructType([\n",
    "    StructField(\"icao24\", StringType(), True),\n",
    "    StructField(\"firstSeen\", IntegerType(), True),\n",
    "    StructField(\"estDepartureAirport\", StringType(), True),\n",
    "    StructField(\"lastSeen\", IntegerType(), True),\n",
    "    StructField(\"estArrivalAirport\", StringType(), True),\n",
    "    StructField(\"callsign\", StringType(), True),\n",
    "    StructField(\"estDepartureAirportHorizDistance\", IntegerType(), True),\n",
    "    StructField(\"estDepartureAirportVertDistance\", IntegerType(), True),\n",
    "    StructField(\"estArrivalAirportHorizDistance\", IntegerType(), True),\n",
    "    StructField(\"estArrivalAirportVertDistance\", IntegerType(), True),\n",
    "    StructField(\"departureAirportCandidatesCount\", IntegerType(), True),\n",
    "    StructField(\"arrivalAirportCandidatesCount\", IntegerType(), True)\n",
    "])\n",
    "\n",
    "\n",
    "# Charger les données depuis Kafka \n",
    "df = sql_context.read \\\n",
    "    .format(\"kafka\") \\\n",
    "    .option(\"kafka.bootstrap.servers\", kafka_broker) \\\n",
    "    .option(\"subscribe\", kafka_topic) \\\n",
    "    .option(\"startingOffsets\", \"earliest\") \\\n",
    "    .option(\"endingOffsets\", \"latest\") \\\n",
    "    .load()\n",
    "\n",
    "# Convertir la valeur en String et parser le JSON\n",
    "flight_data = df \\\n",
    "    .selectExpr(\"CAST(value AS STRING)\") \\\n",
    "    .select(from_json(col(\"value\"), schema) \\\n",
    "    .alias(\"data\")) \\\n",
    "    .select(\"data.*\")\n",
    "\n",
    "# creer un DF pour le nombre de vols entre chaque paire origine-destination\n",
    "flight_counts = flight_data \\\n",
    "    .groupBy(\"estDepartureAirport\", \"estArrivalAirport\") \\\n",
    "    .count() \\\n",
    "    .withColumnRenamed(\"count\", \"flight_count\")\n",
    "\n",
    "# Créer un DataFrame pour les arêtes (vols)\n",
    "nbVols = flight_counts.select(\n",
    "    col(\"estDepartureAirport\").alias(\"src\"),\n",
    "    col(\"estArrivalAirport\").alias(\"dst\"),\n",
    "    col(\"flight_count\")\n",
    ")\n",
    "# on se limite au 15 aéroports les plus fréquentés\n",
    "top_n = 15\n",
    "\n",
    "# Identifier les aéroports les plus fréquentés (combinaison de départs et arrivées)\n",
    "top_airports = (\n",
    "    flight_counts.select(\"estDepartureAirport\").union(flight_counts.select(\"estArrivalAirport\"))\n",
    "    .groupBy(\"estDepartureAirport\").count()\n",
    "    .orderBy(desc(\"count\"))\n",
    "    .limit(top_n)\n",
    "    .select(\"estDepartureAirport\").collect()\n",
    ")\n",
    "top_airport_codes = [row['estDepartureAirport'] for row in top_airports]\n",
    "\n",
    "# Filtrer le dataframe pour n'inclure que les vols entre ces aéroports principaux\n",
    "filtered_counts = flight_counts.filter(\n",
    "    (col(\"estDepartureAirport\").isin(top_airport_codes)) & \n",
    "    (col(\"estArrivalAirport\").isin(top_airport_codes))\n",
    ")\n",
    "\n",
    "filtered_counts"
   ]
  },
  {
   "cell_type": "code",
   "execution_count": 17,
   "id": "86804e6a",
   "metadata": {},
   "outputs": [
    {
     "name": "stderr",
     "output_type": "stream",
     "text": [
      "25/02/16 18:07:50 WARN AdminClientConfig: These configurations '[key.deserializer, value.deserializer, enable.auto.commit, max.poll.records, auto.offset.reset]' were supplied but are not used yet.\n",
      "25/02/16 18:07:53 WARN AdminClientConfig: These configurations '[key.deserializer, value.deserializer, enable.auto.commit, max.poll.records, auto.offset.reset]' were supplied but are not used yet.\n"
     ]
    },
    {
     "name": "stdout",
     "output_type": "stream",
     "text": [
      "+----+----+------------+\n",
      "| src| dst|flight_count|\n",
      "+----+----+------------+\n",
      "|NULL|EDDF|         840|\n",
      "|NULL|EDDM|         409|\n",
      "|EGLL|EDDF|         101|\n",
      "|EGLL|EDDM|          91|\n",
      "|EDDF|EDDM|          85|\n",
      "|EDDB|EDDF|          84|\n",
      "|EDDM|EDDF|          84|\n",
      "|EDDH|EDDM|          81|\n",
      "|EHAM|EDDM|          77|\n",
      "|EDDL|EDDM|          77|\n",
      "|EDDH|EDDF|          76|\n",
      "|LOWW|EDDF|          76|\n",
      "|EDDB|EDDM|          71|\n",
      "|LFPG|EDDF|          69|\n",
      "|EHAM|EDDF|          66|\n",
      "+----+----+------------+\n",
      "\n"
     ]
    },
    {
     "name": "stderr",
     "output_type": "stream",
     "text": [
      "                                                                                \r"
     ]
    },
    {
     "data": {
      "image/png": "[encoded data removed]",
      "text/plain": [
       "<Figure size 1400x800 with 1 Axes>"
      ]
     },
     "metadata": {},
     "output_type": "display_data"
    }
   ],
   "source": [
    "\n",
    "from matplotlib.pylab import mean\n",
    "import pandas as pd\n",
    "import seaborn as sns\n",
    "import matplotlib.pyplot as plt\n",
    "# Trouver les routes les plus empruntées\n",
    "top_routes = nbVols.orderBy(desc(\"flight_count\")).limit(top_n)\n",
    "top_routes.show()\n",
    "\n",
    "# Convertir en pandas pour visualisation avec Seaborn\n",
    "top_routes_pd = top_routes.toPandas()\n",
    "\n",
    "# Créer des visualisations\n",
    "plt.figure(figsize=(14, 8))\n",
    "\n",
    "# Graphique des routes les plus fréquentées\n",
    "plt.subplot(1, 2, 2)\n",
    "sns.boxplot\n",
    "sns.barplot(x=\"flight_count\", y=top_routes_pd.apply(lambda x: f\"{x['src']}-{x['dst']}\", axis=1), \n",
    "            data=top_routes_pd, orient=\"h\")\n",
    "plt.title(\"Routes les plus fréquentées\")\n",
    "plt.tight_layout()\n",
    "\n",
    "plt.savefig(\"aviation_network_analysis.png\")\n",
    "plt.show()\n",
    "plt.close()"
   ]
  },
  {
   "cell_type": "code",
   "execution_count": null,
   "id": "6a3bab89",
   "metadata": {},
   "outputs": [
    {
     "ename": "NameError",
     "evalue": "name 'top_n' is not defined",
     "output_type": "error",
     "traceback": [
      "\u001b[0;31m---------------------------------------------------------------------------\u001b[0m",
      "\u001b[0;31mNameError\u001b[0m                                 Traceback (most recent call last)",
      "Cell \u001b[0;32mIn[14], line 41\u001b[0m\n\u001b[1;32m     38\u001b[0m total_possible_routes \u001b[38;5;241m=\u001b[39m \u001b[38;5;28mlen\u001b[39m(top_airport_codes) \u001b[38;5;241m*\u001b[39m \u001b[38;5;28mlen\u001b[39m(top_airport_codes)\n\u001b[1;32m     39\u001b[0m connectivity_ratio \u001b[38;5;241m=\u001b[39m nonzero_routes \u001b[38;5;241m/\u001b[39m total_possible_routes\n\u001b[0;32m---> 41\u001b[0m \u001b[38;5;28mprint\u001b[39m(\u001b[38;5;124mf\u001b[39m\u001b[38;5;124m\"\u001b[39m\u001b[38;5;124mParmi les \u001b[39m\u001b[38;5;132;01m{\u001b[39;00m\u001b[43mtop_n\u001b[49m\u001b[38;5;132;01m}\u001b[39;00m\u001b[38;5;124m principaux aéroports:\u001b[39m\u001b[38;5;124m\"\u001b[39m)\n\u001b[1;32m     42\u001b[0m \u001b[38;5;28mprint\u001b[39m(\u001b[38;5;124mf\u001b[39m\u001b[38;5;124m\"\u001b[39m\u001b[38;5;124mNombre total de routes possibles: \u001b[39m\u001b[38;5;132;01m{\u001b[39;00mtotal_possible_routes\u001b[38;5;132;01m}\u001b[39;00m\u001b[38;5;124m\"\u001b[39m)\n\u001b[1;32m     43\u001b[0m \u001b[38;5;28mprint\u001b[39m(\u001b[38;5;124mf\u001b[39m\u001b[38;5;124m\"\u001b[39m\u001b[38;5;124mNombre de routes effectivement desservies: \u001b[39m\u001b[38;5;132;01m{\u001b[39;00mnonzero_routes\u001b[38;5;132;01m}\u001b[39;00m\u001b[38;5;124m\"\u001b[39m)\n",
      "\u001b[0;31mNameError\u001b[0m: name 'top_n' is not defined"
     ]
    }
   ],
   "source": [
    "# Convertir en pandas pour le pivot\n",
    "matrix_data = filtered_counts.toPandas()\n",
    "\n",
    "# Créer la matrice pivot\n",
    "flight_matrix = matrix_data.pivot(index='estDepartureAirport', columns='estArrivalAirport', values='flight_count')\n",
    "flight_matrix = flight_matrix.fillna(0)  # Remplacer les NaN par 0\n",
    "\n",
    "# Créer le heatmap\n",
    "plt.figure(figsize=(16, 12))\n",
    "ax = sns.heatmap(\n",
    "    flight_matrix,\n",
    "    annot=True,           # Afficher les valeurs\n",
    "    fmt='g',              # Format des nombres (entiers)\n",
    "    cmap='YlGnBu',        # Palette de couleurs (jaune-vert-bleu)\n",
    "    linewidths=0.5,       # Lignes entre les cellules\n",
    "    cbar_kws={'label': 'Nombre de vols'}\n",
    ")\n",
    "\n",
    "# Ajuster les étiquettes et le titre\n",
    "plt.title('Nombre de vols entre les principaux aéroports', fontsize=16)\n",
    "plt.xlabel('Destinations', fontsize=12)\n",
    "plt.ylabel('Origines', fontsize=12)\n",
    "\n",
    "# Rotation des étiquettes pour la lisibilité\n",
    "plt.xticks(rotation=45, ha='right')\n",
    "plt.yticks(rotation=0)\n",
    "\n",
    "# Ajuster la mise en page\n",
    "plt.tight_layout()\n",
    "\n",
    "# Sauvegarder et afficher\n",
    "plt.savefig(\"/tmp/flight_heatmap_origin_destination.png\", dpi=300)\n",
    "# plt.show()\n",
    "plt.close()\n",
    "\n",
    "# Obtenir quelques statistiques sur cette matrice\n",
    "nonzero_routes = (flight_matrix > 0).sum().sum()\n",
    "total_possible_routes = len(top_airport_codes) * len(top_airport_codes)\n",
    "connectivity_ratio = nonzero_routes / total_possible_routes\n",
    "\n",
    "print(f\"Parmi les {top_n} principaux aéroports:\")\n",
    "print(f\"Nombre total de routes possibles: {total_possible_routes}\")\n",
    "print(f\"Nombre de routes effectivement desservies: {nonzero_routes}\")\n",
    "print(f\"Ratio de connectivité: {connectivity_ratio:.2%}\")\n",
    "print(f\"Nombre moyen de vols par route active: {flight_matrix.sum().sum() / nonzero_routes:.1f}\")"
   ]
  },
  {
   "metadata": {},
   "cell_type": "markdown",
   "source": "#### Partie 4",
   "id": "69607d8d641ca9a3"
  },
  {
   "metadata": {
    "ExecuteTime": {
     "end_time": "2025-02-14T16:01:45.390458Z",
     "start_time": "2025-02-14T16:01:45.043385Z"
    }
   },
   "cell_type": "code",
   "source": [
    "from kafka import KafkaProducer\n",
    "import requests\n",
    "import json\n",
    "import time\n",
    "\n",
    "\n",
    "OPENSKY_URL = \"https://opensky-network.org/api/states/all\"\n",
    "USERNAME = 'NaguiFanAccount'\n",
    "PASSWORD = 'votre_mot_de_passe'\n",
    "\n",
    "# Configuration de Kafka\n",
    "KAFKA_BROKER = 'localhost:9092'  # À adapter selon ton environnement\n",
    "TOPIC = 'opensky-flights'\n",
    "\n",
    "# Création du producteur Kafka\n",
    "producer = KafkaProducer(\n",
    "    bootstrap_servers=[KAFKA_BROKER],\n",
    "    value_serializer=lambda x: json.dumps(x).encode('utf-8')\n",
    ")\n",
    "\n",
    "def fetch_opensky_data():\n",
    "    try:\n",
    "        response = requests.get(OPENSKY_URL, auth=(USERNAME, PASSWORD))\n",
    "        if response.status_code == 200:\n",
    "            data = response.json()\n",
    "            return data['states']\n",
    "        else:\n",
    "            print(\"Erreur lors de la récupération des données :\", response.status_code)\n",
    "            return None\n",
    "    except Exception as e:\n",
    "        print(\"Exception :\", e)\n",
    "        return None\n",
    "\n",
    "if __name__ == \"__main__\":\n",
    "    while True:\n",
    "        flights_data = fetch_opensky_data()\n",
    "        if flights_data:\n",
    "            for flight in flights_data:\n",
    "                # Envoyer chaque vol à Kafka\n",
    "                producer.send(TOPIC, value=flight)\n",
    "                print(\"Donnée envoyée :\", flight)\n",
    "\n",
    "        time.sleep(60)  # Pause de 60 secondes entre chaque collecte pour respecter le rate limit\n"
   ],
   "id": "a392c1603885cd43",
   "outputs": [
    {
     "ename": "NoBrokersAvailable",
     "evalue": "NoBrokersAvailable",
     "output_type": "error",
     "traceback": [
      "\u001B[0;31m---------------------------------------------------------------------------\u001B[0m",
      "\u001B[0;31mNoBrokersAvailable\u001B[0m                        Traceback (most recent call last)",
      "Cell \u001B[0;32mIn[15], line 16\u001B[0m\n\u001B[1;32m     13\u001B[0m TOPIC \u001B[38;5;241m=\u001B[39m \u001B[38;5;124m'\u001B[39m\u001B[38;5;124mopensky-flights\u001B[39m\u001B[38;5;124m'\u001B[39m\n\u001B[1;32m     15\u001B[0m \u001B[38;5;66;03m# Création du producteur Kafka\u001B[39;00m\n\u001B[0;32m---> 16\u001B[0m producer \u001B[38;5;241m=\u001B[39m \u001B[43mKafkaProducer\u001B[49m\u001B[43m(\u001B[49m\n\u001B[1;32m     17\u001B[0m \u001B[43m    \u001B[49m\u001B[43mbootstrap_servers\u001B[49m\u001B[38;5;241;43m=\u001B[39;49m\u001B[43m[\u001B[49m\u001B[43mKAFKA_BROKER\u001B[49m\u001B[43m]\u001B[49m\u001B[43m,\u001B[49m\n\u001B[1;32m     18\u001B[0m \u001B[43m    \u001B[49m\u001B[43mvalue_serializer\u001B[49m\u001B[38;5;241;43m=\u001B[39;49m\u001B[38;5;28;43;01mlambda\u001B[39;49;00m\u001B[43m \u001B[49m\u001B[43mx\u001B[49m\u001B[43m:\u001B[49m\u001B[43m \u001B[49m\u001B[43mjson\u001B[49m\u001B[38;5;241;43m.\u001B[39;49m\u001B[43mdumps\u001B[49m\u001B[43m(\u001B[49m\u001B[43mx\u001B[49m\u001B[43m)\u001B[49m\u001B[38;5;241;43m.\u001B[39;49m\u001B[43mencode\u001B[49m\u001B[43m(\u001B[49m\u001B[38;5;124;43m'\u001B[39;49m\u001B[38;5;124;43mutf-8\u001B[39;49m\u001B[38;5;124;43m'\u001B[39;49m\u001B[43m)\u001B[49m\n\u001B[1;32m     19\u001B[0m \u001B[43m)\u001B[49m\n\u001B[1;32m     21\u001B[0m \u001B[38;5;28;01mdef\u001B[39;00m\u001B[38;5;250m \u001B[39m\u001B[38;5;21mfetch_opensky_data\u001B[39m():\n\u001B[1;32m     22\u001B[0m     \u001B[38;5;28;01mtry\u001B[39;00m:\n",
      "File \u001B[0;32m/opt/conda/lib/python3.12/site-packages/kafka/producer/kafka.py:383\u001B[0m, in \u001B[0;36mKafkaProducer.__init__\u001B[0;34m(self, **configs)\u001B[0m\n\u001B[1;32m    380\u001B[0m reporters \u001B[38;5;241m=\u001B[39m [reporter() \u001B[38;5;28;01mfor\u001B[39;00m reporter \u001B[38;5;129;01min\u001B[39;00m \u001B[38;5;28mself\u001B[39m\u001B[38;5;241m.\u001B[39mconfig[\u001B[38;5;124m'\u001B[39m\u001B[38;5;124mmetric_reporters\u001B[39m\u001B[38;5;124m'\u001B[39m]]\n\u001B[1;32m    381\u001B[0m \u001B[38;5;28mself\u001B[39m\u001B[38;5;241m.\u001B[39m_metrics \u001B[38;5;241m=\u001B[39m Metrics(metric_config, reporters)\n\u001B[0;32m--> 383\u001B[0m client \u001B[38;5;241m=\u001B[39m \u001B[38;5;28;43mself\u001B[39;49m\u001B[38;5;241;43m.\u001B[39;49m\u001B[43mconfig\u001B[49m\u001B[43m[\u001B[49m\u001B[38;5;124;43m'\u001B[39;49m\u001B[38;5;124;43mkafka_client\u001B[39;49m\u001B[38;5;124;43m'\u001B[39;49m\u001B[43m]\u001B[49m\u001B[43m(\u001B[49m\n\u001B[1;32m    384\u001B[0m \u001B[43m    \u001B[49m\u001B[43mmetrics\u001B[49m\u001B[38;5;241;43m=\u001B[39;49m\u001B[38;5;28;43mself\u001B[39;49m\u001B[38;5;241;43m.\u001B[39;49m\u001B[43m_metrics\u001B[49m\u001B[43m,\u001B[49m\u001B[43m \u001B[49m\u001B[43mmetric_group_prefix\u001B[49m\u001B[38;5;241;43m=\u001B[39;49m\u001B[38;5;124;43m'\u001B[39;49m\u001B[38;5;124;43mproducer\u001B[39;49m\u001B[38;5;124;43m'\u001B[39;49m\u001B[43m,\u001B[49m\n\u001B[1;32m    385\u001B[0m \u001B[43m    \u001B[49m\u001B[43mwakeup_timeout_ms\u001B[49m\u001B[38;5;241;43m=\u001B[39;49m\u001B[38;5;28;43mself\u001B[39;49m\u001B[38;5;241;43m.\u001B[39;49m\u001B[43mconfig\u001B[49m\u001B[43m[\u001B[49m\u001B[38;5;124;43m'\u001B[39;49m\u001B[38;5;124;43mmax_block_ms\u001B[39;49m\u001B[38;5;124;43m'\u001B[39;49m\u001B[43m]\u001B[49m\u001B[43m,\u001B[49m\n\u001B[1;32m    386\u001B[0m \u001B[43m    \u001B[49m\u001B[38;5;241;43m*\u001B[39;49m\u001B[38;5;241;43m*\u001B[39;49m\u001B[38;5;28;43mself\u001B[39;49m\u001B[38;5;241;43m.\u001B[39;49m\u001B[43mconfig\u001B[49m\u001B[43m)\u001B[49m\n\u001B[1;32m    388\u001B[0m \u001B[38;5;66;03m# Get auto-discovered version from client if necessary\u001B[39;00m\n\u001B[1;32m    389\u001B[0m \u001B[38;5;28;01mif\u001B[39;00m \u001B[38;5;28mself\u001B[39m\u001B[38;5;241m.\u001B[39mconfig[\u001B[38;5;124m'\u001B[39m\u001B[38;5;124mapi_version\u001B[39m\u001B[38;5;124m'\u001B[39m] \u001B[38;5;129;01mis\u001B[39;00m \u001B[38;5;28;01mNone\u001B[39;00m:\n",
      "File \u001B[0;32m/opt/conda/lib/python3.12/site-packages/kafka/client_async.py:244\u001B[0m, in \u001B[0;36mKafkaClient.__init__\u001B[0;34m(self, **configs)\u001B[0m\n\u001B[1;32m    242\u001B[0m \u001B[38;5;28;01mif\u001B[39;00m \u001B[38;5;28mself\u001B[39m\u001B[38;5;241m.\u001B[39mconfig[\u001B[38;5;124m'\u001B[39m\u001B[38;5;124mapi_version\u001B[39m\u001B[38;5;124m'\u001B[39m] \u001B[38;5;129;01mis\u001B[39;00m \u001B[38;5;28;01mNone\u001B[39;00m:\n\u001B[1;32m    243\u001B[0m     check_timeout \u001B[38;5;241m=\u001B[39m \u001B[38;5;28mself\u001B[39m\u001B[38;5;241m.\u001B[39mconfig[\u001B[38;5;124m'\u001B[39m\u001B[38;5;124mapi_version_auto_timeout_ms\u001B[39m\u001B[38;5;124m'\u001B[39m] \u001B[38;5;241m/\u001B[39m \u001B[38;5;241m1000\u001B[39m\n\u001B[0;32m--> 244\u001B[0m     \u001B[38;5;28mself\u001B[39m\u001B[38;5;241m.\u001B[39mconfig[\u001B[38;5;124m'\u001B[39m\u001B[38;5;124mapi_version\u001B[39m\u001B[38;5;124m'\u001B[39m] \u001B[38;5;241m=\u001B[39m \u001B[38;5;28;43mself\u001B[39;49m\u001B[38;5;241;43m.\u001B[39;49m\u001B[43mcheck_version\u001B[49m\u001B[43m(\u001B[49m\u001B[43mtimeout\u001B[49m\u001B[38;5;241;43m=\u001B[39;49m\u001B[43mcheck_timeout\u001B[49m\u001B[43m)\u001B[49m\n",
      "File \u001B[0;32m/opt/conda/lib/python3.12/site-packages/kafka/client_async.py:900\u001B[0m, in \u001B[0;36mKafkaClient.check_version\u001B[0;34m(self, node_id, timeout, strict)\u001B[0m\n\u001B[1;32m    898\u001B[0m \u001B[38;5;28;01mif\u001B[39;00m try_node \u001B[38;5;129;01mis\u001B[39;00m \u001B[38;5;28;01mNone\u001B[39;00m:\n\u001B[1;32m    899\u001B[0m     \u001B[38;5;28mself\u001B[39m\u001B[38;5;241m.\u001B[39m_lock\u001B[38;5;241m.\u001B[39mrelease()\n\u001B[0;32m--> 900\u001B[0m     \u001B[38;5;28;01mraise\u001B[39;00m Errors\u001B[38;5;241m.\u001B[39mNoBrokersAvailable()\n\u001B[1;32m    901\u001B[0m \u001B[38;5;28mself\u001B[39m\u001B[38;5;241m.\u001B[39m_maybe_connect(try_node)\n\u001B[1;32m    902\u001B[0m conn \u001B[38;5;241m=\u001B[39m \u001B[38;5;28mself\u001B[39m\u001B[38;5;241m.\u001B[39m_conns[try_node]\n",
      "\u001B[0;31mNoBrokersAvailable\u001B[0m: NoBrokersAvailable"
     ]
    }
   ],
   "execution_count": 15
  }
 ],
 "metadata": {
  "kernelspec": {
   "display_name": "Python 3 (ipykernel)",
   "language": "python",
   "name": "python3"
  },
  "language_info": {
   "codemirror_mode": {
    "name": "ipython",
    "version": 3
   },
   "file_extension": ".py",
   "mimetype": "text/x-python",
   "name": "python",
   "nbconvert_exporter": "python",
   "pygments_lexer": "ipython3",
   "version": "3.12.8"
  }
 },
 "nbformat": 4,
 "nbformat_minor": 5
}
